{
 "cells": [
  {
   "cell_type": "markdown",
   "source": [
    "# Parameterize a FMU\n",
    "Tutorial by Tobias Thummerer, Johannes Stoljar\n",
    "\n",
    "Last update: 09.08.2023\n",
    "\n",
    "🚧 This tutorial is under revision and will be replaced by an up-to-date version soon 🚧\n",
    "\n",
    "## License"
   ],
   "metadata": {}
  },
  {
   "outputs": [],
   "cell_type": "code",
   "source": [
    "# Copyright (c) 2021 Tobias Thummerer, Lars Mikelsons, Josef Kircher, Johannes Stoljar\n",
    "# Licensed under the MIT license. \n",
    "# See LICENSE (https://github.com/thummeto/FMI.jl/blob/main/LICENSE) file in the project root for details."
   ],
   "metadata": {
    "execution": {
     "iopub.status.idle": "2025-01-09T15:24:26.226000Z",
     "iopub.status.busy": "2025-01-09T15:24:25.460000Z",
     "iopub.execute_input": "2025-01-09T15:24:25.914000Z",
     "shell.execute_reply": "2025-01-09T15:24:26.164000Z"
    }
   },
   "execution_count": 1
  },
  {
   "cell_type": "markdown",
   "source": [
    "## Introduction\n",
    "This example shows how to parameterize a FMU. We will show to possible ways to parameterize: The default option using the parameterization feature of `fmiSimulate`, `fmiSimulateME` or `fmiSimulateCS`. Second, a custom parameterization routine for advanced users. \n",
    "\n",
    "## Other formats\n",
    "Besides, this [Jupyter Notebook](https://github.com/thummeto/FMI.jl/blob/examples/examples/src/parameterize.ipynb) there is also a [Julia file](https://github.com/thummeto/FMI.jl/blob/examples/examples/src/parameterize.jl) with the same name, which contains only the code cells and for the documentation there is a [Markdown file](https://github.com/thummeto/FMI.jl/blob/examples/examples/src/parameterize.md) corresponding to the notebook.  "
   ],
   "attachments": {},
   "metadata": {}
  },
  {
   "cell_type": "markdown",
   "source": [
    "## Code section\n",
    "\n",
    "To run the example, the previously installed packages must be included. "
   ],
   "metadata": {}
  },
  {
   "outputs": [
    {
     "name": "stderr",
     "output_type": "stream",
     "text": [
      "\u001b[33m\u001b[1m┌ \u001b[22m\u001b[39m\u001b[33m\u001b[1mWarning: \u001b[22m\u001b[39mCircular dependency detected. Precompilation will be skipped for:\n",
      "\u001b[33m\u001b[1m│ \u001b[22m\u001b[39m  NonlinearSolveBaseSparseMatrixColoringsExt [e3ecd195-ca82-5397-9546-f380c1e34951]\n",
      "\u001b[33m\u001b[1m│ \u001b[22m\u001b[39m  DiffEqBaseChainRulesCoreExt [b00db79b-61e3-50fb-b26f-2d35b2d9e4ed]\n",
      "\u001b[33m\u001b[1m│ \u001b[22m\u001b[39m  Transducers [28d57a85-8fef-5791-bfe6-a80928e7c999]\n",
      "\u001b[33m\u001b[1m│ \u001b[22m\u001b[39m  NonlinearSolve [8913a72c-1f9b-4ce2-8d82-65094dcecaec]\n",
      "\u001b[33m\u001b[1m│ \u001b[22m\u001b[39m  OrdinaryDiffEq [1dea7af3-3e70-54e6-95c3-0bf5283fa5ed]\n",
      "\u001b[33m\u001b[1m│ \u001b[22m\u001b[39m  DifferentialEquationsFMIExt [232470a1-1d28-551b-8e3b-d6141e70703a]\n",
      "\u001b[33m\u001b[1m│ \u001b[22m\u001b[39m  NonlinearSolveBaseForwardDiffExt [63d416d0-6995-5965-81e0-55251226d976]\n",
      "\u001b[33m\u001b[1m│ \u001b[22m\u001b[39m  Folds [41a02a25-b8f0-4f67-bc48-60067656b558]\n",
      "\u001b[33m\u001b[1m│ \u001b[22m\u001b[39m  LineSearchLineSearchesExt [8d20b31a-8b56-511a-b573-0bef60e8c8c7]\n",
      "\u001b[33m\u001b[1m│ \u001b[22m\u001b[39m  NonlinearSolveBandedMatricesExt [8800daa3-e725-5fa8-982f-091420a833d6]\n",
      "\u001b[33m\u001b[1m│ \u001b[22m\u001b[39m  OrdinaryDiffEqFunctionMap [d3585ca7-f5d3-4ba6-8057-292ed1abd90f]\n",
      "\u001b[33m\u001b[1m│ \u001b[22m\u001b[39m  LinearSolveEnzymeExt [133222a9-3015-5ee0-8b28-65fc8ed13c28]\n",
      "\u001b[33m\u001b[1m│ \u001b[22m\u001b[39m  OrdinaryDiffEqLinear [521117fe-8c41-49f8-b3b6-30780b3f0fb5]\n",
      "\u001b[33m\u001b[1m│ \u001b[22m\u001b[39m  OrdinaryDiffEqTsit5 [b1df2697-797e-41e3-8120-5422d3b24e4a]\n",
      "\u001b[33m\u001b[1m│ \u001b[22m\u001b[39m  TestExt [62af87b3-b810-57d2-b7eb-8929911df373]\n",
      "\u001b[33m\u001b[1m│ \u001b[22m\u001b[39m  OrdinaryDiffEqBDF [6ad6398a-0878-4a85-9266-38940aa047c8]\n",
      "\u001b[33m\u001b[1m│ \u001b[22m\u001b[39m  StaticArraysExt [6207fee4-2535-5e24-a3ba-6518da1c7d2a]\n",
      "\u001b[33m\u001b[1m│ \u001b[22m\u001b[39m  SparseDiffTools [47a9eef4-7e08-11e9-0b38-333d64bd3804]\n",
      "\u001b[33m\u001b[1m│ \u001b[22m\u001b[39m  OrdinaryDiffEqPRK [5b33eab2-c0f1-4480-b2c3-94bc1e80bda1]\n",
      "\u001b[33m\u001b[1m│ \u001b[22m\u001b[39m  OrdinaryDiffEqDefault [50262376-6c5a-4cf5-baba-aaf4f84d72d7]\n",
      "\u001b[33m\u001b[1m│ \u001b[22m\u001b[39m  BoundaryValueDiffEqShooting [ed55bfe0-3725-4db6-871e-a1dc9f42a757]\n",
      "\u001b[33m\u001b[1m│ \u001b[22m\u001b[39m  OrdinaryDiffEqRosenbrock [43230ef6-c299-4910-a778-202eb28ce4ce]\n",
      "\u001b[33m\u001b[1m│ \u001b[22m\u001b[39m  JumpProcesses [ccbc3e58-028d-4f4c-8cd5-9ae44345cda5]\n",
      "\u001b[33m\u001b[1m│ \u001b[22m\u001b[39m  SteadyStateDiffEq [9672c7b4-1e72-59bd-8a11-6ac3964bc41f]\n",
      "\u001b[33m\u001b[1m│ \u001b[22m\u001b[39m  OrdinaryDiffEqAdamsBashforthMoulton [89bda076-bce5-4f1c-845f-551c83cdda9a]\n",
      "\u001b[33m\u001b[1m│ \u001b[22m\u001b[39m  OrdinaryDiffEqExplicitRK [9286f039-9fbf-40e8-bf65-aa933bdc4db0]\n",
      "\u001b[33m\u001b[1m│ \u001b[22m\u001b[39m  OrdinaryDiffEqCore [bbf590c4-e513-4bbe-9b18-05decba2e5d8]\n",
      "\u001b[33m\u001b[1m│ \u001b[22m\u001b[39m  OrdinaryDiffEqCoreEnzymeCoreExt [ca1c724a-f4aa-55ef-b8e4-2f05449449ac]\n",
      "\u001b[33m\u001b[1m│ \u001b[22m\u001b[39m  OrdinaryDiffEqPDIRK [5dd0a6cf-3d4b-4314-aa06-06d4e299bc89]\n",
      "\u001b[33m\u001b[1m│ \u001b[22m\u001b[39m  MATExt [5e726ecd-5b00-51ec-bc99-f7ee9de03178]\n",
      "\u001b[33m\u001b[1m│ \u001b[22m\u001b[39m  NonlinearSolveNLsolveExt [ae262b1c-8c8a-50b1-9ef3-b8fcfb893e74]\n",
      "\u001b[33m\u001b[1m│ \u001b[22m\u001b[39m  OrdinaryDiffEqStabilizedRK [358294b1-0aab-51c3-aafe-ad5ab194a2ad]\n",
      "\u001b[33m\u001b[1m│ \u001b[22m\u001b[39m  OrdinaryDiffEqSSPRK [669c94d9-1f4b-4b64-b377-1aa079aa2388]\n",
      "\u001b[33m\u001b[1m│ \u001b[22m\u001b[39m  DelayDiffEq [bcd4f6db-9728-5f36-b5f7-82caef46ccdb]\n",
      "\u001b[33m\u001b[1m│ \u001b[22m\u001b[39m  DifferentialEquations [0c46a032-eb83-5123-abaf-570d42b7fbaa]\n",
      "\u001b[33m\u001b[1m│ \u001b[22m\u001b[39m  NonlinearSolveBaseSparseArraysExt [8494477e-8a74-521a-b11a-5a22161b1bc8]\n",
      "\u001b[33m\u001b[1m│ \u001b[22m\u001b[39m  PlotsExt [e73c9e8f-3556-58c3-b67e-c4596fa67ff1]\n",
      "\u001b[33m\u001b[1m│ \u001b[22m\u001b[39m  LinearSolveBandedMatricesExt [9522afde-9e86-5396-abc8-24b7312356fe]\n",
      "\u001b[33m\u001b[1m│ \u001b[22m\u001b[39m  BoundaryValueDiffEqFIRK [85d9eb09-370e-4000-bb32-543851f73618]\n",
      "\u001b[33m\u001b[1m│ \u001b[22m\u001b[39m  BoundaryValueDiffEqMIRK [1a22d4ce-7765-49ea-b6f2-13c8438986a6]\n",
      "\u001b[33m\u001b[1m│ \u001b[22m\u001b[39m  OrdinaryDiffEqRKN [af6ede74-add8-4cfd-b1df-9a4dbb109d7a]\n",
      "\u001b[33m\u001b[1m│ \u001b[22m\u001b[39m  LinearSolve [7ed4a6bd-45f5-4d41-b270-4a48e9bafcae]\n",
      "\u001b[33m\u001b[1m│ \u001b[22m\u001b[39m  OrdinaryDiffEqQPRK [04162be5-8125-4266-98ed-640baecc6514]\n",
      "\u001b[33m\u001b[1m│ \u001b[22m\u001b[39m  RecursiveArrayToolsForwardDiffExt [14203109-85fb-5f77-af23-1cb7d9032242]\n",
      "\u001b[33m\u001b[1m│ \u001b[22m\u001b[39m  DiffEqBaseSparseArraysExt [4131c53f-b1d6-5635-a7a3-57f6f930b644]\n",
      "\u001b[33m\u001b[1m│ \u001b[22m\u001b[39m  TransducersLazyArraysExt [cdbecb60-77cf-500a-86c2-8d8bbf22df88]\n",
      "\u001b[33m\u001b[1m│ \u001b[22m\u001b[39m  NonlinearSolveBaseBandedMatricesExt [f3d6eb4f-59b9-5696-a638-eddf66c7554e]\n",
      "\u001b[33m\u001b[1m│ \u001b[22m\u001b[39m  NonlinearSolveFirstOrder [5959db7a-ea39-4486-b5fe-2dd0bf03d60d]\n",
      "\u001b[33m\u001b[1m│ \u001b[22m\u001b[39m  SciMLOperatorsStaticArraysCoreExt [a2df0a61-553a-563b-aed7-0ce21874eb58]\n",
      "\u001b[33m\u001b[1m│ \u001b[22m\u001b[39m  Sundials [c3572dad-4567-51f8-b174-8c6c989267f4]\n",
      "\u001b[33m\u001b[1m│ \u001b[22m\u001b[39m  RecursiveArrayToolsFastBroadcastExt [42296aa8-c874-5f57-b5c1-8d6f5ebd5400]\n",
      "\u001b[33m\u001b[1m│ \u001b[22m\u001b[39m  SciMLBase [0bca4576-84f4-4d90-8ffe-ffa030f20462]\n",
      "\u001b[33m\u001b[1m│ \u001b[22m\u001b[39m  ForwardDiffExt [92c717c9-c1e5-53c1-ac59-0de8aab6796e]\n",
      "\u001b[33m\u001b[1m│ \u001b[22m\u001b[39m  LinearSolveFastAlmostBandedMatricesExt [f94f2e43-4c39-5f8d-ab9c-7017feb07ff4]\n",
      "\u001b[33m\u001b[1m│ \u001b[22m\u001b[39m  OrdinaryDiffEqHighOrderRK [d28bc4f8-55e1-4f49-af69-84c1a99f0f58]\n",
      "\u001b[33m\u001b[1m│ \u001b[22m\u001b[39m  OrdinaryDiffEqLowStorageRK [b0944070-b475-4768-8dec-fb6eb410534d]\n",
      "\u001b[33m\u001b[1m│ \u001b[22m\u001b[39m  OrdinaryDiffEqSymplecticRK [fa646aed-7ef9-47eb-84c4-9443fc8cbfa8]\n",
      "\u001b[33m\u001b[1m│ \u001b[22m\u001b[39m  OrdinaryDiffEqStabilizedIRK [e3e12d00-db14-5390-b879-ac3dd2ef6296]\n",
      "\u001b[33m\u001b[1m│ \u001b[22m\u001b[39m  FMIImport [9fcbc62e-52a0-44e9-a616-1359a0008194]\n",
      "\u001b[33m\u001b[1m│ \u001b[22m\u001b[39m  OrdinaryDiffEqLowOrderRK [1344f307-1e59-4825-a18e-ace9aa3fa4c6]\n",
      "\u001b[33m\u001b[1m│ \u001b[22m\u001b[39m  OrdinaryDiffEqExponentialRK [e0540318-69ee-4070-8777-9e2de6de23de]\n",
      "\u001b[33m\u001b[1m│ \u001b[22m\u001b[39m  OrdinaryDiffEqDifferentiation [4302a76b-040a-498a-8c04-15b101fed76b]\n",
      "\u001b[33m\u001b[1m│ \u001b[22m\u001b[39m  OrdinaryDiffEqNonlinearSolve [127b3ac7-2247-4354-8eb6-78cf4e7c58e8]\n",
      "\u001b[33m\u001b[1m│ \u001b[22m\u001b[39m  SparseDiffToolsPolyesterExt [9f049cbb-7c7d-5dfe-91f7-cf323d5306ff]\n",
      "\u001b[33m\u001b[1m│ \u001b[22m\u001b[39m  OrdinaryDiffEqSDIRK [2d112036-d095-4a1e-ab9a-08536f3ecdbf]\n",
      "\u001b[33m\u001b[1m│ \u001b[22m\u001b[39m  LinearAlgebraExt [ef8e1453-9c17-56fe-886b-405471570bc8]\n",
      "\u001b[33m\u001b[1m│ \u001b[22m\u001b[39m  LineSearch [87fe0de2-c867-4266-b59a-2f0a94fc965b]\n",
      "\u001b[33m\u001b[1m│ \u001b[22m\u001b[39m  SciMLBaseChainRulesCoreExt [4676cac9-c8e0-5d6e-a4e0-e3351593cdf5]\n",
      "\u001b[33m\u001b[1m│ \u001b[22m\u001b[39m  OrdinaryDiffEqExtrapolation [becaefa8-8ca2-5cf9-886d-c06f3d2bd2c4]\n",
      "\u001b[33m\u001b[1m│ \u001b[22m\u001b[39m  OrdinaryDiffEqVerner [79d7bb75-1356-48c1-b8c0-6832512096c2]\n",
      "\u001b[33m\u001b[1m│ \u001b[22m\u001b[39m  SimpleNonlinearSolveChainRulesCoreExt [073a8d7d-86ee-5d75-9348-f9bf6155b014]\n",
      "\u001b[33m\u001b[1m│ \u001b[22m\u001b[39m  DiffEqCallbacks [459566f4-90b8-5000-8ac3-15dfb0a30def]\n",
      "\u001b[33m\u001b[1m│ \u001b[22m\u001b[39m  FMI [14a09403-18e3-468f-ad8a-74f8dda2d9ac]\n",
      "\u001b[33m\u001b[1m│ \u001b[22m\u001b[39m  BangBang [198e06fe-97b7-11e9-32a5-e1d131e6ad66]\n",
      "\u001b[33m\u001b[1m│ \u001b[22m\u001b[39m  DiffEqBaseDistributionsExt [24f3332a-0dc5-5d65-94b6-25e75cab9690]\n",
      "\u001b[33m\u001b[1m│ \u001b[22m\u001b[39m  SciMLOperators [c0aeaf25-5076-4817-a8d5-81caf7dfa961]\n",
      "\u001b[33m\u001b[1m│ \u001b[22m\u001b[39m  FMIBase [900ee838-d029-460e-b485-d98a826ceef2]\n",
      "\u001b[33m\u001b[1m│ \u001b[22m\u001b[39m  RecursiveArrayTools [731186ca-8d62-57ce-b412-fbd966d074cd]\n",
      "\u001b[33m\u001b[1m│ \u001b[22m\u001b[39m  FMIExport [31b88311-cab6-44ed-ba9c-fe5a9abbd67a]\n",
      "\u001b[33m\u001b[1m│ \u001b[22m\u001b[39m  BoundaryValueDiffEqCore [56b672f2-a5fe-4263-ab2d-da677488eb3a]\n",
      "\u001b[33m\u001b[1m│ \u001b[22m\u001b[39m  OrdinaryDiffEqFeagin [101fe9f7-ebb6-4678-b671-3a81e7194747]\n",
      "\u001b[33m\u001b[1m│ \u001b[22m\u001b[39m  StochasticDiffEq [789caeaf-c7a9-5a7d-9973-96adeb23e2a0]\n",
      "\u001b[33m\u001b[1m│ \u001b[22m\u001b[39m  DiffEqBase [2b5f629d-d688-5b77-993f-72d75c75574e]\n",
      "\u001b[33m\u001b[1m│ \u001b[22m\u001b[39m  BangBangStaticArraysExt [a9f1882a-14fa-573e-a12d-824431257a23]\n",
      "\u001b[33m\u001b[1m│ \u001b[22m\u001b[39m  FMIZooExt [0fe4e21f-c175-5a0f-899f-abb2d776b1a2]\n",
      "\u001b[33m\u001b[1m│ \u001b[22m\u001b[39m  RecursiveArrayToolsSparseArraysExt [73e54eaf-3344-511d-b088-1ac5413eca63]\n",
      "\u001b[33m\u001b[1m│ \u001b[22m\u001b[39m  BangBangChainRulesCoreExt [47e8a63d-7df8-5da4-81a4-8f5796ea640c]\n",
      "\u001b[33m\u001b[1m│ \u001b[22m\u001b[39m  LinearSolveRecursiveArrayToolsExt [04950c4b-5bc4-5740-952d-02d2c1eb583a]\n",
      "\u001b[33m\u001b[1m│ \u001b[22m\u001b[39m  TransducersReferenceablesExt [befac7fd-b390-5150-b72a-6269c65d7e1f]\n",
      "\u001b[33m\u001b[1m│ \u001b[22m\u001b[39m  SciMLJacobianOperators [19f34311-ddf3-4b8b-af20-060888a46c0e]\n",
      "\u001b[33m\u001b[1m│ \u001b[22m\u001b[39m  NonlinearSolveBaseLineSearchExt [a65b7766-7c26-554a-8b8d-165d7f96f890]\n",
      "\u001b[33m\u001b[1m│ \u001b[22m\u001b[39m  DiffEqNoiseProcess [77a26b50-5914-5dd7-bc55-306e6241c503]\n",
      "\u001b[33m\u001b[1m│ \u001b[22m\u001b[39m  TransducersAdaptExt [9144d9d9-84fa-5f34-a63a-3acddca89462]\n",
      "\u001b[33m\u001b[1m│ \u001b[22m\u001b[39m  DiffEqBaseUnitfulExt [aeb06bb4-539b-5a1b-8332-034ed9f8ca66]\n",
      "\u001b[33m\u001b[1m│ \u001b[22m\u001b[39m  UnitfulExt [8d0556db-720e-519a-baed-0b9ed79749be]\n",
      "\u001b[33m\u001b[1m│ \u001b[22m\u001b[39m  NonlinearSolveBaseLinearSolveExt [3d4538b4-647b-544e-b0c2-b52d0495c932]\n",
      "\u001b[33m\u001b[1m│ \u001b[22m\u001b[39m  OrdinaryDiffEqNordsieck [c9986a66-5c92-4813-8696-a7ec84c806c8]\n",
      "\u001b[33m\u001b[1m│ \u001b[22m\u001b[39m  OrdinaryDiffEqFIRK [5960d6e9-dd7a-4743-88e7-cf307b64f125]\n",
      "\u001b[33m\u001b[1m│ \u001b[22m\u001b[39m  NonlinearSolveBaseDiffEqBaseExt [a0bd8381-04c7-5287-82b0-0bf1e59008be]\n",
      "\u001b[33m\u001b[1m│ \u001b[22m\u001b[39m  SimpleNonlinearSolve [727e6d20-b764-4bd8-a329-72de5adea6c7]\n",
      "\u001b[33m\u001b[1m│ \u001b[22m\u001b[39m  NonlinearSolveBase [be0214bd-f91f-a760-ac4e-3421ce2b2da0]\n",
      "\u001b[33m\u001b[1m│ \u001b[22m\u001b[39m  OrdinaryDiffEqIMEXMultistep [9f002381-b378-40b7-97a6-27a27c83f129]\n",
      "\u001b[33m\u001b[1m│ \u001b[22m\u001b[39m  MicroCollections [128add7d-3638-4c79-886c-908ea0c25c34]\n",
      "\u001b[33m\u001b[1m│ \u001b[22m\u001b[39m  SymbolicIndexingInterface [2efcf032-c050-4f8e-a9bb-153293bab1f5]\n",
      "\u001b[33m\u001b[1m│ \u001b[22m\u001b[39m  DatesExt [0361c7f5-3687-5641-8bd2-a1de0c64d1ed]\n",
      "\u001b[33m\u001b[1m│ \u001b[22m\u001b[39m  SciMLOperatorsSparseArraysExt [9985400b-97ec-5583-b534-4f70b643bcf7]\n",
      "\u001b[33m\u001b[1m│ \u001b[22m\u001b[39m  BoundaryValueDiffEq [764a87c0-6b3e-53db-9096-fe964310641d]\n",
      "\u001b[33m\u001b[1m│ \u001b[22m\u001b[39m  BangBangTablesExt [476361b5-ac10-5c09-8bec-30d098a22a5b]\n",
      "\u001b[33m\u001b[1m└ \u001b[22m\u001b[39m\u001b[90m@ Pkg.API C:\\hostedtoolcache\\windows\\julia\\1.10.7\\x64\\share\\julia\\stdlib\\v1.10\\Pkg\\src\\API.jl:1279\u001b[39m\n"
     ]
    },
    {
     "name": "stderr",
     "output_type": "stream",
     "text": [
      "\u001b[36m\u001b[1m[ \u001b[22m\u001b[39m\u001b[36m\u001b[1mInfo: \u001b[22m\u001b[39mPrecompiling FMI [14a09403-18e3-468f-ad8a-74f8dda2d9ac]\n"
     ]
    },
    {
     "name": "stderr",
     "output_type": "stream",
     "text": [
      "\u001b[33m\u001b[1m┌ \u001b[22m\u001b[39m\u001b[33m\u001b[1mWarning: \u001b[22m\u001b[39mModule DatesExt with build ID ffffffff-ffff-ffff-0000-00eb96972459 is missing from the cache.\n",
      "\u001b[33m\u001b[1m│ \u001b[22m\u001b[39mThis may mean DatesExt [0361c7f5-3687-5641-8bd2-a1de0c64d1ed] does not support precompilation but is imported by a module that does.\n",
      "\u001b[33m\u001b[1m└ \u001b[22m\u001b[39m\u001b[90m@ Base loading.jl:2011\u001b[39m\n"
     ]
    },
    {
     "name": "stderr",
     "output_type": "stream",
     "text": [
      "\u001b[91m\u001b[1m┌ \u001b[22m\u001b[39m\u001b[91m\u001b[1mError: \u001b[22m\u001b[39mError during loading of extension DatesExt of Accessors, use `Base.retry_load_extensions()` to retry.\n",
      "\u001b[91m\u001b[1m│ \u001b[22m\u001b[39m  exception =\n",
      "\u001b[91m\u001b[1m│ \u001b[22m\u001b[39m   \u001b[0m1-element ExceptionStack:\n",
      "\u001b[91m\u001b[1m│ \u001b[22m\u001b[39m   Declaring __precompile__(false) is not allowed in files that are being precompiled.\n",
      "\u001b[91m\u001b[1m│ \u001b[22m\u001b[39m   Stacktrace:\n",
      "\u001b[91m\u001b[1m│ \u001b[22m\u001b[39m     [1] \u001b[0m\u001b[1m_require\u001b[22m\u001b[0m\u001b[1m(\u001b[22m\u001b[90mpkg\u001b[39m::\u001b[0mBase.PkgId, \u001b[90menv\u001b[39m::\u001b[0mNothing\u001b[0m\u001b[1m)\u001b[22m\n",
      "\u001b[91m\u001b[1m│ \u001b[22m\u001b[39m   \u001b[90m    @\u001b[39m \u001b[90mBase\u001b[39m \u001b[90m.\\\u001b[39m\u001b[90m\u001b[4mloading.jl:2015\u001b[24m\u001b[39m\n",
      "\u001b[91m\u001b[1m│ \u001b[22m\u001b[39m     [2] \u001b[0m\u001b[1m__require_prelocked\u001b[22m\u001b[0m\u001b[1m(\u001b[22m\u001b[90muuidkey\u001b[39m::\u001b[0mBase.PkgId, \u001b[90menv\u001b[39m::\u001b[0mNothing\u001b[0m\u001b[1m)\u001b[22m\n",
      "\u001b[91m\u001b[1m│ \u001b[22m\u001b[39m   \u001b[90m    @\u001b[39m \u001b[90mBase\u001b[39m \u001b[90m.\\\u001b[39m\u001b[90m\u001b[4mloading.jl:1875\u001b[24m\u001b[39m\n",
      "\u001b[91m\u001b[1m│ \u001b[22m\u001b[39m     [3] \u001b[0m\u001b[1m#invoke_in_world#3\u001b[22m\n",
      "\u001b[91m\u001b[1m│ \u001b[22m\u001b[39m   \u001b[90m    @\u001b[39m \u001b[90m.\\\u001b[39m\u001b[90m\u001b[4messentials.jl:926\u001b[24m\u001b[39m\u001b[90m [inlined]\u001b[39m\n",
      "\u001b[91m\u001b[1m│ \u001b[22m\u001b[39m     [4] \u001b[0m\u001b[1minvoke_in_world\u001b[22m\n",
      "\u001b[91m\u001b[1m│ \u001b[22m\u001b[39m   \u001b[90m    @\u001b[39m \u001b[90m.\\\u001b[39m\u001b[90m\u001b[4messentials.jl:923\u001b[24m\u001b[39m\u001b[90m [inlined]\u001b[39m\n",
      "\u001b[91m\u001b[1m│ \u001b[22m\u001b[39m     [5] \u001b[0m\u001b[1m_require_prelocked\u001b[22m\n",
      "\u001b[91m\u001b[1m│ \u001b[22m\u001b[39m   \u001b[90m    @\u001b[39m \u001b[90m.\\\u001b[39m\u001b[90m\u001b[4mloading.jl:1866\u001b[24m\u001b[39m\u001b[90m [inlined]\u001b[39m\n",
      "\u001b[91m\u001b[1m│ \u001b[22m\u001b[39m     [6] \u001b[0m\u001b[1m_require_prelocked\u001b[22m\n",
      "\u001b[91m\u001b[1m│ \u001b[22m\u001b[39m   \u001b[90m    @\u001b[39m \u001b[90m.\\\u001b[39m\u001b[90m\u001b[4mloading.jl:1865\u001b[24m\u001b[39m\u001b[90m [inlined]\u001b[39m\n",
      "\u001b[91m\u001b[1m│ \u001b[22m\u001b[39m     [7] \u001b[0m\u001b[1mrun_extension_callbacks\u001b[22m\u001b[0m\u001b[1m(\u001b[22m\u001b[90mextid\u001b[39m::\u001b[0mBase.ExtensionId\u001b[0m\u001b[1m)\u001b[22m\n",
      "\u001b[91m\u001b[1m│ \u001b[22m\u001b[39m   \u001b[90m    @\u001b[39m \u001b[90mBase\u001b[39m \u001b[90m.\\\u001b[39m\u001b[90m\u001b[4mloading.jl:1358\u001b[24m\u001b[39m\n",
      "\u001b[91m\u001b[1m│ \u001b[22m\u001b[39m     [8] \u001b[0m\u001b[1mrun_extension_callbacks\u001b[22m\u001b[0m\u001b[1m(\u001b[22m\u001b[90mpkgid\u001b[39m::\u001b[0mBase.PkgId\u001b[0m\u001b[1m)\u001b[22m\n",
      "\u001b[91m\u001b[1m│ \u001b[22m\u001b[39m   \u001b[90m    @\u001b[39m \u001b[90mBase\u001b[39m \u001b[90m.\\\u001b[39m\u001b[90m\u001b[4mloading.jl:1393\u001b[24m\u001b[39m\n",
      "\u001b[91m\u001b[1m│ \u001b[22m\u001b[39m     [9] \u001b[0m\u001b[1mrun_package_callbacks\u001b[22m\u001b[0m\u001b[1m(\u001b[22m\u001b[90mmodkey\u001b[39m::\u001b[0mBase.PkgId\u001b[0m\u001b[1m)\u001b[22m\n",
      "\u001b[91m\u001b[1m│ \u001b[22m\u001b[39m   \u001b[90m    @\u001b[39m \u001b[90mBase\u001b[39m \u001b[90m.\\\u001b[39m\u001b[90m\u001b[4mloading.jl:1218\u001b[24m\u001b[39m\n",
      "\u001b[91m\u001b[1m│ \u001b[22m\u001b[39m    [10] \u001b[0m\u001b[1m__require_prelocked\u001b[22m\u001b[0m\u001b[1m(\u001b[22m\u001b[90muuidkey\u001b[39m::\u001b[0mBase.PkgId, \u001b[90menv\u001b[39m::\u001b[0mString\u001b[0m\u001b[1m)\u001b[22m\n",
      "\u001b[91m\u001b[1m│ \u001b[22m\u001b[39m   \u001b[90m    @\u001b[39m \u001b[90mBase\u001b[39m \u001b[90m.\\\u001b[39m\u001b[90m\u001b[4mloading.jl:1882\u001b[24m\u001b[39m\n",
      "\u001b[91m\u001b[1m│ \u001b[22m\u001b[39m    [11] \u001b[0m\u001b[1m#invoke_in_world#3\u001b[22m\n",
      "\u001b[91m\u001b[1m│ \u001b[22m\u001b[39m   \u001b[90m    @\u001b[39m \u001b[90m.\\\u001b[39m\u001b[90m\u001b[4messentials.jl:926\u001b[24m\u001b[39m\u001b[90m [inlined]\u001b[39m\n",
      "\u001b[91m\u001b[1m│ \u001b[22m\u001b[39m    [12] \u001b[0m\u001b[1minvoke_in_world\u001b[22m\n",
      "\u001b[91m\u001b[1m│ \u001b[22m\u001b[39m   \u001b[90m    @\u001b[39m \u001b[90m.\\\u001b[39m\u001b[90m\u001b[4messentials.jl:923\u001b[24m\u001b[39m\u001b[90m [inlined]\u001b[39m\n",
      "\u001b[91m\u001b[1m│ \u001b[22m\u001b[39m    [13] \u001b[0m\u001b[1m_require_prelocked\u001b[22m\u001b[0m\u001b[1m(\u001b[22m\u001b[90muuidkey\u001b[39m::\u001b[0mBase.PkgId, \u001b[90menv\u001b[39m::\u001b[0mString\u001b[0m\u001b[1m)\u001b[22m\n",
      "\u001b[91m\u001b[1m│ \u001b[22m\u001b[39m   \u001b[90m    @\u001b[39m \u001b[90mBase\u001b[39m \u001b[90m.\\\u001b[39m\u001b[90m\u001b[4mloading.jl:1866\u001b[24m\u001b[39m\n",
      "\u001b[91m\u001b[1m│ \u001b[22m\u001b[39m    [14] \u001b[0m\u001b[1mmacro expansion\u001b[22m\n",
      "\u001b[91m\u001b[1m│ \u001b[22m\u001b[39m   \u001b[90m    @\u001b[39m \u001b[90m.\\\u001b[39m\u001b[90m\u001b[4mloading.jl:1853\u001b[24m\u001b[39m\u001b[90m [inlined]\u001b[39m\n",
      "\u001b[91m\u001b[1m│ \u001b[22m\u001b[39m    [15] \u001b[0m\u001b[1mmacro expansion\u001b[22m\n",
      "\u001b[91m\u001b[1m│ \u001b[22m\u001b[39m   \u001b[90m    @\u001b[39m \u001b[90m.\\\u001b[39m\u001b[90m\u001b[4mlock.jl:267\u001b[24m\u001b[39m\u001b[90m [inlined]\u001b[39m\n",
      "\u001b[91m\u001b[1m│ \u001b[22m\u001b[39m    [16] \u001b[0m\u001b[1m__require\u001b[22m\u001b[0m\u001b[1m(\u001b[22m\u001b[90minto\u001b[39m::\u001b[0mModule, \u001b[90mmod\u001b[39m::\u001b[0mSymbol\u001b[0m\u001b[1m)\u001b[22m\n",
      "\u001b[91m\u001b[1m│ \u001b[22m\u001b[39m   \u001b[90m    @\u001b[39m \u001b[90mBase\u001b[39m \u001b[90m.\\\u001b[39m\u001b[90m\u001b[4mloading.jl:1816\u001b[24m\u001b[39m\n",
      "\u001b[91m\u001b[1m│ \u001b[22m\u001b[39m    [17] \u001b[0m\u001b[1m#invoke_in_world#3\u001b[22m\n",
      "\u001b[91m\u001b[1m│ \u001b[22m\u001b[39m   \u001b[90m    @\u001b[39m \u001b[90m.\\\u001b[39m\u001b[90m\u001b[4messentials.jl:926\u001b[24m\u001b[39m\u001b[90m [inlined]\u001b[39m\n",
      "\u001b[91m\u001b[1m│ \u001b[22m\u001b[39m    [18] \u001b[0m\u001b[1minvoke_in_world\u001b[22m\n",
      "\u001b[91m\u001b[1m│ \u001b[22m\u001b[39m   \u001b[90m    @\u001b[39m \u001b[90m.\\\u001b[39m\u001b[90m\u001b[4messentials.jl:923\u001b[24m\u001b[39m\u001b[90m [inlined]\u001b[39m\n",
      "\u001b[91m\u001b[1m│ \u001b[22m\u001b[39m    [19] \u001b[0m\u001b[1mrequire\u001b[22m\u001b[0m\u001b[1m(\u001b[22m\u001b[90minto\u001b[39m::\u001b[0mModule, \u001b[90mmod\u001b[39m::\u001b[0mSymbol\u001b[0m\u001b[1m)\u001b[22m\n",
      "\u001b[91m\u001b[1m│ \u001b[22m\u001b[39m   \u001b[90m    @\u001b[39m \u001b[90mBase\u001b[39m \u001b[90m.\\\u001b[39m\u001b[90m\u001b[4mloading.jl:1809\u001b[24m\u001b[39m\n",
      "\u001b[91m\u001b[1m│ \u001b[22m\u001b[39m    [20] \u001b[0m\u001b[1minclude\u001b[22m\n",
      "\u001b[91m\u001b[1m│ \u001b[22m\u001b[39m   \u001b[90m    @\u001b[39m \u001b[90m.\\\u001b[39m\u001b[90m\u001b[4mBase.jl:495\u001b[24m\u001b[39m\u001b[90m [inlined]\u001b[39m\n",
      "\u001b[91m\u001b[1m│ \u001b[22m\u001b[39m    [21] \u001b[0m\u001b[1minclude_package_for_output\u001b[22m\u001b[0m\u001b[1m(\u001b[22m\u001b[90mpkg\u001b[39m::\u001b[0mBase.PkgId, \u001b[90minput\u001b[39m::\u001b[0mString, \u001b[90mdepot_path\u001b[39m::\u001b[0mVector\u001b[90m{String}\u001b[39m, \u001b[90mdl_load_path\u001b[39m::\u001b[0mVector\u001b[90m{String}\u001b[39m, \u001b[90mload_path\u001b[39m::\u001b[0mVector\u001b[90m{String}\u001b[39m, \u001b[90mconcrete_deps\u001b[39m::\u001b[0mVector\u001b[90m{Pair{Base.PkgId, UInt128}}\u001b[39m, \u001b[90msource\u001b[39m::\u001b[0mString\u001b[0m\u001b[1m)\u001b[22m\n",
      "\u001b[91m\u001b[1m│ \u001b[22m\u001b[39m   \u001b[90m    @\u001b[39m \u001b[90mBase\u001b[39m \u001b[90m.\\\u001b[39m\u001b[90m\u001b[4mloading.jl:2285\u001b[24m\u001b[39m\n",
      "\u001b[91m\u001b[1m│ \u001b[22m\u001b[39m    [22] top-level scope\n",
      "\u001b[91m\u001b[1m│ \u001b[22m\u001b[39m   \u001b[90m    @\u001b[39m \u001b[90m\u001b[4mstdin:3\u001b[24m\u001b[39m\n",
      "\u001b[91m\u001b[1m│ \u001b[22m\u001b[39m    [23] \u001b[0m\u001b[1meval\u001b[22m\n",
      "\u001b[91m\u001b[1m│ \u001b[22m\u001b[39m   \u001b[90m    @\u001b[39m \u001b[90m.\\\u001b[39m\u001b[90m\u001b[4mboot.jl:385\u001b[24m\u001b[39m\u001b[90m [inlined]\u001b[39m\n",
      "\u001b[91m\u001b[1m│ \u001b[22m\u001b[39m    [24] \u001b[0m\u001b[1minclude_string\u001b[22m\u001b[0m\u001b[1m(\u001b[22m\u001b[90mmapexpr\u001b[39m::\u001b[0mtypeof(identity), \u001b[90mmod\u001b[39m::\u001b[0mModule, \u001b[90mcode\u001b[39m::\u001b[0mString, \u001b[90mfilename\u001b[39m::\u001b[0mString\u001b[0m\u001b[1m)\u001b[22m\n",
      "\u001b[91m\u001b[1m│ \u001b[22m\u001b[39m   \u001b[90m    @\u001b[39m \u001b[90mBase\u001b[39m \u001b[90m.\\\u001b[39m\u001b[90m\u001b[4mloading.jl:2139\u001b[24m\u001b[39m\n",
      "\u001b[91m\u001b[1m│ \u001b[22m\u001b[39m    [25] \u001b[0m\u001b[1minclude_string\u001b[22m\n",
      "\u001b[91m\u001b[1m│ \u001b[22m\u001b[39m   \u001b[90m    @\u001b[39m \u001b[90m.\\\u001b[39m\u001b[90m\u001b[4mloading.jl:2149\u001b[24m\u001b[39m\u001b[90m [inlined]\u001b[39m\n",
      "\u001b[91m\u001b[1m│ \u001b[22m\u001b[39m    [26] \u001b[0m\u001b[1mexec_options\u001b[22m\u001b[0m\u001b[1m(\u001b[22m\u001b[90mopts\u001b[39m::\u001b[0mBase.JLOptions\u001b[0m\u001b[1m)\u001b[22m\n",
      "\u001b[91m\u001b[1m│ \u001b[22m\u001b[39m   \u001b[90m    @\u001b[39m \u001b[90mBase\u001b[39m \u001b[90m.\\\u001b[39m\u001b[90m\u001b[4mclient.jl:321\u001b[24m\u001b[39m\n",
      "\u001b[91m\u001b[1m│ \u001b[22m\u001b[39m    [27] \u001b[0m\u001b[1m_start\u001b[22m\u001b[0m\u001b[1m(\u001b[22m\u001b[0m\u001b[1m)\u001b[22m\n",
      "\u001b[91m\u001b[1m│ \u001b[22m\u001b[39m   \u001b[90m    @\u001b[39m \u001b[90mBase\u001b[39m \u001b[90m.\\\u001b[39m\u001b[90m\u001b[4mclient.jl:557\u001b[24m\u001b[39m\n",
      "\u001b[91m\u001b[1m└ \u001b[22m\u001b[39m\u001b[90m@ Base loading.jl:1364\u001b[39m\n"
     ]
    },
    {
     "name": "stderr",
     "output_type": "stream",
     "text": [
      "\u001b[33m\u001b[1m┌ \u001b[22m\u001b[39m\u001b[33m\u001b[1mWarning: \u001b[22m\u001b[39mCircular dependency detected. Precompilation will be skipped for:\n",
      "\u001b[33m\u001b[1m│ \u001b[22m\u001b[39m  NonlinearSolveBaseSparseMatrixColoringsExt [e3ecd195-ca82-5397-9546-f380c1e34951]\n",
      "\u001b[33m\u001b[1m│ \u001b[22m\u001b[39m  DiffEqBaseChainRulesCoreExt [b00db79b-61e3-50fb-b26f-2d35b2d9e4ed]\n",
      "\u001b[33m\u001b[1m│ \u001b[22m\u001b[39m  Transducers [28d57a85-8fef-5791-bfe6-a80928e7c999]\n",
      "\u001b[33m\u001b[1m│ \u001b[22m\u001b[39m  NonlinearSolve [8913a72c-1f9b-4ce2-8d82-65094dcecaec]\n",
      "\u001b[33m\u001b[1m│ \u001b[22m\u001b[39m  OrdinaryDiffEq [1dea7af3-3e70-54e6-95c3-0bf5283fa5ed]\n",
      "\u001b[33m\u001b[1m│ \u001b[22m\u001b[39m  DifferentialEquationsFMIExt [232470a1-1d28-551b-8e3b-d6141e70703a]\n",
      "\u001b[33m\u001b[1m│ \u001b[22m\u001b[39m  NonlinearSolveBaseForwardDiffExt [63d416d0-6995-5965-81e0-55251226d976]\n",
      "\u001b[33m\u001b[1m│ \u001b[22m\u001b[39m  Folds [41a02a25-b8f0-4f67-bc48-60067656b558]\n",
      "\u001b[33m\u001b[1m│ \u001b[22m\u001b[39m  LineSearchLineSearchesExt [8d20b31a-8b56-511a-b573-0bef60e8c8c7]\n",
      "\u001b[33m\u001b[1m│ \u001b[22m\u001b[39m  NonlinearSolveBandedMatricesExt [8800daa3-e725-5fa8-982f-091420a833d6]\n",
      "\u001b[33m\u001b[1m│ \u001b[22m\u001b[39m  OrdinaryDiffEqFunctionMap [d3585ca7-f5d3-4ba6-8057-292ed1abd90f]\n",
      "\u001b[33m\u001b[1m│ \u001b[22m\u001b[39m  LinearSolveEnzymeExt [133222a9-3015-5ee0-8b28-65fc8ed13c28]\n",
      "\u001b[33m\u001b[1m│ \u001b[22m\u001b[39m  OrdinaryDiffEqLinear [521117fe-8c41-49f8-b3b6-30780b3f0fb5]\n",
      "\u001b[33m\u001b[1m│ \u001b[22m\u001b[39m  OrdinaryDiffEqTsit5 [b1df2697-797e-41e3-8120-5422d3b24e4a]\n",
      "\u001b[33m\u001b[1m│ \u001b[22m\u001b[39m  TestExt [62af87b3-b810-57d2-b7eb-8929911df373]\n",
      "\u001b[33m\u001b[1m│ \u001b[22m\u001b[39m  OrdinaryDiffEqBDF [6ad6398a-0878-4a85-9266-38940aa047c8]\n",
      "\u001b[33m\u001b[1m│ \u001b[22m\u001b[39m  StaticArraysExt [6207fee4-2535-5e24-a3ba-6518da1c7d2a]\n",
      "\u001b[33m\u001b[1m│ \u001b[22m\u001b[39m  SparseDiffTools [47a9eef4-7e08-11e9-0b38-333d64bd3804]\n",
      "\u001b[33m\u001b[1m│ \u001b[22m\u001b[39m  OrdinaryDiffEqPRK [5b33eab2-c0f1-4480-b2c3-94bc1e80bda1]\n",
      "\u001b[33m\u001b[1m│ \u001b[22m\u001b[39m  OrdinaryDiffEqDefault [50262376-6c5a-4cf5-baba-aaf4f84d72d7]\n",
      "\u001b[33m\u001b[1m│ \u001b[22m\u001b[39m  BoundaryValueDiffEqShooting [ed55bfe0-3725-4db6-871e-a1dc9f42a757]\n",
      "\u001b[33m\u001b[1m│ \u001b[22m\u001b[39m  OrdinaryDiffEqRosenbrock [43230ef6-c299-4910-a778-202eb28ce4ce]\n",
      "\u001b[33m\u001b[1m│ \u001b[22m\u001b[39m  JumpProcesses [ccbc3e58-028d-4f4c-8cd5-9ae44345cda5]\n",
      "\u001b[33m\u001b[1m│ \u001b[22m\u001b[39m  SteadyStateDiffEq [9672c7b4-1e72-59bd-8a11-6ac3964bc41f]\n",
      "\u001b[33m\u001b[1m│ \u001b[22m\u001b[39m  OrdinaryDiffEqAdamsBashforthMoulton [89bda076-bce5-4f1c-845f-551c83cdda9a]\n",
      "\u001b[33m\u001b[1m│ \u001b[22m\u001b[39m  OrdinaryDiffEqExplicitRK [9286f039-9fbf-40e8-bf65-aa933bdc4db0]\n",
      "\u001b[33m\u001b[1m│ \u001b[22m\u001b[39m  OrdinaryDiffEqCore [bbf590c4-e513-4bbe-9b18-05decba2e5d8]\n",
      "\u001b[33m\u001b[1m│ \u001b[22m\u001b[39m  OrdinaryDiffEqCoreEnzymeCoreExt [ca1c724a-f4aa-55ef-b8e4-2f05449449ac]\n",
      "\u001b[33m\u001b[1m│ \u001b[22m\u001b[39m  OrdinaryDiffEqPDIRK [5dd0a6cf-3d4b-4314-aa06-06d4e299bc89]\n",
      "\u001b[33m\u001b[1m│ \u001b[22m\u001b[39m  MATExt [5e726ecd-5b00-51ec-bc99-f7ee9de03178]\n",
      "\u001b[33m\u001b[1m│ \u001b[22m\u001b[39m  NonlinearSolveNLsolveExt [ae262b1c-8c8a-50b1-9ef3-b8fcfb893e74]\n",
      "\u001b[33m\u001b[1m│ \u001b[22m\u001b[39m  OrdinaryDiffEqStabilizedRK [358294b1-0aab-51c3-aafe-ad5ab194a2ad]\n",
      "\u001b[33m\u001b[1m│ \u001b[22m\u001b[39m  OrdinaryDiffEqSSPRK [669c94d9-1f4b-4b64-b377-1aa079aa2388]\n",
      "\u001b[33m\u001b[1m│ \u001b[22m\u001b[39m  DelayDiffEq [bcd4f6db-9728-5f36-b5f7-82caef46ccdb]\n",
      "\u001b[33m\u001b[1m│ \u001b[22m\u001b[39m  DifferentialEquations [0c46a032-eb83-5123-abaf-570d42b7fbaa]\n",
      "\u001b[33m\u001b[1m│ \u001b[22m\u001b[39m  NonlinearSolveBaseSparseArraysExt [8494477e-8a74-521a-b11a-5a22161b1bc8]\n",
      "\u001b[33m\u001b[1m│ \u001b[22m\u001b[39m  PlotsExt [e73c9e8f-3556-58c3-b67e-c4596fa67ff1]\n",
      "\u001b[33m\u001b[1m│ \u001b[22m\u001b[39m  LinearSolveBandedMatricesExt [9522afde-9e86-5396-abc8-24b7312356fe]\n",
      "\u001b[33m\u001b[1m│ \u001b[22m\u001b[39m  BoundaryValueDiffEqFIRK [85d9eb09-370e-4000-bb32-543851f73618]\n",
      "\u001b[33m\u001b[1m│ \u001b[22m\u001b[39m  BoundaryValueDiffEqMIRK [1a22d4ce-7765-49ea-b6f2-13c8438986a6]\n",
      "\u001b[33m\u001b[1m│ \u001b[22m\u001b[39m  OrdinaryDiffEqRKN [af6ede74-add8-4cfd-b1df-9a4dbb109d7a]\n",
      "\u001b[33m\u001b[1m│ \u001b[22m\u001b[39m  LinearSolve [7ed4a6bd-45f5-4d41-b270-4a48e9bafcae]\n",
      "\u001b[33m\u001b[1m│ \u001b[22m\u001b[39m  OrdinaryDiffEqQPRK [04162be5-8125-4266-98ed-640baecc6514]\n",
      "\u001b[33m\u001b[1m│ \u001b[22m\u001b[39m  RecursiveArrayToolsForwardDiffExt [14203109-85fb-5f77-af23-1cb7d9032242]\n",
      "\u001b[33m\u001b[1m│ \u001b[22m\u001b[39m  DiffEqBaseSparseArraysExt [4131c53f-b1d6-5635-a7a3-57f6f930b644]\n",
      "\u001b[33m\u001b[1m│ \u001b[22m\u001b[39m  TransducersLazyArraysExt [cdbecb60-77cf-500a-86c2-8d8bbf22df88]\n",
      "\u001b[33m\u001b[1m│ \u001b[22m\u001b[39m  NonlinearSolveBaseBandedMatricesExt [f3d6eb4f-59b9-5696-a638-eddf66c7554e]\n",
      "\u001b[33m\u001b[1m│ \u001b[22m\u001b[39m  NonlinearSolveFirstOrder [5959db7a-ea39-4486-b5fe-2dd0bf03d60d]\n",
      "\u001b[33m\u001b[1m│ \u001b[22m\u001b[39m  SciMLOperatorsStaticArraysCoreExt [a2df0a61-553a-563b-aed7-0ce21874eb58]\n",
      "\u001b[33m\u001b[1m│ \u001b[22m\u001b[39m  Sundials [c3572dad-4567-51f8-b174-8c6c989267f4]\n",
      "\u001b[33m\u001b[1m│ \u001b[22m\u001b[39m  RecursiveArrayToolsFastBroadcastExt [42296aa8-c874-5f57-b5c1-8d6f5ebd5400]\n",
      "\u001b[33m\u001b[1m│ \u001b[22m\u001b[39m  SciMLBase [0bca4576-84f4-4d90-8ffe-ffa030f20462]\n",
      "\u001b[33m\u001b[1m│ \u001b[22m\u001b[39m  ForwardDiffExt [92c717c9-c1e5-53c1-ac59-0de8aab6796e]\n",
      "\u001b[33m\u001b[1m│ \u001b[22m\u001b[39m  LinearSolveFastAlmostBandedMatricesExt [f94f2e43-4c39-5f8d-ab9c-7017feb07ff4]\n",
      "\u001b[33m\u001b[1m│ \u001b[22m\u001b[39m  OrdinaryDiffEqHighOrderRK [d28bc4f8-55e1-4f49-af69-84c1a99f0f58]\n",
      "\u001b[33m\u001b[1m│ \u001b[22m\u001b[39m  OrdinaryDiffEqLowStorageRK [b0944070-b475-4768-8dec-fb6eb410534d]\n",
      "\u001b[33m\u001b[1m│ \u001b[22m\u001b[39m  OrdinaryDiffEqSymplecticRK [fa646aed-7ef9-47eb-84c4-9443fc8cbfa8]\n",
      "\u001b[33m\u001b[1m│ \u001b[22m\u001b[39m  OrdinaryDiffEqStabilizedIRK [e3e12d00-db14-5390-b879-ac3dd2ef6296]\n",
      "\u001b[33m\u001b[1m│ \u001b[22m\u001b[39m  FMIImport [9fcbc62e-52a0-44e9-a616-1359a0008194]\n",
      "\u001b[33m\u001b[1m│ \u001b[22m\u001b[39m  OrdinaryDiffEqLowOrderRK [1344f307-1e59-4825-a18e-ace9aa3fa4c6]\n",
      "\u001b[33m\u001b[1m│ \u001b[22m\u001b[39m  OrdinaryDiffEqExponentialRK [e0540318-69ee-4070-8777-9e2de6de23de]\n",
      "\u001b[33m\u001b[1m│ \u001b[22m\u001b[39m  OrdinaryDiffEqDifferentiation [4302a76b-040a-498a-8c04-15b101fed76b]\n",
      "\u001b[33m\u001b[1m│ \u001b[22m\u001b[39m  OrdinaryDiffEqNonlinearSolve [127b3ac7-2247-4354-8eb6-78cf4e7c58e8]\n",
      "\u001b[33m\u001b[1m│ \u001b[22m\u001b[39m  SparseDiffToolsPolyesterExt [9f049cbb-7c7d-5dfe-91f7-cf323d5306ff]\n",
      "\u001b[33m\u001b[1m│ \u001b[22m\u001b[39m  OrdinaryDiffEqSDIRK [2d112036-d095-4a1e-ab9a-08536f3ecdbf]\n",
      "\u001b[33m\u001b[1m│ \u001b[22m\u001b[39m  LinearAlgebraExt [ef8e1453-9c17-56fe-886b-405471570bc8]\n",
      "\u001b[33m\u001b[1m│ \u001b[22m\u001b[39m  LineSearch [87fe0de2-c867-4266-b59a-2f0a94fc965b]\n",
      "\u001b[33m\u001b[1m│ \u001b[22m\u001b[39m  SciMLBaseChainRulesCoreExt [4676cac9-c8e0-5d6e-a4e0-e3351593cdf5]\n",
      "\u001b[33m\u001b[1m│ \u001b[22m\u001b[39m  OrdinaryDiffEqExtrapolation [becaefa8-8ca2-5cf9-886d-c06f3d2bd2c4]\n",
      "\u001b[33m\u001b[1m│ \u001b[22m\u001b[39m  OrdinaryDiffEqVerner [79d7bb75-1356-48c1-b8c0-6832512096c2]\n",
      "\u001b[33m\u001b[1m│ \u001b[22m\u001b[39m  SimpleNonlinearSolveChainRulesCoreExt [073a8d7d-86ee-5d75-9348-f9bf6155b014]\n",
      "\u001b[33m\u001b[1m│ \u001b[22m\u001b[39m  DiffEqCallbacks [459566f4-90b8-5000-8ac3-15dfb0a30def]\n",
      "\u001b[33m\u001b[1m│ \u001b[22m\u001b[39m  FMI [14a09403-18e3-468f-ad8a-74f8dda2d9ac]\n",
      "\u001b[33m\u001b[1m│ \u001b[22m\u001b[39m  BangBang [198e06fe-97b7-11e9-32a5-e1d131e6ad66]\n",
      "\u001b[33m\u001b[1m│ \u001b[22m\u001b[39m  DiffEqBaseDistributionsExt [24f3332a-0dc5-5d65-94b6-25e75cab9690]\n",
      "\u001b[33m\u001b[1m│ \u001b[22m\u001b[39m  SciMLOperators [c0aeaf25-5076-4817-a8d5-81caf7dfa961]\n",
      "\u001b[33m\u001b[1m│ \u001b[22m\u001b[39m  FMIBase [900ee838-d029-460e-b485-d98a826ceef2]\n",
      "\u001b[33m\u001b[1m│ \u001b[22m\u001b[39m  RecursiveArrayTools [731186ca-8d62-57ce-b412-fbd966d074cd]\n",
      "\u001b[33m\u001b[1m│ \u001b[22m\u001b[39m  FMIExport [31b88311-cab6-44ed-ba9c-fe5a9abbd67a]\n",
      "\u001b[33m\u001b[1m│ \u001b[22m\u001b[39m  BoundaryValueDiffEqCore [56b672f2-a5fe-4263-ab2d-da677488eb3a]\n",
      "\u001b[33m\u001b[1m│ \u001b[22m\u001b[39m  OrdinaryDiffEqFeagin [101fe9f7-ebb6-4678-b671-3a81e7194747]\n",
      "\u001b[33m\u001b[1m│ \u001b[22m\u001b[39m  StochasticDiffEq [789caeaf-c7a9-5a7d-9973-96adeb23e2a0]\n",
      "\u001b[33m\u001b[1m│ \u001b[22m\u001b[39m  DiffEqBase [2b5f629d-d688-5b77-993f-72d75c75574e]\n",
      "\u001b[33m\u001b[1m│ \u001b[22m\u001b[39m  BangBangStaticArraysExt [a9f1882a-14fa-573e-a12d-824431257a23]\n",
      "\u001b[33m\u001b[1m│ \u001b[22m\u001b[39m  FMIZooExt [0fe4e21f-c175-5a0f-899f-abb2d776b1a2]\n",
      "\u001b[33m\u001b[1m│ \u001b[22m\u001b[39m  RecursiveArrayToolsSparseArraysExt [73e54eaf-3344-511d-b088-1ac5413eca63]\n",
      "\u001b[33m\u001b[1m│ \u001b[22m\u001b[39m  BangBangChainRulesCoreExt [47e8a63d-7df8-5da4-81a4-8f5796ea640c]\n",
      "\u001b[33m\u001b[1m│ \u001b[22m\u001b[39m  LinearSolveRecursiveArrayToolsExt [04950c4b-5bc4-5740-952d-02d2c1eb583a]\n",
      "\u001b[33m\u001b[1m│ \u001b[22m\u001b[39m  TransducersReferenceablesExt [befac7fd-b390-5150-b72a-6269c65d7e1f]\n",
      "\u001b[33m\u001b[1m│ \u001b[22m\u001b[39m  SciMLJacobianOperators [19f34311-ddf3-4b8b-af20-060888a46c0e]\n",
      "\u001b[33m\u001b[1m│ \u001b[22m\u001b[39m  NonlinearSolveBaseLineSearchExt [a65b7766-7c26-554a-8b8d-165d7f96f890]\n",
      "\u001b[33m\u001b[1m│ \u001b[22m\u001b[39m  DiffEqNoiseProcess [77a26b50-5914-5dd7-bc55-306e6241c503]\n",
      "\u001b[33m\u001b[1m│ \u001b[22m\u001b[39m  TransducersAdaptExt [9144d9d9-84fa-5f34-a63a-3acddca89462]\n",
      "\u001b[33m\u001b[1m│ \u001b[22m\u001b[39m  DiffEqBaseUnitfulExt [aeb06bb4-539b-5a1b-8332-034ed9f8ca66]\n",
      "\u001b[33m\u001b[1m│ \u001b[22m\u001b[39m  UnitfulExt [8d0556db-720e-519a-baed-0b9ed79749be]\n",
      "\u001b[33m\u001b[1m│ \u001b[22m\u001b[39m  NonlinearSolveBaseLinearSolveExt [3d4538b4-647b-544e-b0c2-b52d0495c932]\n",
      "\u001b[33m\u001b[1m│ \u001b[22m\u001b[39m  OrdinaryDiffEqNordsieck [c9986a66-5c92-4813-8696-a7ec84c806c8]\n",
      "\u001b[33m\u001b[1m│ \u001b[22m\u001b[39m  OrdinaryDiffEqFIRK [5960d6e9-dd7a-4743-88e7-cf307b64f125]\n",
      "\u001b[33m\u001b[1m│ \u001b[22m\u001b[39m  NonlinearSolveBaseDiffEqBaseExt [a0bd8381-04c7-5287-82b0-0bf1e59008be]\n",
      "\u001b[33m\u001b[1m│ \u001b[22m\u001b[39m  SimpleNonlinearSolve [727e6d20-b764-4bd8-a329-72de5adea6c7]\n",
      "\u001b[33m\u001b[1m│ \u001b[22m\u001b[39m  NonlinearSolveBase [be0214bd-f91f-a760-ac4e-3421ce2b2da0]\n",
      "\u001b[33m\u001b[1m│ \u001b[22m\u001b[39m  OrdinaryDiffEqIMEXMultistep [9f002381-b378-40b7-97a6-27a27c83f129]\n",
      "\u001b[33m\u001b[1m│ \u001b[22m\u001b[39m  MicroCollections [128add7d-3638-4c79-886c-908ea0c25c34]\n",
      "\u001b[33m\u001b[1m│ \u001b[22m\u001b[39m  SymbolicIndexingInterface [2efcf032-c050-4f8e-a9bb-153293bab1f5]\n",
      "\u001b[33m\u001b[1m│ \u001b[22m\u001b[39m  DatesExt [0361c7f5-3687-5641-8bd2-a1de0c64d1ed]\n",
      "\u001b[33m\u001b[1m│ \u001b[22m\u001b[39m  SciMLOperatorsSparseArraysExt [9985400b-97ec-5583-b534-4f70b643bcf7]\n",
      "\u001b[33m\u001b[1m│ \u001b[22m\u001b[39m  BoundaryValueDiffEq [764a87c0-6b3e-53db-9096-fe964310641d]\n",
      "\u001b[33m\u001b[1m│ \u001b[22m\u001b[39m  BangBangTablesExt [476361b5-ac10-5c09-8bec-30d098a22a5b]\n",
      "\u001b[33m\u001b[1m└ \u001b[22m\u001b[39m\u001b[90m@ Pkg.API C:\\hostedtoolcache\\windows\\julia\\1.10.7\\x64\\share\\julia\\stdlib\\v1.10\\Pkg\\src\\API.jl:1279\u001b[39m\n"
     ]
    },
    {
     "name": "stderr",
     "output_type": "stream",
     "text": [
      "\u001b[36m\u001b[1m[ \u001b[22m\u001b[39m\u001b[36m\u001b[1mInfo: \u001b[22m\u001b[39mPrecompiling MATExt [5e726ecd-5b00-51ec-bc99-f7ee9de03178]\n"
     ]
    },
    {
     "name": "stderr",
     "output_type": "stream",
     "text": [
      "\u001b[33m\u001b[1m┌ \u001b[22m\u001b[39m\u001b[33m\u001b[1mWarning: \u001b[22m\u001b[39mCircular dependency detected. Precompilation will be skipped for:\n",
      "\u001b[33m\u001b[1m│ \u001b[22m\u001b[39m  NonlinearSolveBaseSparseMatrixColoringsExt [e3ecd195-ca82-5397-9546-f380c1e34951]\n",
      "\u001b[33m\u001b[1m│ \u001b[22m\u001b[39m  DiffEqBaseChainRulesCoreExt [b00db79b-61e3-50fb-b26f-2d35b2d9e4ed]\n",
      "\u001b[33m\u001b[1m│ \u001b[22m\u001b[39m  Transducers [28d57a85-8fef-5791-bfe6-a80928e7c999]\n",
      "\u001b[33m\u001b[1m│ \u001b[22m\u001b[39m  NonlinearSolve [8913a72c-1f9b-4ce2-8d82-65094dcecaec]\n",
      "\u001b[33m\u001b[1m│ \u001b[22m\u001b[39m  OrdinaryDiffEq [1dea7af3-3e70-54e6-95c3-0bf5283fa5ed]\n",
      "\u001b[33m\u001b[1m│ \u001b[22m\u001b[39m  DifferentialEquationsFMIExt [232470a1-1d28-551b-8e3b-d6141e70703a]\n",
      "\u001b[33m\u001b[1m│ \u001b[22m\u001b[39m  NonlinearSolveBaseForwardDiffExt [63d416d0-6995-5965-81e0-55251226d976]\n",
      "\u001b[33m\u001b[1m│ \u001b[22m\u001b[39m  Folds [41a02a25-b8f0-4f67-bc48-60067656b558]\n",
      "\u001b[33m\u001b[1m│ \u001b[22m\u001b[39m  LineSearchLineSearchesExt [8d20b31a-8b56-511a-b573-0bef60e8c8c7]\n",
      "\u001b[33m\u001b[1m│ \u001b[22m\u001b[39m  NonlinearSolveBandedMatricesExt [8800daa3-e725-5fa8-982f-091420a833d6]\n",
      "\u001b[33m\u001b[1m│ \u001b[22m\u001b[39m  OrdinaryDiffEqFunctionMap [d3585ca7-f5d3-4ba6-8057-292ed1abd90f]\n",
      "\u001b[33m\u001b[1m│ \u001b[22m\u001b[39m  LinearSolveEnzymeExt [133222a9-3015-5ee0-8b28-65fc8ed13c28]\n",
      "\u001b[33m\u001b[1m│ \u001b[22m\u001b[39m  OrdinaryDiffEqLinear [521117fe-8c41-49f8-b3b6-30780b3f0fb5]\n",
      "\u001b[33m\u001b[1m│ \u001b[22m\u001b[39m  OrdinaryDiffEqTsit5 [b1df2697-797e-41e3-8120-5422d3b24e4a]\n",
      "\u001b[33m\u001b[1m│ \u001b[22m\u001b[39m  TestExt [62af87b3-b810-57d2-b7eb-8929911df373]\n",
      "\u001b[33m\u001b[1m│ \u001b[22m\u001b[39m  OrdinaryDiffEqBDF [6ad6398a-0878-4a85-9266-38940aa047c8]\n",
      "\u001b[33m\u001b[1m│ \u001b[22m\u001b[39m  StaticArraysExt [6207fee4-2535-5e24-a3ba-6518da1c7d2a]\n",
      "\u001b[33m\u001b[1m│ \u001b[22m\u001b[39m  SparseDiffTools [47a9eef4-7e08-11e9-0b38-333d64bd3804]\n",
      "\u001b[33m\u001b[1m│ \u001b[22m\u001b[39m  OrdinaryDiffEqPRK [5b33eab2-c0f1-4480-b2c3-94bc1e80bda1]\n",
      "\u001b[33m\u001b[1m│ \u001b[22m\u001b[39m  OrdinaryDiffEqDefault [50262376-6c5a-4cf5-baba-aaf4f84d72d7]\n",
      "\u001b[33m\u001b[1m│ \u001b[22m\u001b[39m  BoundaryValueDiffEqShooting [ed55bfe0-3725-4db6-871e-a1dc9f42a757]\n",
      "\u001b[33m\u001b[1m│ \u001b[22m\u001b[39m  OrdinaryDiffEqRosenbrock [43230ef6-c299-4910-a778-202eb28ce4ce]\n",
      "\u001b[33m\u001b[1m│ \u001b[22m\u001b[39m  JumpProcesses [ccbc3e58-028d-4f4c-8cd5-9ae44345cda5]\n",
      "\u001b[33m\u001b[1m│ \u001b[22m\u001b[39m  SteadyStateDiffEq [9672c7b4-1e72-59bd-8a11-6ac3964bc41f]\n",
      "\u001b[33m\u001b[1m│ \u001b[22m\u001b[39m  OrdinaryDiffEqAdamsBashforthMoulton [89bda076-bce5-4f1c-845f-551c83cdda9a]\n",
      "\u001b[33m\u001b[1m│ \u001b[22m\u001b[39m  OrdinaryDiffEqExplicitRK [9286f039-9fbf-40e8-bf65-aa933bdc4db0]\n",
      "\u001b[33m\u001b[1m│ \u001b[22m\u001b[39m  OrdinaryDiffEqCore [bbf590c4-e513-4bbe-9b18-05decba2e5d8]\n",
      "\u001b[33m\u001b[1m│ \u001b[22m\u001b[39m  OrdinaryDiffEqCoreEnzymeCoreExt [ca1c724a-f4aa-55ef-b8e4-2f05449449ac]\n",
      "\u001b[33m\u001b[1m│ \u001b[22m\u001b[39m  OrdinaryDiffEqPDIRK [5dd0a6cf-3d4b-4314-aa06-06d4e299bc89]\n",
      "\u001b[33m\u001b[1m│ \u001b[22m\u001b[39m  MATExt [5e726ecd-5b00-51ec-bc99-f7ee9de03178]\n",
      "\u001b[33m\u001b[1m│ \u001b[22m\u001b[39m  NonlinearSolveNLsolveExt [ae262b1c-8c8a-50b1-9ef3-b8fcfb893e74]\n",
      "\u001b[33m\u001b[1m│ \u001b[22m\u001b[39m  OrdinaryDiffEqStabilizedRK [358294b1-0aab-51c3-aafe-ad5ab194a2ad]\n",
      "\u001b[33m\u001b[1m│ \u001b[22m\u001b[39m  OrdinaryDiffEqSSPRK [669c94d9-1f4b-4b64-b377-1aa079aa2388]\n",
      "\u001b[33m\u001b[1m│ \u001b[22m\u001b[39m  DelayDiffEq [bcd4f6db-9728-5f36-b5f7-82caef46ccdb]\n",
      "\u001b[33m\u001b[1m│ \u001b[22m\u001b[39m  DifferentialEquations [0c46a032-eb83-5123-abaf-570d42b7fbaa]\n",
      "\u001b[33m\u001b[1m│ \u001b[22m\u001b[39m  NonlinearSolveBaseSparseArraysExt [8494477e-8a74-521a-b11a-5a22161b1bc8]\n",
      "\u001b[33m\u001b[1m│ \u001b[22m\u001b[39m  PlotsExt [e73c9e8f-3556-58c3-b67e-c4596fa67ff1]\n",
      "\u001b[33m\u001b[1m│ \u001b[22m\u001b[39m  LinearSolveBandedMatricesExt [9522afde-9e86-5396-abc8-24b7312356fe]\n",
      "\u001b[33m\u001b[1m│ \u001b[22m\u001b[39m  BoundaryValueDiffEqFIRK [85d9eb09-370e-4000-bb32-543851f73618]\n",
      "\u001b[33m\u001b[1m│ \u001b[22m\u001b[39m  BoundaryValueDiffEqMIRK [1a22d4ce-7765-49ea-b6f2-13c8438986a6]\n",
      "\u001b[33m\u001b[1m│ \u001b[22m\u001b[39m  OrdinaryDiffEqRKN [af6ede74-add8-4cfd-b1df-9a4dbb109d7a]\n",
      "\u001b[33m\u001b[1m│ \u001b[22m\u001b[39m  LinearSolve [7ed4a6bd-45f5-4d41-b270-4a48e9bafcae]\n",
      "\u001b[33m\u001b[1m│ \u001b[22m\u001b[39m  OrdinaryDiffEqQPRK [04162be5-8125-4266-98ed-640baecc6514]\n",
      "\u001b[33m\u001b[1m│ \u001b[22m\u001b[39m  RecursiveArrayToolsForwardDiffExt [14203109-85fb-5f77-af23-1cb7d9032242]\n",
      "\u001b[33m\u001b[1m│ \u001b[22m\u001b[39m  DiffEqBaseSparseArraysExt [4131c53f-b1d6-5635-a7a3-57f6f930b644]\n",
      "\u001b[33m\u001b[1m│ \u001b[22m\u001b[39m  TransducersLazyArraysExt [cdbecb60-77cf-500a-86c2-8d8bbf22df88]\n",
      "\u001b[33m\u001b[1m│ \u001b[22m\u001b[39m  NonlinearSolveBaseBandedMatricesExt [f3d6eb4f-59b9-5696-a638-eddf66c7554e]\n",
      "\u001b[33m\u001b[1m│ \u001b[22m\u001b[39m  NonlinearSolveFirstOrder [5959db7a-ea39-4486-b5fe-2dd0bf03d60d]\n",
      "\u001b[33m\u001b[1m│ \u001b[22m\u001b[39m  SciMLOperatorsStaticArraysCoreExt [a2df0a61-553a-563b-aed7-0ce21874eb58]\n",
      "\u001b[33m\u001b[1m│ \u001b[22m\u001b[39m  Sundials [c3572dad-4567-51f8-b174-8c6c989267f4]\n",
      "\u001b[33m\u001b[1m│ \u001b[22m\u001b[39m  RecursiveArrayToolsFastBroadcastExt [42296aa8-c874-5f57-b5c1-8d6f5ebd5400]\n",
      "\u001b[33m\u001b[1m│ \u001b[22m\u001b[39m  SciMLBase [0bca4576-84f4-4d90-8ffe-ffa030f20462]\n",
      "\u001b[33m\u001b[1m│ \u001b[22m\u001b[39m  ForwardDiffExt [92c717c9-c1e5-53c1-ac59-0de8aab6796e]\n",
      "\u001b[33m\u001b[1m│ \u001b[22m\u001b[39m  LinearSolveFastAlmostBandedMatricesExt [f94f2e43-4c39-5f8d-ab9c-7017feb07ff4]\n",
      "\u001b[33m\u001b[1m│ \u001b[22m\u001b[39m  OrdinaryDiffEqHighOrderRK [d28bc4f8-55e1-4f49-af69-84c1a99f0f58]\n",
      "\u001b[33m\u001b[1m│ \u001b[22m\u001b[39m  OrdinaryDiffEqLowStorageRK [b0944070-b475-4768-8dec-fb6eb410534d]\n",
      "\u001b[33m\u001b[1m│ \u001b[22m\u001b[39m  OrdinaryDiffEqSymplecticRK [fa646aed-7ef9-47eb-84c4-9443fc8cbfa8]\n",
      "\u001b[33m\u001b[1m│ \u001b[22m\u001b[39m  OrdinaryDiffEqStabilizedIRK [e3e12d00-db14-5390-b879-ac3dd2ef6296]\n",
      "\u001b[33m\u001b[1m│ \u001b[22m\u001b[39m  FMIImport [9fcbc62e-52a0-44e9-a616-1359a0008194]\n",
      "\u001b[33m\u001b[1m│ \u001b[22m\u001b[39m  OrdinaryDiffEqLowOrderRK [1344f307-1e59-4825-a18e-ace9aa3fa4c6]\n",
      "\u001b[33m\u001b[1m│ \u001b[22m\u001b[39m  OrdinaryDiffEqExponentialRK [e0540318-69ee-4070-8777-9e2de6de23de]\n",
      "\u001b[33m\u001b[1m│ \u001b[22m\u001b[39m  OrdinaryDiffEqDifferentiation [4302a76b-040a-498a-8c04-15b101fed76b]\n",
      "\u001b[33m\u001b[1m│ \u001b[22m\u001b[39m  OrdinaryDiffEqNonlinearSolve [127b3ac7-2247-4354-8eb6-78cf4e7c58e8]\n",
      "\u001b[33m\u001b[1m│ \u001b[22m\u001b[39m  SparseDiffToolsPolyesterExt [9f049cbb-7c7d-5dfe-91f7-cf323d5306ff]\n",
      "\u001b[33m\u001b[1m│ \u001b[22m\u001b[39m  OrdinaryDiffEqSDIRK [2d112036-d095-4a1e-ab9a-08536f3ecdbf]\n",
      "\u001b[33m\u001b[1m│ \u001b[22m\u001b[39m  LinearAlgebraExt [ef8e1453-9c17-56fe-886b-405471570bc8]\n",
      "\u001b[33m\u001b[1m│ \u001b[22m\u001b[39m  LineSearch [87fe0de2-c867-4266-b59a-2f0a94fc965b]\n",
      "\u001b[33m\u001b[1m│ \u001b[22m\u001b[39m  SciMLBaseChainRulesCoreExt [4676cac9-c8e0-5d6e-a4e0-e3351593cdf5]\n",
      "\u001b[33m\u001b[1m│ \u001b[22m\u001b[39m  OrdinaryDiffEqExtrapolation [becaefa8-8ca2-5cf9-886d-c06f3d2bd2c4]\n",
      "\u001b[33m\u001b[1m│ \u001b[22m\u001b[39m  OrdinaryDiffEqVerner [79d7bb75-1356-48c1-b8c0-6832512096c2]\n",
      "\u001b[33m\u001b[1m│ \u001b[22m\u001b[39m  SimpleNonlinearSolveChainRulesCoreExt [073a8d7d-86ee-5d75-9348-f9bf6155b014]\n",
      "\u001b[33m\u001b[1m│ \u001b[22m\u001b[39m  DiffEqCallbacks [459566f4-90b8-5000-8ac3-15dfb0a30def]\n",
      "\u001b[33m\u001b[1m│ \u001b[22m\u001b[39m  FMI [14a09403-18e3-468f-ad8a-74f8dda2d9ac]\n",
      "\u001b[33m\u001b[1m│ \u001b[22m\u001b[39m  BangBang [198e06fe-97b7-11e9-32a5-e1d131e6ad66]\n",
      "\u001b[33m\u001b[1m│ \u001b[22m\u001b[39m  DiffEqBaseDistributionsExt [24f3332a-0dc5-5d65-94b6-25e75cab9690]\n",
      "\u001b[33m\u001b[1m│ \u001b[22m\u001b[39m  SciMLOperators [c0aeaf25-5076-4817-a8d5-81caf7dfa961]\n",
      "\u001b[33m\u001b[1m│ \u001b[22m\u001b[39m  FMIBase [900ee838-d029-460e-b485-d98a826ceef2]\n",
      "\u001b[33m\u001b[1m│ \u001b[22m\u001b[39m  RecursiveArrayTools [731186ca-8d62-57ce-b412-fbd966d074cd]\n",
      "\u001b[33m\u001b[1m│ \u001b[22m\u001b[39m  FMIExport [31b88311-cab6-44ed-ba9c-fe5a9abbd67a]\n",
      "\u001b[33m\u001b[1m│ \u001b[22m\u001b[39m  BoundaryValueDiffEqCore [56b672f2-a5fe-4263-ab2d-da677488eb3a]\n",
      "\u001b[33m\u001b[1m│ \u001b[22m\u001b[39m  OrdinaryDiffEqFeagin [101fe9f7-ebb6-4678-b671-3a81e7194747]\n",
      "\u001b[33m\u001b[1m│ \u001b[22m\u001b[39m  StochasticDiffEq [789caeaf-c7a9-5a7d-9973-96adeb23e2a0]\n",
      "\u001b[33m\u001b[1m│ \u001b[22m\u001b[39m  DiffEqBase [2b5f629d-d688-5b77-993f-72d75c75574e]\n",
      "\u001b[33m\u001b[1m│ \u001b[22m\u001b[39m  BangBangStaticArraysExt [a9f1882a-14fa-573e-a12d-824431257a23]\n",
      "\u001b[33m\u001b[1m│ \u001b[22m\u001b[39m  FMIZooExt [0fe4e21f-c175-5a0f-899f-abb2d776b1a2]\n",
      "\u001b[33m\u001b[1m│ \u001b[22m\u001b[39m  RecursiveArrayToolsSparseArraysExt [73e54eaf-3344-511d-b088-1ac5413eca63]\n",
      "\u001b[33m\u001b[1m│ \u001b[22m\u001b[39m  BangBangChainRulesCoreExt [47e8a63d-7df8-5da4-81a4-8f5796ea640c]\n",
      "\u001b[33m\u001b[1m│ \u001b[22m\u001b[39m  LinearSolveRecursiveArrayToolsExt [04950c4b-5bc4-5740-952d-02d2c1eb583a]\n",
      "\u001b[33m\u001b[1m│ \u001b[22m\u001b[39m  TransducersReferenceablesExt [befac7fd-b390-5150-b72a-6269c65d7e1f]\n",
      "\u001b[33m\u001b[1m│ \u001b[22m\u001b[39m  SciMLJacobianOperators [19f34311-ddf3-4b8b-af20-060888a46c0e]\n",
      "\u001b[33m\u001b[1m│ \u001b[22m\u001b[39m  NonlinearSolveBaseLineSearchExt [a65b7766-7c26-554a-8b8d-165d7f96f890]\n",
      "\u001b[33m\u001b[1m│ \u001b[22m\u001b[39m  DiffEqNoiseProcess [77a26b50-5914-5dd7-bc55-306e6241c503]\n",
      "\u001b[33m\u001b[1m│ \u001b[22m\u001b[39m  TransducersAdaptExt [9144d9d9-84fa-5f34-a63a-3acddca89462]\n",
      "\u001b[33m\u001b[1m│ \u001b[22m\u001b[39m  DiffEqBaseUnitfulExt [aeb06bb4-539b-5a1b-8332-034ed9f8ca66]\n",
      "\u001b[33m\u001b[1m│ \u001b[22m\u001b[39m  UnitfulExt [8d0556db-720e-519a-baed-0b9ed79749be]\n",
      "\u001b[33m\u001b[1m│ \u001b[22m\u001b[39m  NonlinearSolveBaseLinearSolveExt [3d4538b4-647b-544e-b0c2-b52d0495c932]\n",
      "\u001b[33m\u001b[1m│ \u001b[22m\u001b[39m  OrdinaryDiffEqNordsieck [c9986a66-5c92-4813-8696-a7ec84c806c8]\n",
      "\u001b[33m\u001b[1m│ \u001b[22m\u001b[39m  OrdinaryDiffEqFIRK [5960d6e9-dd7a-4743-88e7-cf307b64f125]\n",
      "\u001b[33m\u001b[1m│ \u001b[22m\u001b[39m  NonlinearSolveBaseDiffEqBaseExt [a0bd8381-04c7-5287-82b0-0bf1e59008be]\n",
      "\u001b[33m\u001b[1m│ \u001b[22m\u001b[39m  SimpleNonlinearSolve [727e6d20-b764-4bd8-a329-72de5adea6c7]\n",
      "\u001b[33m\u001b[1m│ \u001b[22m\u001b[39m  NonlinearSolveBase [be0214bd-f91f-a760-ac4e-3421ce2b2da0]\n",
      "\u001b[33m\u001b[1m│ \u001b[22m\u001b[39m  OrdinaryDiffEqIMEXMultistep [9f002381-b378-40b7-97a6-27a27c83f129]\n",
      "\u001b[33m\u001b[1m│ \u001b[22m\u001b[39m  MicroCollections [128add7d-3638-4c79-886c-908ea0c25c34]\n",
      "\u001b[33m\u001b[1m│ \u001b[22m\u001b[39m  SymbolicIndexingInterface [2efcf032-c050-4f8e-a9bb-153293bab1f5]\n",
      "\u001b[33m\u001b[1m│ \u001b[22m\u001b[39m  DatesExt [0361c7f5-3687-5641-8bd2-a1de0c64d1ed]\n",
      "\u001b[33m\u001b[1m│ \u001b[22m\u001b[39m  SciMLOperatorsSparseArraysExt [9985400b-97ec-5583-b534-4f70b643bcf7]\n",
      "\u001b[33m\u001b[1m│ \u001b[22m\u001b[39m  BoundaryValueDiffEq [764a87c0-6b3e-53db-9096-fe964310641d]\n",
      "\u001b[33m\u001b[1m│ \u001b[22m\u001b[39m  BangBangTablesExt [476361b5-ac10-5c09-8bec-30d098a22a5b]\n",
      "\u001b[33m\u001b[1m└ \u001b[22m\u001b[39m\u001b[90m@ Pkg.API C:\\hostedtoolcache\\windows\\julia\\1.10.7\\x64\\share\\julia\\stdlib\\v1.10\\Pkg\\src\\API.jl:1279\u001b[39m\n"
     ]
    },
    {
     "name": "stderr",
     "output_type": "stream",
     "text": [
      "\u001b[36m\u001b[1m[ \u001b[22m\u001b[39m\u001b[36m\u001b[1mInfo: \u001b[22m\u001b[39mPrecompiling StaticArraysExt [6207fee4-2535-5e24-a3ba-6518da1c7d2a]\n"
     ]
    },
    {
     "name": "stderr",
     "output_type": "stream",
     "text": [
      "\u001b[33m\u001b[1m┌ \u001b[22m\u001b[39m\u001b[33m\u001b[1mWarning: \u001b[22m\u001b[39mCircular dependency detected. Precompilation will be skipped for:\n",
      "\u001b[33m\u001b[1m│ \u001b[22m\u001b[39m  NonlinearSolveBaseSparseMatrixColoringsExt [e3ecd195-ca82-5397-9546-f380c1e34951]\n",
      "\u001b[33m\u001b[1m│ \u001b[22m\u001b[39m  DiffEqBaseChainRulesCoreExt [b00db79b-61e3-50fb-b26f-2d35b2d9e4ed]\n",
      "\u001b[33m\u001b[1m│ \u001b[22m\u001b[39m  Transducers [28d57a85-8fef-5791-bfe6-a80928e7c999]\n",
      "\u001b[33m\u001b[1m│ \u001b[22m\u001b[39m  NonlinearSolve [8913a72c-1f9b-4ce2-8d82-65094dcecaec]\n",
      "\u001b[33m\u001b[1m│ \u001b[22m\u001b[39m  OrdinaryDiffEq [1dea7af3-3e70-54e6-95c3-0bf5283fa5ed]\n",
      "\u001b[33m\u001b[1m│ \u001b[22m\u001b[39m  DifferentialEquationsFMIExt [232470a1-1d28-551b-8e3b-d6141e70703a]\n",
      "\u001b[33m\u001b[1m│ \u001b[22m\u001b[39m  NonlinearSolveBaseForwardDiffExt [63d416d0-6995-5965-81e0-55251226d976]\n",
      "\u001b[33m\u001b[1m│ \u001b[22m\u001b[39m  Folds [41a02a25-b8f0-4f67-bc48-60067656b558]\n",
      "\u001b[33m\u001b[1m│ \u001b[22m\u001b[39m  LineSearchLineSearchesExt [8d20b31a-8b56-511a-b573-0bef60e8c8c7]\n",
      "\u001b[33m\u001b[1m│ \u001b[22m\u001b[39m  NonlinearSolveBandedMatricesExt [8800daa3-e725-5fa8-982f-091420a833d6]\n",
      "\u001b[33m\u001b[1m│ \u001b[22m\u001b[39m  OrdinaryDiffEqFunctionMap [d3585ca7-f5d3-4ba6-8057-292ed1abd90f]\n",
      "\u001b[33m\u001b[1m│ \u001b[22m\u001b[39m  LinearSolveEnzymeExt [133222a9-3015-5ee0-8b28-65fc8ed13c28]\n",
      "\u001b[33m\u001b[1m│ \u001b[22m\u001b[39m  OrdinaryDiffEqLinear [521117fe-8c41-49f8-b3b6-30780b3f0fb5]\n",
      "\u001b[33m\u001b[1m│ \u001b[22m\u001b[39m  OrdinaryDiffEqTsit5 [b1df2697-797e-41e3-8120-5422d3b24e4a]\n",
      "\u001b[33m\u001b[1m│ \u001b[22m\u001b[39m  TestExt [62af87b3-b810-57d2-b7eb-8929911df373]\n",
      "\u001b[33m\u001b[1m│ \u001b[22m\u001b[39m  OrdinaryDiffEqBDF [6ad6398a-0878-4a85-9266-38940aa047c8]\n",
      "\u001b[33m\u001b[1m│ \u001b[22m\u001b[39m  StaticArraysExt [6207fee4-2535-5e24-a3ba-6518da1c7d2a]\n",
      "\u001b[33m\u001b[1m│ \u001b[22m\u001b[39m  SparseDiffTools [47a9eef4-7e08-11e9-0b38-333d64bd3804]\n",
      "\u001b[33m\u001b[1m│ \u001b[22m\u001b[39m  OrdinaryDiffEqPRK [5b33eab2-c0f1-4480-b2c3-94bc1e80bda1]\n",
      "\u001b[33m\u001b[1m│ \u001b[22m\u001b[39m  OrdinaryDiffEqDefault [50262376-6c5a-4cf5-baba-aaf4f84d72d7]\n",
      "\u001b[33m\u001b[1m│ \u001b[22m\u001b[39m  BoundaryValueDiffEqShooting [ed55bfe0-3725-4db6-871e-a1dc9f42a757]\n",
      "\u001b[33m\u001b[1m│ \u001b[22m\u001b[39m  OrdinaryDiffEqRosenbrock [43230ef6-c299-4910-a778-202eb28ce4ce]\n",
      "\u001b[33m\u001b[1m│ \u001b[22m\u001b[39m  JumpProcesses [ccbc3e58-028d-4f4c-8cd5-9ae44345cda5]\n",
      "\u001b[33m\u001b[1m│ \u001b[22m\u001b[39m  SteadyStateDiffEq [9672c7b4-1e72-59bd-8a11-6ac3964bc41f]\n",
      "\u001b[33m\u001b[1m│ \u001b[22m\u001b[39m  OrdinaryDiffEqAdamsBashforthMoulton [89bda076-bce5-4f1c-845f-551c83cdda9a]\n",
      "\u001b[33m\u001b[1m│ \u001b[22m\u001b[39m  OrdinaryDiffEqExplicitRK [9286f039-9fbf-40e8-bf65-aa933bdc4db0]\n",
      "\u001b[33m\u001b[1m│ \u001b[22m\u001b[39m  OrdinaryDiffEqCore [bbf590c4-e513-4bbe-9b18-05decba2e5d8]\n",
      "\u001b[33m\u001b[1m│ \u001b[22m\u001b[39m  OrdinaryDiffEqCoreEnzymeCoreExt [ca1c724a-f4aa-55ef-b8e4-2f05449449ac]\n",
      "\u001b[33m\u001b[1m│ \u001b[22m\u001b[39m  OrdinaryDiffEqPDIRK [5dd0a6cf-3d4b-4314-aa06-06d4e299bc89]\n",
      "\u001b[33m\u001b[1m│ \u001b[22m\u001b[39m  MATExt [5e726ecd-5b00-51ec-bc99-f7ee9de03178]\n",
      "\u001b[33m\u001b[1m│ \u001b[22m\u001b[39m  NonlinearSolveNLsolveExt [ae262b1c-8c8a-50b1-9ef3-b8fcfb893e74]\n",
      "\u001b[33m\u001b[1m│ \u001b[22m\u001b[39m  OrdinaryDiffEqStabilizedRK [358294b1-0aab-51c3-aafe-ad5ab194a2ad]\n",
      "\u001b[33m\u001b[1m│ \u001b[22m\u001b[39m  OrdinaryDiffEqSSPRK [669c94d9-1f4b-4b64-b377-1aa079aa2388]\n",
      "\u001b[33m\u001b[1m│ \u001b[22m\u001b[39m  DelayDiffEq [bcd4f6db-9728-5f36-b5f7-82caef46ccdb]\n",
      "\u001b[33m\u001b[1m│ \u001b[22m\u001b[39m  DifferentialEquations [0c46a032-eb83-5123-abaf-570d42b7fbaa]\n",
      "\u001b[33m\u001b[1m│ \u001b[22m\u001b[39m  NonlinearSolveBaseSparseArraysExt [8494477e-8a74-521a-b11a-5a22161b1bc8]\n",
      "\u001b[33m\u001b[1m│ \u001b[22m\u001b[39m  PlotsExt [e73c9e8f-3556-58c3-b67e-c4596fa67ff1]\n",
      "\u001b[33m\u001b[1m│ \u001b[22m\u001b[39m  LinearSolveBandedMatricesExt [9522afde-9e86-5396-abc8-24b7312356fe]\n",
      "\u001b[33m\u001b[1m│ \u001b[22m\u001b[39m  BoundaryValueDiffEqFIRK [85d9eb09-370e-4000-bb32-543851f73618]\n",
      "\u001b[33m\u001b[1m│ \u001b[22m\u001b[39m  BoundaryValueDiffEqMIRK [1a22d4ce-7765-49ea-b6f2-13c8438986a6]\n",
      "\u001b[33m\u001b[1m│ \u001b[22m\u001b[39m  OrdinaryDiffEqRKN [af6ede74-add8-4cfd-b1df-9a4dbb109d7a]\n",
      "\u001b[33m\u001b[1m│ \u001b[22m\u001b[39m  LinearSolve [7ed4a6bd-45f5-4d41-b270-4a48e9bafcae]\n",
      "\u001b[33m\u001b[1m│ \u001b[22m\u001b[39m  OrdinaryDiffEqQPRK [04162be5-8125-4266-98ed-640baecc6514]\n",
      "\u001b[33m\u001b[1m│ \u001b[22m\u001b[39m  RecursiveArrayToolsForwardDiffExt [14203109-85fb-5f77-af23-1cb7d9032242]\n",
      "\u001b[33m\u001b[1m│ \u001b[22m\u001b[39m  DiffEqBaseSparseArraysExt [4131c53f-b1d6-5635-a7a3-57f6f930b644]\n",
      "\u001b[33m\u001b[1m│ \u001b[22m\u001b[39m  TransducersLazyArraysExt [cdbecb60-77cf-500a-86c2-8d8bbf22df88]\n",
      "\u001b[33m\u001b[1m│ \u001b[22m\u001b[39m  NonlinearSolveBaseBandedMatricesExt [f3d6eb4f-59b9-5696-a638-eddf66c7554e]\n",
      "\u001b[33m\u001b[1m│ \u001b[22m\u001b[39m  NonlinearSolveFirstOrder [5959db7a-ea39-4486-b5fe-2dd0bf03d60d]\n",
      "\u001b[33m\u001b[1m│ \u001b[22m\u001b[39m  SciMLOperatorsStaticArraysCoreExt [a2df0a61-553a-563b-aed7-0ce21874eb58]\n",
      "\u001b[33m\u001b[1m│ \u001b[22m\u001b[39m  Sundials [c3572dad-4567-51f8-b174-8c6c989267f4]\n",
      "\u001b[33m\u001b[1m│ \u001b[22m\u001b[39m  RecursiveArrayToolsFastBroadcastExt [42296aa8-c874-5f57-b5c1-8d6f5ebd5400]\n",
      "\u001b[33m\u001b[1m│ \u001b[22m\u001b[39m  SciMLBase [0bca4576-84f4-4d90-8ffe-ffa030f20462]\n",
      "\u001b[33m\u001b[1m│ \u001b[22m\u001b[39m  ForwardDiffExt [92c717c9-c1e5-53c1-ac59-0de8aab6796e]\n",
      "\u001b[33m\u001b[1m│ \u001b[22m\u001b[39m  LinearSolveFastAlmostBandedMatricesExt [f94f2e43-4c39-5f8d-ab9c-7017feb07ff4]\n",
      "\u001b[33m\u001b[1m│ \u001b[22m\u001b[39m  OrdinaryDiffEqHighOrderRK [d28bc4f8-55e1-4f49-af69-84c1a99f0f58]\n",
      "\u001b[33m\u001b[1m│ \u001b[22m\u001b[39m  OrdinaryDiffEqLowStorageRK [b0944070-b475-4768-8dec-fb6eb410534d]\n",
      "\u001b[33m\u001b[1m│ \u001b[22m\u001b[39m  OrdinaryDiffEqSymplecticRK [fa646aed-7ef9-47eb-84c4-9443fc8cbfa8]\n",
      "\u001b[33m\u001b[1m│ \u001b[22m\u001b[39m  OrdinaryDiffEqStabilizedIRK [e3e12d00-db14-5390-b879-ac3dd2ef6296]\n",
      "\u001b[33m\u001b[1m│ \u001b[22m\u001b[39m  FMIImport [9fcbc62e-52a0-44e9-a616-1359a0008194]\n",
      "\u001b[33m\u001b[1m│ \u001b[22m\u001b[39m  OrdinaryDiffEqLowOrderRK [1344f307-1e59-4825-a18e-ace9aa3fa4c6]\n",
      "\u001b[33m\u001b[1m│ \u001b[22m\u001b[39m  OrdinaryDiffEqExponentialRK [e0540318-69ee-4070-8777-9e2de6de23de]\n",
      "\u001b[33m\u001b[1m│ \u001b[22m\u001b[39m  OrdinaryDiffEqDifferentiation [4302a76b-040a-498a-8c04-15b101fed76b]\n",
      "\u001b[33m\u001b[1m│ \u001b[22m\u001b[39m  OrdinaryDiffEqNonlinearSolve [127b3ac7-2247-4354-8eb6-78cf4e7c58e8]\n",
      "\u001b[33m\u001b[1m│ \u001b[22m\u001b[39m  SparseDiffToolsPolyesterExt [9f049cbb-7c7d-5dfe-91f7-cf323d5306ff]\n",
      "\u001b[33m\u001b[1m│ \u001b[22m\u001b[39m  OrdinaryDiffEqSDIRK [2d112036-d095-4a1e-ab9a-08536f3ecdbf]\n",
      "\u001b[33m\u001b[1m│ \u001b[22m\u001b[39m  LinearAlgebraExt [ef8e1453-9c17-56fe-886b-405471570bc8]\n",
      "\u001b[33m\u001b[1m│ \u001b[22m\u001b[39m  LineSearch [87fe0de2-c867-4266-b59a-2f0a94fc965b]\n",
      "\u001b[33m\u001b[1m│ \u001b[22m\u001b[39m  SciMLBaseChainRulesCoreExt [4676cac9-c8e0-5d6e-a4e0-e3351593cdf5]\n",
      "\u001b[33m\u001b[1m│ \u001b[22m\u001b[39m  OrdinaryDiffEqExtrapolation [becaefa8-8ca2-5cf9-886d-c06f3d2bd2c4]\n",
      "\u001b[33m\u001b[1m│ \u001b[22m\u001b[39m  OrdinaryDiffEqVerner [79d7bb75-1356-48c1-b8c0-6832512096c2]\n",
      "\u001b[33m\u001b[1m│ \u001b[22m\u001b[39m  SimpleNonlinearSolveChainRulesCoreExt [073a8d7d-86ee-5d75-9348-f9bf6155b014]\n",
      "\u001b[33m\u001b[1m│ \u001b[22m\u001b[39m  DiffEqCallbacks [459566f4-90b8-5000-8ac3-15dfb0a30def]\n",
      "\u001b[33m\u001b[1m│ \u001b[22m\u001b[39m  FMI [14a09403-18e3-468f-ad8a-74f8dda2d9ac]\n",
      "\u001b[33m\u001b[1m│ \u001b[22m\u001b[39m  BangBang [198e06fe-97b7-11e9-32a5-e1d131e6ad66]\n",
      "\u001b[33m\u001b[1m│ \u001b[22m\u001b[39m  DiffEqBaseDistributionsExt [24f3332a-0dc5-5d65-94b6-25e75cab9690]\n",
      "\u001b[33m\u001b[1m│ \u001b[22m\u001b[39m  SciMLOperators [c0aeaf25-5076-4817-a8d5-81caf7dfa961]\n",
      "\u001b[33m\u001b[1m│ \u001b[22m\u001b[39m  FMIBase [900ee838-d029-460e-b485-d98a826ceef2]\n",
      "\u001b[33m\u001b[1m│ \u001b[22m\u001b[39m  RecursiveArrayTools [731186ca-8d62-57ce-b412-fbd966d074cd]\n",
      "\u001b[33m\u001b[1m│ \u001b[22m\u001b[39m  FMIExport [31b88311-cab6-44ed-ba9c-fe5a9abbd67a]\n",
      "\u001b[33m\u001b[1m│ \u001b[22m\u001b[39m  BoundaryValueDiffEqCore [56b672f2-a5fe-4263-ab2d-da677488eb3a]\n",
      "\u001b[33m\u001b[1m│ \u001b[22m\u001b[39m  OrdinaryDiffEqFeagin [101fe9f7-ebb6-4678-b671-3a81e7194747]\n",
      "\u001b[33m\u001b[1m│ \u001b[22m\u001b[39m  StochasticDiffEq [789caeaf-c7a9-5a7d-9973-96adeb23e2a0]\n",
      "\u001b[33m\u001b[1m│ \u001b[22m\u001b[39m  DiffEqBase [2b5f629d-d688-5b77-993f-72d75c75574e]\n",
      "\u001b[33m\u001b[1m│ \u001b[22m\u001b[39m  BangBangStaticArraysExt [a9f1882a-14fa-573e-a12d-824431257a23]\n",
      "\u001b[33m\u001b[1m│ \u001b[22m\u001b[39m  FMIZooExt [0fe4e21f-c175-5a0f-899f-abb2d776b1a2]\n",
      "\u001b[33m\u001b[1m│ \u001b[22m\u001b[39m  RecursiveArrayToolsSparseArraysExt [73e54eaf-3344-511d-b088-1ac5413eca63]\n",
      "\u001b[33m\u001b[1m│ \u001b[22m\u001b[39m  BangBangChainRulesCoreExt [47e8a63d-7df8-5da4-81a4-8f5796ea640c]\n",
      "\u001b[33m\u001b[1m│ \u001b[22m\u001b[39m  LinearSolveRecursiveArrayToolsExt [04950c4b-5bc4-5740-952d-02d2c1eb583a]\n",
      "\u001b[33m\u001b[1m│ \u001b[22m\u001b[39m  TransducersReferenceablesExt [befac7fd-b390-5150-b72a-6269c65d7e1f]\n",
      "\u001b[33m\u001b[1m│ \u001b[22m\u001b[39m  SciMLJacobianOperators [19f34311-ddf3-4b8b-af20-060888a46c0e]\n",
      "\u001b[33m\u001b[1m│ \u001b[22m\u001b[39m  NonlinearSolveBaseLineSearchExt [a65b7766-7c26-554a-8b8d-165d7f96f890]\n",
      "\u001b[33m\u001b[1m│ \u001b[22m\u001b[39m  DiffEqNoiseProcess [77a26b50-5914-5dd7-bc55-306e6241c503]\n",
      "\u001b[33m\u001b[1m│ \u001b[22m\u001b[39m  TransducersAdaptExt [9144d9d9-84fa-5f34-a63a-3acddca89462]\n",
      "\u001b[33m\u001b[1m│ \u001b[22m\u001b[39m  DiffEqBaseUnitfulExt [aeb06bb4-539b-5a1b-8332-034ed9f8ca66]\n",
      "\u001b[33m\u001b[1m│ \u001b[22m\u001b[39m  UnitfulExt [8d0556db-720e-519a-baed-0b9ed79749be]\n",
      "\u001b[33m\u001b[1m│ \u001b[22m\u001b[39m  NonlinearSolveBaseLinearSolveExt [3d4538b4-647b-544e-b0c2-b52d0495c932]\n",
      "\u001b[33m\u001b[1m│ \u001b[22m\u001b[39m  OrdinaryDiffEqNordsieck [c9986a66-5c92-4813-8696-a7ec84c806c8]\n",
      "\u001b[33m\u001b[1m│ \u001b[22m\u001b[39m  OrdinaryDiffEqFIRK [5960d6e9-dd7a-4743-88e7-cf307b64f125]\n",
      "\u001b[33m\u001b[1m│ \u001b[22m\u001b[39m  NonlinearSolveBaseDiffEqBaseExt [a0bd8381-04c7-5287-82b0-0bf1e59008be]\n",
      "\u001b[33m\u001b[1m│ \u001b[22m\u001b[39m  SimpleNonlinearSolve [727e6d20-b764-4bd8-a329-72de5adea6c7]\n",
      "\u001b[33m\u001b[1m│ \u001b[22m\u001b[39m  NonlinearSolveBase [be0214bd-f91f-a760-ac4e-3421ce2b2da0]\n",
      "\u001b[33m\u001b[1m│ \u001b[22m\u001b[39m  OrdinaryDiffEqIMEXMultistep [9f002381-b378-40b7-97a6-27a27c83f129]\n",
      "\u001b[33m\u001b[1m│ \u001b[22m\u001b[39m  MicroCollections [128add7d-3638-4c79-886c-908ea0c25c34]\n",
      "\u001b[33m\u001b[1m│ \u001b[22m\u001b[39m  SymbolicIndexingInterface [2efcf032-c050-4f8e-a9bb-153293bab1f5]\n",
      "\u001b[33m\u001b[1m│ \u001b[22m\u001b[39m  DatesExt [0361c7f5-3687-5641-8bd2-a1de0c64d1ed]\n",
      "\u001b[33m\u001b[1m│ \u001b[22m\u001b[39m  SciMLOperatorsSparseArraysExt [9985400b-97ec-5583-b534-4f70b643bcf7]\n",
      "\u001b[33m\u001b[1m│ \u001b[22m\u001b[39m  BoundaryValueDiffEq [764a87c0-6b3e-53db-9096-fe964310641d]\n",
      "\u001b[33m\u001b[1m│ \u001b[22m\u001b[39m  BangBangTablesExt [476361b5-ac10-5c09-8bec-30d098a22a5b]\n",
      "\u001b[33m\u001b[1m└ \u001b[22m\u001b[39m\u001b[90m@ Pkg.API C:\\hostedtoolcache\\windows\\julia\\1.10.7\\x64\\share\\julia\\stdlib\\v1.10\\Pkg\\src\\API.jl:1279\u001b[39m\n"
     ]
    },
    {
     "name": "stderr",
     "output_type": "stream",
     "text": [
      "\u001b[36m\u001b[1m[ \u001b[22m\u001b[39m\u001b[36m\u001b[1mInfo: \u001b[22m\u001b[39mPrecompiling FMIZooExt [0fe4e21f-c175-5a0f-899f-abb2d776b1a2]\n"
     ]
    }
   ],
   "cell_type": "code",
   "source": [
    "# imports\n",
    "using FMI\n",
    "using FMIZoo"
   ],
   "metadata": {
    "scrolled": false,
    "execution": {
     "iopub.status.idle": "2025-01-09T15:27:53.272000Z",
     "iopub.status.busy": "2025-01-09T15:24:26.226000Z",
     "iopub.execute_input": "2025-01-09T15:24:26.226000Z",
     "shell.execute_reply": "2025-01-09T15:27:53.272000Z"
    }
   },
   "execution_count": 2
  },
  {
   "cell_type": "markdown",
   "source": [
    "### Simulation setup\n",
    "\n",
    "Next, the start time and end time of the simulation are set."
   ],
   "metadata": {}
  },
  {
   "outputs": [
    {
     "output_type": "execute_result",
     "data": {
      "text/plain": [
       "2-element Vector{Float64}:\n",
       " 0.0\n",
       " 1.0"
      ]
     },
     "metadata": {},
     "execution_count": 3
    }
   ],
   "cell_type": "code",
   "source": [
    "tStart = 0.0\n",
    "tStop = 1.0\n",
    "tSave = collect(tStart:tStop)"
   ],
   "metadata": {
    "scrolled": false,
    "execution": {
     "iopub.status.idle": "2025-01-09T15:27:55.555000Z",
     "iopub.status.busy": "2025-01-09T15:27:53.272000Z",
     "iopub.execute_input": "2025-01-09T15:27:53.413000Z",
     "shell.execute_reply": "2025-01-09T15:27:55.555000Z"
    }
   },
   "execution_count": 3
  },
  {
   "cell_type": "markdown",
   "source": [
    "### Import FMU\n",
    "\n",
    "In the next lines of code the FMU model from *FMIZoo.jl* is loaded and the information about the FMU is shown."
   ],
   "metadata": {}
  },
  {
   "outputs": [
    {
     "name": "stdout",
     "output_type": "stream",
     "text": [
      "#################### Begin information for FMU ####################\n",
      "\tModel name:\t\t\tIO\n",
      "\tFMI-Version:\t\t\t2.0\n",
      "\tGUID:\t\t\t\t{889089a6-481b-41a6-a282-f6ce02a33aa6}\n",
      "\tGeneration tool:\t\tDymola Version 2022x (64-bit), 2021-10-08\n",
      "\tGeneration time:\t\t2022-05-19T06:53:52Z\n",
      "\tVar. naming conv.:\t\tstructured\n",
      "\tEvent indicators:\t\t4\n",
      "\tInputs:\t\t\t\t3"
     ]
    },
    {
     "name": "stdout",
     "output_type": "stream",
     "text": [
      "\n",
      "\t\t352321536 [\"u_real\"]\n",
      "\t\t352321537 [\"u_boolean\"]\n",
      "\t\t352321538 [\"u_integer\"]\n",
      "\tOutputs:\t\t\t3\n",
      "\t\t335544320 [\"y_real\"]\n",
      "\t\t335544321 [\"y_boolean\"]\n",
      "\t\t335544322 [\"y_integer\"]\n",
      "\tStates:\t\t\t\t0\n",
      "\tParameters:\t\t\t5\n",
      "\t\t16777216 [\"p_real\"]\n",
      "\t\t16777217 [\"p_integer\"]\n",
      "\t\t16777218 [\"p_boolean\"]\n",
      "\t\t16777219 [\"p_enumeration\"]\n",
      "\t\t134217728 [\"p_string\"]\n",
      "\tSupports Co-Simulation:\t\ttrue\n",
      "\t\tModel identifier:\tIO\n",
      "\t\tGet/Set State:\t\ttrue\n",
      "\t\tSerialize State:\ttrue\n",
      "\t\tDir. Derivatives:\ttrue\n",
      "\t\tVar. com. steps:\ttrue\n",
      "\t\tInput interpol.:\ttrue\n",
      "\t\tMax order out. der.:\t1\n",
      "\tSupports Model-Exchange:\ttrue\n",
      "\t\tModel identifier:\tIO\n",
      "\t\tGet/Set State:\t\ttrue\n",
      "\t\tSerialize State:\ttrue\n",
      "\t\tDir. Derivatives:\ttrue\n",
      "##################### End information for FMU #####################\n"
     ]
    }
   ],
   "cell_type": "code",
   "source": [
    "# we use an FMU from the FMIZoo.jl\n",
    "# just replace this line with a local path if you want to use your own FMU\n",
    "pathToFMU = get_model_filename(\"IO\", \"Dymola\", \"2022x\")\n",
    "\n",
    "fmu = loadFMU(pathToFMU)\n",
    "info(fmu)"
   ],
   "metadata": {
    "scrolled": false,
    "execution": {
     "iopub.status.idle": "2025-01-09T15:28:01.402000Z",
     "iopub.status.busy": "2025-01-09T15:27:55.555000Z",
     "iopub.execute_input": "2025-01-09T15:27:55.555000Z",
     "shell.execute_reply": "2025-01-09T15:28:01.402000Z"
    }
   },
   "execution_count": 4
  },
  {
   "cell_type": "markdown",
   "source": [
    "### Option A: Integrated parameterization feature of *FMI.jl*\n",
    "If you are using the commands for simulation integrated in *FMI.jl*, the parameters and initial conditions are set at the correct locations during the initialization process of your FMU. This is the recommended way of parameterizing your model, if you don't have very uncommon requirements regarding initialization."
   ],
   "metadata": {}
  },
  {
   "outputs": [
    {
     "output_type": "execute_result",
     "data": {
      "text/plain": [
       "Dict{String, Any}()"
      ]
     },
     "metadata": {},
     "execution_count": 5
    }
   ],
   "cell_type": "code",
   "source": [
    "dict = Dict{String, Any}()\n",
    "dict"
   ],
   "metadata": {
    "execution": {
     "iopub.status.idle": "2025-01-09T15:28:01.949000Z",
     "iopub.status.busy": "2025-01-09T15:28:01.402000Z",
     "iopub.execute_input": "2025-01-09T15:28:01.402000Z",
     "shell.execute_reply": "2025-01-09T15:28:01.949000Z"
    }
   },
   "execution_count": 5
  },
  {
   "cell_type": "markdown",
   "source": [
    "### Option B: Custom parameterization routine\n",
    "If you have special requirements for initialization and parameterization, you can write your very own parameterization routine.\n",
    "\n",
    "### Instantiate and Setup FMU\n",
    "\n",
    "Next it is necessary to create an instance of the FMU. This is achieved by the command `fmiInstantiate!()`."
   ],
   "metadata": {}
  },
  {
   "outputs": [
    {
     "output_type": "execute_result",
     "data": {
      "text/plain": [
       "FMU:            IO\n",
       "    InstanceName:   IO\n",
       "    Address:        Ptr{Nothing} @0x000001db0c96c420\n",
       "    State:          0\n",
       "    Logging:        true\n",
       "    FMU time:       -Inf\n",
       "    FMU states:     nothing"
      ]
     },
     "metadata": {},
     "execution_count": 6
    }
   ],
   "cell_type": "code",
   "source": [
    "c = fmi2Instantiate!(fmu; loggingOn=true)"
   ],
   "metadata": {
    "execution": {
     "iopub.status.idle": "2025-01-09T15:28:02.888000Z",
     "iopub.status.busy": "2025-01-09T15:28:01.949000Z",
     "iopub.execute_input": "2025-01-09T15:28:01.949000Z",
     "shell.execute_reply": "2025-01-09T15:28:02.888000Z"
    }
   },
   "execution_count": 6
  },
  {
   "cell_type": "markdown",
   "source": [
    "In the following code block, start and end time for the simulation is set by the `fmiSetupExperiment()` command."
   ],
   "metadata": {}
  },
  {
   "outputs": [
    {
     "output_type": "execute_result",
     "data": {
      "text/plain": [
       "0x00000000"
      ]
     },
     "metadata": {},
     "execution_count": 7
    }
   ],
   "cell_type": "code",
   "source": [
    "fmi2SetupExperiment(c, tStart, tStop)"
   ],
   "metadata": {
    "execution": {
     "iopub.status.idle": "2025-01-09T15:28:03.075000Z",
     "iopub.status.busy": "2025-01-09T15:28:02.888000Z",
     "iopub.execute_input": "2025-01-09T15:28:02.888000Z",
     "shell.execute_reply": "2025-01-09T15:28:03.075000Z"
    }
   },
   "execution_count": 7
  },
  {
   "cell_type": "markdown",
   "source": [
    "### Parameterize FMU\n",
    "\n",
    "In this example, for each data type (`real`, `boolean`, `integer` and `string`) a corresponding input or parameter is selected. From here on, the inputs and parameters will be referred to as parameters for simplicity."
   ],
   "metadata": {}
  },
  {
   "outputs": [
    {
     "output_type": "execute_result",
     "data": {
      "text/plain": [
       "4-element Vector{String}:\n",
       " \"p_real\"\n",
       " \"p_boolean\"\n",
       " \"p_integer\"\n",
       " \"p_string\""
      ]
     },
     "metadata": {},
     "execution_count": 8
    }
   ],
   "cell_type": "code",
   "source": [
    "params = [\"p_real\", \"p_boolean\", \"p_integer\", \"p_string\"]"
   ],
   "metadata": {
    "execution": {
     "iopub.status.idle": "2025-01-09T15:28:03.434000Z",
     "iopub.status.busy": "2025-01-09T15:28:03.075000Z",
     "iopub.execute_input": "2025-01-09T15:28:03.075000Z",
     "shell.execute_reply": "2025-01-09T15:28:03.434000Z"
    }
   },
   "execution_count": 8
  },
  {
   "cell_type": "markdown",
   "source": [
    "At the beginning we want to display the initial state of these parameters, for which the FMU must be in initialization mode. The next function `fmiEnterInitializationMode()` informs the FMU to enter the initialization mode. Before calling this function, the variables can be set. Furthermore, `fmiSetupExperiment()` must be called at least once before calling `fmiEnterInitializationMode()`, in order that the start time is defined."
   ],
   "metadata": {}
  },
  {
   "outputs": [
    {
     "output_type": "execute_result",
     "data": {
      "text/plain": [
       "0x00000000"
      ]
     },
     "metadata": {},
     "execution_count": 9
    }
   ],
   "cell_type": "code",
   "source": [
    "fmi2EnterInitializationMode(c)"
   ],
   "metadata": {
    "scrolled": true,
    "execution": {
     "iopub.status.idle": "2025-01-09T15:28:03.466000Z",
     "iopub.status.busy": "2025-01-09T15:28:03.434000Z",
     "iopub.execute_input": "2025-01-09T15:28:03.434000Z",
     "shell.execute_reply": "2025-01-09T15:28:03.466000Z"
    }
   },
   "execution_count": 9
  },
  {
   "cell_type": "markdown",
   "source": [
    "The initial state of these parameters are displayed with the function `getValue()`."
   ],
   "metadata": {}
  },
  {
   "outputs": [
    {
     "output_type": "execute_result",
     "data": {
      "text/plain": [
       "4-element Vector{Any}:\n",
       " 0.0\n",
       " 0\n",
       " 0\n",
       "  \"Hello World!\""
      ]
     },
     "metadata": {},
     "execution_count": 10
    }
   ],
   "cell_type": "code",
   "source": [
    "getValue(c, params)"
   ],
   "metadata": {
    "execution": {
     "iopub.status.idle": "2025-01-09T15:28:04.200000Z",
     "iopub.status.busy": "2025-01-09T15:28:03.481000Z",
     "iopub.execute_input": "2025-01-09T15:28:03.481000Z",
     "shell.execute_reply": "2025-01-09T15:28:04.200000Z"
    }
   },
   "execution_count": 10
  },
  {
   "cell_type": "markdown",
   "source": [
    "The initialization mode is terminated with the function `fmi2ExitInitializationMode()`. (For the model exchange FMU type, this function switches off all initialization equations, and enters the event mode implicitly.)"
   ],
   "metadata": {}
  },
  {
   "outputs": [
    {
     "output_type": "execute_result",
     "data": {
      "text/plain": [
       "0x00000000"
      ]
     },
     "metadata": {},
     "execution_count": 11
    }
   ],
   "cell_type": "code",
   "source": [
    "fmi2ExitInitializationMode(c)"
   ],
   "metadata": {
    "execution": {
     "iopub.status.idle": "2025-01-09T15:28:04.247000Z",
     "iopub.status.busy": "2025-01-09T15:28:04.200000Z",
     "iopub.execute_input": "2025-01-09T15:28:04.200000Z",
     "shell.execute_reply": "2025-01-09T15:28:04.247000Z"
    }
   },
   "execution_count": 11
  },
  {
   "cell_type": "markdown",
   "source": [
    "In the next step, a function is defined that generates a random value for each parameter. For the parameter `p_string` a random number is inserted into the string. All parameters are combined to a tuple and output."
   ],
   "metadata": {}
  },
  {
   "outputs": [
    {
     "output_type": "execute_result",
     "data": {
      "text/plain": [
       "generateRandomNumbers (generic function with 1 method)"
      ]
     },
     "metadata": {},
     "execution_count": 12
    }
   ],
   "cell_type": "code",
   "source": [
    "function generateRandomNumbers()\n",
    "    rndReal = 100 * rand()\n",
    "    rndBoolean = rand() > 0.5\n",
    "    rndInteger = round(Integer, 100 * rand())\n",
    "    rndString = \"Random number $(100 * rand())!\"\n",
    "\n",
    "    return rndReal, rndBoolean, rndInteger, rndString\n",
    "end"
   ],
   "metadata": {
    "execution": {
     "iopub.status.idle": "2025-01-09T15:28:04.404000Z",
     "iopub.status.busy": "2025-01-09T15:28:04.247000Z",
     "iopub.execute_input": "2025-01-09T15:28:04.247000Z",
     "shell.execute_reply": "2025-01-09T15:28:04.404000Z"
    }
   },
   "execution_count": 12
  },
  {
   "cell_type": "markdown",
   "source": [
    "The previously defined function is called and the results are displayed in the console."
   ],
   "metadata": {}
  },
  {
   "outputs": [
    {
     "output_type": "execute_result",
     "data": {
      "text/plain": [
       "(99.71195395748381, true, 49, \"Random number 27.25374833040084!\")"
      ]
     },
     "metadata": {},
     "execution_count": 13
    }
   ],
   "cell_type": "code",
   "source": [
    "paramsVal = generateRandomNumbers()"
   ],
   "metadata": {
    "execution": {
     "iopub.status.idle": "2025-01-09T15:28:04.638000Z",
     "iopub.status.busy": "2025-01-09T15:28:04.404000Z",
     "iopub.execute_input": "2025-01-09T15:28:04.404000Z",
     "shell.execute_reply": "2025-01-09T15:28:04.638000Z"
    }
   },
   "execution_count": 13
  },
  {
   "cell_type": "markdown",
   "source": [
    "#### First variant\n",
    "\n",
    "To show the first variant, it is necessary to terminate and reset the FMU instance. Then, as before, the setup command must be called for the FMU. "
   ],
   "metadata": {}
  },
  {
   "outputs": [
    {
     "output_type": "execute_result",
     "data": {
      "text/plain": [
       "0x00000000"
      ]
     },
     "metadata": {},
     "execution_count": 14
    }
   ],
   "cell_type": "code",
   "source": [
    "fmi2Terminate(c)\n",
    "fmi2Reset(c)\n",
    "fmi2SetupExperiment(c, tStart, tStop)"
   ],
   "metadata": {
    "execution": {
     "iopub.status.idle": "2025-01-09T15:28:04.701000Z",
     "iopub.status.busy": "2025-01-09T15:28:04.638000Z",
     "iopub.execute_input": "2025-01-09T15:28:04.638000Z",
     "shell.execute_reply": "2025-01-09T15:28:04.701000Z"
    }
   },
   "execution_count": 14
  },
  {
   "cell_type": "markdown",
   "source": [
    "In the next step it is possible to set the parameters for the FMU. With the first variant it is quickly possible to set all parameters at once. Even different data types can be set with only one command. The command `setValue()` selects itself which function is chosen for which data type.  As long as the output of the function gives the status code 0, setting the parameters has worked."
   ],
   "metadata": {}
  },
  {
   "outputs": [
    {
     "output_type": "execute_result",
     "data": {
      "text/plain": [
       "4-element Vector{UInt32}:\n",
       " 0x00000000\n",
       " 0x00000000\n",
       " 0x00000000\n",
       " 0x00000000"
      ]
     },
     "metadata": {},
     "execution_count": 15
    }
   ],
   "cell_type": "code",
   "source": [
    "setValue(c, params, collect(paramsVal))"
   ],
   "metadata": {
    "execution": {
     "iopub.status.idle": "2025-01-09T15:28:05.482000Z",
     "iopub.status.busy": "2025-01-09T15:28:04.701000Z",
     "iopub.execute_input": "2025-01-09T15:28:04.701000Z",
     "shell.execute_reply": "2025-01-09T15:28:05.482000Z"
    }
   },
   "execution_count": 15
  },
  {
   "cell_type": "markdown",
   "source": [
    "After setting the parameters, it can be checked whether the corresponding parameters were set correctly. For this the function `getValue()` can be used as above. To be able to call the function `getValue()` the FMU must be in initialization mode."
   ],
   "metadata": {}
  },
  {
   "outputs": [
    {
     "output_type": "execute_result",
     "data": {
      "text/plain": [
       "0x00000000"
      ]
     },
     "metadata": {},
     "execution_count": 16
    }
   ],
   "cell_type": "code",
   "source": [
    "fmi2EnterInitializationMode(c)\n",
    "# getValue(c, params)\n",
    "fmi2ExitInitializationMode(c)"
   ],
   "metadata": {
    "execution": {
     "iopub.status.idle": "2025-01-09T15:28:05.488000Z",
     "iopub.status.busy": "2025-01-09T15:28:05.488000Z",
     "iopub.execute_input": "2025-01-09T15:28:05.488000Z",
     "shell.execute_reply": "2025-01-09T15:28:05.488000Z"
    }
   },
   "execution_count": 16
  },
  {
   "cell_type": "markdown",
   "source": [
    "Now the FMU has been initialized correctly, the FMU can be simulated. The `simulate()` command is used for this purpose. It must be pointed out that the keywords `instantiate=false`, `setup=false` must be set. The keyword `instantiate=false` prevents the simulation command from creating a new FMU instance, otherwise our parameterization will be lost. The keyword `setup=false` prevents the FMU from calling the initialization mode again. The additionally listed keyword `freeInstance=false` prevents that the instance is removed after the simulation. This is only needed in this example, because we want to continue working on the created instance. Another keyword is the `recordValues=parmas[1:3]`, which saves: `p_real`, `p_boolean` and `p_integer` as output. It should be noted that the `simulate()` function is not capable of outputting string values, so `p_string` is omitted."
   ],
   "metadata": {}
  },
  {
   "outputs": [
    {
     "output_type": "execute_result",
     "data": {
      "text/plain": [
       "Model name:\n",
       "\tIO\n",
       "Success:\n",
       "\ttrue\n",
       "f(x)-Evaluations:\n",
       "\tIn-place: 0\n",
       "\tOut-of-place: 0\n",
       "Jacobian-Evaluations:\n",
       "\t∂ẋ_∂p: 0\n",
       "\t∂ẋ_∂x: 0\n",
       "\t∂ẋ_∂u: 0\n",
       "\t∂y_∂p: 0\n",
       "\t∂y_∂x: 0\n",
       "\t∂y_∂u: 0\n",
       "\t∂e_∂p: 0\n",
       "\t∂e_∂x: 0\n",
       "\t∂e_∂u: 0\n",
       "\t∂xr_∂xl: 0\n",
       "Gradient-Evaluations:\n",
       "\t∂ẋ_∂t: 0\n",
       "\t∂y_∂t: 0\n",
       "\t∂e_∂t: 0\n",
       "Callback-Evaluations:\n",
       "\tCondition (event-indicators): 0\n",
       "\tTime-Choice (event-instances): 0\n",
       "\tAffect (event-handling): 0\n",
       "\tSave values: 0\n",
       "\tSteps completed: 0\n",
       "Values [2]:\n",
       "\t0.0\t(99.71195395748381, 1.0, 49.0)\n",
       "\t1.0\t(99.71195395748381, 1.0, 49.0)\n",
       "Events [0]:\n"
      ]
     },
     "metadata": {},
     "execution_count": 17
    }
   ],
   "cell_type": "code",
   "source": [
    "simData = simulate(c, (tStart, tStop); recordValues=params[1:3], saveat=tSave, \n",
    "                        instantiate=false, setup=false, freeInstance=false, terminate=false, reset=false)"
   ],
   "metadata": {
    "execution": {
     "iopub.status.idle": "2025-01-09T15:28:08.514000Z",
     "iopub.status.busy": "2025-01-09T15:28:05.488000Z",
     "iopub.execute_input": "2025-01-09T15:28:05.488000Z",
     "shell.execute_reply": "2025-01-09T15:28:08.514000Z"
    }
   },
   "execution_count": 17
  },
  {
   "cell_type": "markdown",
   "source": [
    "#### Second variant\n",
    "\n",
    "To show the second variant, it is necessary to terminate and reset the FMU instance. Then, as before, the setup command must be called for the FMU. "
   ],
   "metadata": {}
  },
  {
   "outputs": [
    {
     "output_type": "execute_result",
     "data": {
      "text/plain": [
       "0x00000000"
      ]
     },
     "metadata": {},
     "execution_count": 18
    }
   ],
   "cell_type": "code",
   "source": [
    "fmi2Terminate(c)\n",
    "fmi2Reset(c)\n",
    "fmi2SetupExperiment(c, tStart, tStop)"
   ],
   "metadata": {
    "execution": {
     "iopub.status.idle": "2025-01-09T15:28:08.514000Z",
     "iopub.status.busy": "2025-01-09T15:28:08.514000Z",
     "iopub.execute_input": "2025-01-09T15:28:08.514000Z",
     "shell.execute_reply": "2025-01-09T15:28:08.514000Z"
    }
   },
   "execution_count": 18
  },
  {
   "cell_type": "markdown",
   "source": [
    "To make sure that the functions work it is necessary to generate random numbers again. As shown already, we call the defined function `generateRandomNumbers()` and output the values."
   ],
   "metadata": {}
  },
  {
   "outputs": [
    {
     "output_type": "execute_result",
     "data": {
      "text/plain": [
       "(63.821182015235024, true, 98, \"Random number 38.18358553733713!\")"
      ]
     },
     "metadata": {},
     "execution_count": 19
    }
   ],
   "cell_type": "code",
   "source": [
    "rndReal, rndBoolean, rndInteger, rndString = generateRandomNumbers()"
   ],
   "metadata": {
    "execution": {
     "iopub.status.idle": "2025-01-09T15:28:08.530000Z",
     "iopub.status.busy": "2025-01-09T15:28:08.514000Z",
     "iopub.execute_input": "2025-01-09T15:28:08.514000Z",
     "shell.execute_reply": "2025-01-09T15:28:08.530000Z"
    }
   },
   "execution_count": 19
  },
  {
   "cell_type": "markdown",
   "source": [
    "In the second variant, the value for each data type is set separately by the corresponding command. By this variant one has the maximum control and can be sure that also the correct data type is set. "
   ],
   "metadata": {}
  },
  {
   "outputs": [
    {
     "output_type": "execute_result",
     "data": {
      "text/plain": [
       "0x00000000"
      ]
     },
     "metadata": {},
     "execution_count": 20
    }
   ],
   "cell_type": "code",
   "source": [
    "fmi2SetReal(c, \"p_real\", rndReal)\n",
    "fmi2SetBoolean(c, \"p_boolean\", rndBoolean)\n",
    "fmi2SetInteger(c, \"p_integer\", rndInteger)\n",
    "fmi2SetString(c, \"p_string\", rndString)"
   ],
   "metadata": {
    "execution": {
     "iopub.status.idle": "2025-01-09T15:28:08.608000Z",
     "iopub.status.busy": "2025-01-09T15:28:08.530000Z",
     "iopub.execute_input": "2025-01-09T15:28:08.530000Z",
     "shell.execute_reply": "2025-01-09T15:28:08.608000Z"
    }
   },
   "execution_count": 20
  },
  {
   "cell_type": "markdown",
   "source": [
    "To illustrate the functionality of the parameterization with the separate functions, the corresponding get function can be also called separately for each data type:\n",
    "* `fmi2SetReal()` &#8660; `fmi2GetReal()`\n",
    "* `fmi2SetBoolean()` &#8660; `fmi2GetBoolean()`\n",
    "* `fmi2SetInteger()` &#8660; `fmi2GetInteger()`\n",
    "* `fmi2SetString()` &#8660; `fmi2GetString()`.\n",
    "\n",
    "As before, the FMU must be in initialization mode."
   ],
   "metadata": {}
  },
  {
   "outputs": [
    {
     "output_type": "execute_result",
     "data": {
      "text/plain": [
       "0x00000000"
      ]
     },
     "metadata": {},
     "execution_count": 21
    }
   ],
   "cell_type": "code",
   "source": [
    "fmi2EnterInitializationMode(c)\n",
    "# fmi2GetReal(c, \"u_real\")\n",
    "# fmi2GetBoolean(c, \"u_boolean\")\n",
    "# fmi2GetInteger(c, \"u_integer\")\n",
    "# fmi2GetString(c, \"p_string\")\n",
    "fmi2ExitInitializationMode(c)"
   ],
   "metadata": {
    "execution": {
     "iopub.status.idle": "2025-01-09T15:28:08.608000Z",
     "iopub.status.busy": "2025-01-09T15:28:08.608000Z",
     "iopub.execute_input": "2025-01-09T15:28:08.608000Z",
     "shell.execute_reply": "2025-01-09T15:28:08.608000Z"
    }
   },
   "execution_count": 21
  },
  {
   "cell_type": "markdown",
   "source": [
    "From here on, you may want to simulate the FMU. Please note, that with the default `executionConfig`, it is necessary to prevent a new instantiation using the keyword `instantiate=false`. Otherwise, a new instance is allocated for the simulation-call and the parameters set for the previous instance are not transfered."
   ],
   "metadata": {}
  },
  {
   "outputs": [
    {
     "output_type": "execute_result",
     "data": {
      "text/plain": [
       "Model name:\n",
       "\tIO\n",
       "Success:\n",
       "\ttrue\n",
       "f(x)-Evaluations:\n",
       "\tIn-place: 0\n",
       "\tOut-of-place: 0\n",
       "Jacobian-Evaluations:\n",
       "\t∂ẋ_∂p: 0\n",
       "\t∂ẋ_∂x: 0\n",
       "\t∂ẋ_∂u: 0\n",
       "\t∂y_∂p: 0\n",
       "\t∂y_∂x: 0\n",
       "\t∂y_∂u: 0\n",
       "\t∂e_∂p: 0\n",
       "\t∂e_∂x: 0\n",
       "\t∂e_∂u: 0\n",
       "\t∂xr_∂xl: 0\n",
       "Gradient-Evaluations:\n",
       "\t∂ẋ_∂t: 0\n",
       "\t∂y_∂t: 0\n",
       "\t∂e_∂t: 0\n",
       "Callback-Evaluations:\n",
       "\tCondition (event-indicators): 0\n",
       "\tTime-Choice (event-instances): 0\n",
       "\tAffect (event-handling): 0\n",
       "\tSave values: 0\n",
       "\tSteps completed: 0\n",
       "Values [2]:\n",
       "\t0.0\t(63.821182015235024, 1.0, 98.0)\n",
       "\t1.0\t(63.821182015235024, 1.0, 98.0)\n",
       "Events [0]:\n"
      ]
     },
     "metadata": {},
     "execution_count": 22
    }
   ],
   "cell_type": "code",
   "source": [
    "simData = simulate(c, (tStart, tStop); recordValues=params[1:3], saveat=tSave, \n",
    "                        instantiate=false, setup=false)"
   ],
   "metadata": {
    "execution": {
     "iopub.status.idle": "2025-01-09T15:28:08.842000Z",
     "iopub.status.busy": "2025-01-09T15:28:08.608000Z",
     "iopub.execute_input": "2025-01-09T15:28:08.608000Z",
     "shell.execute_reply": "2025-01-09T15:28:08.842000Z"
    }
   },
   "execution_count": 22
  },
  {
   "cell_type": "markdown",
   "source": [
    "### Unload FMU\n",
    "\n",
    "The FMU will be unloaded and all unpacked data on disc will be removed."
   ],
   "metadata": {}
  },
  {
   "outputs": [],
   "cell_type": "code",
   "source": [
    "unloadFMU(fmu)"
   ],
   "metadata": {
    "execution": {
     "iopub.status.idle": "2025-01-09T15:28:09.108000Z",
     "iopub.status.busy": "2025-01-09T15:28:08.842000Z",
     "iopub.execute_input": "2025-01-09T15:28:08.842000Z",
     "shell.execute_reply": "2025-01-09T15:28:09.108000Z"
    }
   },
   "execution_count": 23
  },
  {
   "cell_type": "markdown",
   "source": [
    "### Summary\n",
    "\n",
    "Based on this tutorial it can be seen that there are two different variants to set and get parameters.These examples should make it clear to the user how parameters can also be set with different data types. As a small reminder, the sequence of commands for the manual parameterization of an FMU is summarized again. \n",
    "\n",
    "`loadFMU()` &#8594; `fmiInstantiate!()` &#8594; `fmiSetupExperiment()` &#8594; `fmiSetXXX()` &#8594; `fmiEnterInitializationMode()` &#8594; `fmiGetXXX()` &#8594; `fmiExitInitializationMode()` &#8594; `simualte()` &#8594; `unloadFMU()`"
   ],
   "metadata": {}
  }
 ],
 "nbformat_minor": 2,
 "metadata": {
  "language_info": {
   "file_extension": ".jl",
   "mimetype": "application/julia",
   "name": "julia",
   "version": "1.10.7"
  },
  "kernelspec": {
   "name": "julia-1.10",
   "display_name": "Julia 1.10.5",
   "language": "julia"
  },
  "nteract": {
   "version": "0.28.0"
  },
  "jupytext": {
   "comment_magics": "false",
   "cell_metadata_filter": "-all",
   "notebook_metadata_filter": "-all"
  },
  "interpreter": {
   "hash": "037537ff7419c497b9325f7d495147943224d408cf5d5ed915294a5b960167b0"
  }
 },
 "nbformat": 4
}
