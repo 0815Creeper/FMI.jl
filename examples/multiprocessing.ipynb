{
 "cells": [
  {
   "cell_type": "markdown",
   "metadata": {},
   "source": [
    "# Multiprocessing\n",
    "Tutorial by Jonas Wilfert, Tobias Thummerer\n",
    "\n",
    "## License"
   ]
  },
  {
   "cell_type": "code",
   "execution_count": 1,
   "metadata": {
    "execution": {
     "iopub.execute_input": "2022-10-19T12:04:32.276000Z",
     "iopub.status.busy": "2022-10-19T12:04:31.640000Z",
     "iopub.status.idle": "2022-10-19T12:04:32.547000Z",
     "shell.execute_reply": "2022-10-19T12:04:32.475000Z"
    }
   },
   "outputs": [],
   "source": [
    "# Copyright (c) 2021 Tobias Thummerer, Lars Mikelsons, Josef Kircher, Johannes Stoljar, Jonas Wilfert\n",
    "# Licensed under the MIT license. \n",
    "# See LICENSE (https://github.com/thummeto/FMI.jl/blob/main/LICENSE) file in the project root for details."
   ]
  },
  {
   "cell_type": "markdown",
   "metadata": {},
   "source": [
    "## Motivation\n",
    "This Julia Package *FMI.jl* is motivated by the use of simulation models in Julia. Here the FMI specification is implemented. FMI (*Functional Mock-up Interface*) is a free standard ([fmi-standard.org](http://fmi-standard.org/)) that defines a container and an interface to exchange dynamic models using a combination of XML files, binaries and C code zipped into a single file. The user can thus use simulation models in the form of an FMU (*Functional Mock-up Units*). Besides loading the FMU, the user can also set values for parameters and states and simulate the FMU both as co-simulation and model exchange simulation.\n",
    "\n",
    "## Introduction to the example\n",
    "This example shows how to parallelize the computation of an FMU in FMI.jl. We can compute a batch of FMU-evaluations in parallel with different initial settings.\n",
    "Parallelization can be achieved using multithreading or using multiprocessing. This example shows **multiprocessing**, check `multithreading.ipynb` for multithreading.\n",
    "Advantage of multithreading is a lower communication overhead as well as lower RAM usage.\n",
    "However in some cases multiprocessing can be faster as the garbage collector is not shared.\n",
    "\n",
    "\n",
    "The model used is a one-dimensional spring pendulum with friction. The object-orientated structure of the *SpringFrictionPendulum1D* can be seen in the following graphic.\n",
    "\n",
    "![svg](https://github.com/thummeto/FMI.jl/blob/main/docs/src/examples/pics/SpringFrictionPendulum1D.svg?raw=true)  \n",
    "\n",
    "\n",
    "## Target group\n",
    "The example is primarily intended for users who work in the field of simulations. The example wants to show how simple it is to use FMUs in Julia.\n",
    "\n",
    "\n",
    "## Other formats\n",
    "Besides, this [Jupyter Notebook](https://github.com/thummeto/FMI.jl/blob/examples/examples/multiprocessing.ipynb) there is also a [Julia file](https://github.com/thummeto/FMI.jl/blob/examples/examples/multiprocessing.jl) with the same name, which contains only the code cells and for the documentation there is a [Markdown file](https://github.com/thummeto/FMI.jl/blob/examples/examples/multiprocessing.md) corresponding to the notebook.  \n",
    "\n",
    "\n",
    "## Getting started\n",
    "\n",
    "### Installation prerequisites\n",
    "|     | Description                       | Command                   | Alternative                                    |   \n",
    "|:----|:----------------------------------|:--------------------------|:-----------------------------------------------|\n",
    "| 1.  | Enter Package Manager via         | ]                         |                                                |\n",
    "| 2.  | Install FMI via                   | add FMI                   | add \" https://github.com/ThummeTo/FMI.jl \"     |\n",
    "| 3.  | Install FMIZoo via                | add FMIZoo                | add \" https://github.com/ThummeTo/FMIZoo.jl \"  |\n",
    "| 4.  | Install FMICore via               | add FMICore               | add \" https://github.com/ThummeTo/FMICore.jl \" |\n",
    "| 5.  | Install BenchmarkTools via        | add BenchmarkTools        |                                                |"
   ]
  },
  {
   "cell_type": "markdown",
   "metadata": {},
   "source": [
    "## Code section\n",
    "\n"
   ]
  },
  {
   "cell_type": "markdown",
   "metadata": {},
   "source": [
    "Adding your desired amount of processes:"
   ]
  },
  {
   "cell_type": "code",
   "execution_count": 2,
   "metadata": {
    "execution": {
     "iopub.execute_input": "2022-10-19T12:04:32.549000Z",
     "iopub.status.busy": "2022-10-19T12:04:32.549000Z",
     "iopub.status.idle": "2022-10-19T12:04:39.914000Z",
     "shell.execute_reply": "2022-10-19T12:04:39.913000Z"
    }
   },
   "outputs": [
    {
     "data": {
      "text/plain": [
       "2-element Vector{Int64}:\n",
       " 2\n",
       " 3"
      ]
     },
     "execution_count": 2,
     "metadata": {},
     "output_type": "execute_result"
    }
   ],
   "source": [
    "using Distributed\n",
    "n_procs = 2\n",
    "addprocs(n_procs; exeflags=`--project=$(Base.active_project()) --threads=auto`, restrict=false)"
   ]
  },
  {
   "cell_type": "markdown",
   "metadata": {},
   "source": [
    "To run the example, the previously installed packages must be included. "
   ]
  },
  {
   "cell_type": "code",
   "execution_count": 3,
   "metadata": {
    "execution": {
     "iopub.execute_input": "2022-10-19T12:04:39.917000Z",
     "iopub.status.busy": "2022-10-19T12:04:39.917000Z",
     "iopub.status.idle": "2022-10-19T12:05:46.169000Z",
     "shell.execute_reply": "2022-10-19T12:05:46.064000Z"
    }
   },
   "outputs": [],
   "source": [
    "# imports\n",
    "@everywhere using FMI\n",
    "@everywhere using FMIZoo\n",
    "@everywhere using BenchmarkTools"
   ]
  },
  {
   "cell_type": "markdown",
   "metadata": {},
   "source": [
    "Checking that we workers have been correctly initialized:"
   ]
  },
  {
   "cell_type": "code",
   "execution_count": 4,
   "metadata": {
    "execution": {
     "iopub.execute_input": "2022-10-19T12:05:46.373000Z",
     "iopub.status.busy": "2022-10-19T12:05:46.179000Z",
     "iopub.status.idle": "2022-10-19T12:05:46.479000Z",
     "shell.execute_reply": "2022-10-19T12:05:46.479000Z"
    }
   },
   "outputs": [
    {
     "name": "stdout",
     "output_type": "stream",
     "text": [
      "Hello World!\n",
      "      From worker 2:\tHello World!\n",
      "      From worker 3:\tHello World!\n"
     ]
    }
   ],
   "source": [
    "workers()\n",
    "\n",
    "@everywhere println(\"Hello World!\")\n",
    "\n",
    "# The following lines can be uncommented for more advanced informations about the subprocesses\n",
    "# @everywhere println(pwd())\n",
    "# @everywhere println(Base.active_project())\n",
    "# @everywhere println(gethostname())\n",
    "# @everywhere println(VERSION)\n",
    "# @everywhere println(Threads.nthreads())"
   ]
  },
  {
   "cell_type": "markdown",
   "metadata": {},
   "source": [
    "### Simulation setup\n",
    "\n",
    "Next, the batch size and input values are defined."
   ]
  },
  {
   "cell_type": "code",
   "execution_count": 5,
   "metadata": {
    "execution": {
     "iopub.execute_input": "2022-10-19T12:05:46.482000Z",
     "iopub.status.busy": "2022-10-19T12:05:46.482000Z",
     "iopub.status.idle": "2022-10-19T12:05:51.771000Z",
     "shell.execute_reply": "2022-10-19T12:05:51.771000Z"
    }
   },
   "outputs": [
    {
     "data": {
      "text/plain": [
       "16-element Vector{Vector{Float64}}:\n",
       " [0.611253981391177, 0.8207869196569761]\n",
       " [0.5685216452523414, 0.25151320792144416]\n",
       " [0.2090200401253608, 0.9164502620543917]\n",
       " [0.8465157927937055, 0.777847443289823]\n",
       " [0.6840407018470058, 0.12079363373720109]\n",
       " [0.14499873023318943, 0.6816307170938527]\n",
       " [0.7818811875999667, 0.426588447159471]\n",
       " [0.08425619353398406, 0.21094644847655686]\n",
       " [0.8608260843385993, 0.540364799430229]\n",
       " [0.25714093128714355, 0.5885200887354354]\n",
       " [0.22816700920446098, 0.6592961685409635]\n",
       " [0.5537992875202788, 0.6178508696752727]\n",
       " [0.8569054547562036, 0.21561434766793308]\n",
       " [0.9989676648357533, 0.8799165832843521]\n",
       " [0.04860552348871905, 0.10245918038030344]\n",
       " [0.6327125931455819, 0.2762181497080294]"
      ]
     },
     "execution_count": 5,
     "metadata": {},
     "output_type": "execute_result"
    }
   ],
   "source": [
    "\n",
    "# Best if batchSize is a multiple of the threads/cores\n",
    "batchSize = 16\n",
    "\n",
    "# Define an array of arrays randomly\n",
    "input_values = collect(collect.(eachrow(rand(batchSize,2))))"
   ]
  },
  {
   "cell_type": "markdown",
   "metadata": {},
   "source": [
    "### Shared Module\n",
    "For Distributed we need to embed the FMU into its own `module`. This prevents Distributed from trying to serialize and send the FMU over the network, as this can cause issues. This module needs to be made available on all processes using `@everywhere`."
   ]
  },
  {
   "cell_type": "code",
   "execution_count": 6,
   "metadata": {
    "execution": {
     "iopub.execute_input": "2022-10-19T12:05:51.775000Z",
     "iopub.status.busy": "2022-10-19T12:05:51.774000Z",
     "iopub.status.idle": "2022-10-19T12:05:58.601000Z",
     "shell.execute_reply": "2022-10-19T12:05:58.601000Z"
    }
   },
   "outputs": [],
   "source": [
    "@everywhere module SharedModule\n",
    "    using FMIZoo\n",
    "    using FMI\n",
    "\n",
    "    t_start = 0.0\n",
    "    t_step = 0.1\n",
    "    t_stop = 10.0\n",
    "    tspan = (t_start, t_stop)\n",
    "    tData = collect(t_start:t_step:t_stop)\n",
    "\n",
    "    model_fmu = FMIZoo.fmiLoad(\"SpringPendulum1D\", \"Dymola\", \"2022x\")\n",
    "end"
   ]
  },
  {
   "cell_type": "markdown",
   "metadata": {},
   "source": [
    "We define a helper function to calculate the FMU and combine it into an Matrix."
   ]
  },
  {
   "cell_type": "code",
   "execution_count": 7,
   "metadata": {
    "execution": {
     "iopub.execute_input": "2022-10-19T12:05:58.604000Z",
     "iopub.status.busy": "2022-10-19T12:05:58.604000Z",
     "iopub.status.idle": "2022-10-19T12:05:58.929000Z",
     "shell.execute_reply": "2022-10-19T12:05:58.929000Z"
    }
   },
   "outputs": [],
   "source": [
    "@everywhere function runCalcFormatted(fmu, x0, recordValues=[\"mass.s\", \"mass.v\"])\n",
    "    data = fmiSimulateME(fmu, SharedModule.t_start, SharedModule.t_stop; recordValues=recordValues, saveat=SharedModule.tData, x0=x0, showProgress=false, dtmax=1e-4)\n",
    "    return reduce(hcat, data.states.u)\n",
    "end"
   ]
  },
  {
   "cell_type": "markdown",
   "metadata": {},
   "source": [
    "Running a single evaluation is pretty quick, therefore the speed can be better tested with BenchmarkTools."
   ]
  },
  {
   "cell_type": "code",
   "execution_count": 8,
   "metadata": {
    "execution": {
     "iopub.execute_input": "2022-10-19T12:05:58.931000Z",
     "iopub.status.busy": "2022-10-19T12:05:58.931000Z",
     "iopub.status.idle": "2022-10-19T12:06:41.496000Z",
     "shell.execute_reply": "2022-10-19T12:06:41.496000Z"
    }
   },
   "outputs": [
    {
     "data": {
      "text/plain": [
       "BenchmarkTools.Trial: 7 samples with 1 evaluation.\n",
       " Range \u001b[90m(\u001b[39m\u001b[36m\u001b[1mmin\u001b[22m\u001b[39m … \u001b[35mmax\u001b[39m\u001b[90m):  \u001b[39m\u001b[36m\u001b[1m702.055 ms\u001b[22m\u001b[39m … \u001b[35m736.356 ms\u001b[39m  \u001b[90m┊\u001b[39m GC \u001b[90m(\u001b[39mmin … max\u001b[90m): \u001b[39m2.30% … 2.18%\n",
       " Time  \u001b[90m(\u001b[39m\u001b[34m\u001b[1mmedian\u001b[22m\u001b[39m\u001b[90m):     \u001b[39m\u001b[34m\u001b[1m726.220 ms               \u001b[22m\u001b[39m\u001b[90m┊\u001b[39m GC \u001b[90m(\u001b[39mmedian\u001b[90m):    \u001b[39m2.23%\n",
       " Time  \u001b[90m(\u001b[39m\u001b[32m\u001b[1mmean\u001b[22m\u001b[39m ± \u001b[32mσ\u001b[39m\u001b[90m):   \u001b[39m\u001b[32m\u001b[1m720.013 ms\u001b[22m\u001b[39m ± \u001b[32m 13.222 ms\u001b[39m  \u001b[90m┊\u001b[39m GC \u001b[90m(\u001b[39mmean ± σ\u001b[90m):  \u001b[39m3.21% ± 1.17%\n",
       "\n",
       "  \u001b[39m█\u001b[39m \u001b[39m \u001b[39m█\u001b[39m \u001b[39m \u001b[39m \u001b[39m \u001b[39m \u001b[39m \u001b[39m \u001b[39m \u001b[39m \u001b[39m \u001b[39m \u001b[39m \u001b[39m \u001b[39m \u001b[39m \u001b[39m \u001b[39m \u001b[39m \u001b[39m \u001b[39m█\u001b[34m \u001b[39m\u001b[39m \u001b[39m \u001b[39m \u001b[39m \u001b[39m \u001b[39m \u001b[39m \u001b[32m \u001b[39m\u001b[39m \u001b[39m \u001b[39m \u001b[39m \u001b[39m \u001b[39m \u001b[39m \u001b[39m \u001b[39m \u001b[39m█\u001b[39m█\u001b[39m \u001b[39m \u001b[39m \u001b[39m \u001b[39m \u001b[39m█\u001b[39m \u001b[39m \u001b[39m \u001b[39m \u001b[39m \u001b[39m \u001b[39m \u001b[39m \u001b[39m \u001b[39m \u001b[39m█\u001b[39m \u001b[39m \n",
       "  \u001b[39m█\u001b[39m▁\u001b[39m▁\u001b[39m█\u001b[39m▁\u001b[39m▁\u001b[39m▁\u001b[39m▁\u001b[39m▁\u001b[39m▁\u001b[39m▁\u001b[39m▁\u001b[39m▁\u001b[39m▁\u001b[39m▁\u001b[39m▁\u001b[39m▁\u001b[39m▁\u001b[39m▁\u001b[39m▁\u001b[39m▁\u001b[39m▁\u001b[39m▁\u001b[39m█\u001b[34m▁\u001b[39m\u001b[39m▁\u001b[39m▁\u001b[39m▁\u001b[39m▁\u001b[39m▁\u001b[39m▁\u001b[39m▁\u001b[32m▁\u001b[39m\u001b[39m▁\u001b[39m▁\u001b[39m▁\u001b[39m▁\u001b[39m▁\u001b[39m▁\u001b[39m▁\u001b[39m▁\u001b[39m▁\u001b[39m█\u001b[39m█\u001b[39m▁\u001b[39m▁\u001b[39m▁\u001b[39m▁\u001b[39m▁\u001b[39m█\u001b[39m▁\u001b[39m▁\u001b[39m▁\u001b[39m▁\u001b[39m▁\u001b[39m▁\u001b[39m▁\u001b[39m▁\u001b[39m▁\u001b[39m▁\u001b[39m█\u001b[39m \u001b[39m▁\n",
       "  702 ms\u001b[90m           Histogram: frequency by time\u001b[39m          736 ms \u001b[0m\u001b[1m<\u001b[22m\n",
       "\n",
       " Memory estimate\u001b[90m: \u001b[39m\u001b[33m183.41 MiB\u001b[39m, allocs estimate\u001b[90m: \u001b[39m\u001b[33m7802092\u001b[39m."
      ]
     },
     "execution_count": 8,
     "metadata": {},
     "output_type": "execute_result"
    }
   ],
   "source": [
    "@benchmark data = runCalcFormatted(SharedModule.model_fmu, rand(2))"
   ]
  },
  {
   "cell_type": "markdown",
   "metadata": {},
   "source": [
    "### Single Threaded Batch Execution\n",
    "To compute a batch we can collect multiple evaluations. In a single threaded context we can use the same FMU for every call."
   ]
  },
  {
   "cell_type": "code",
   "execution_count": 9,
   "metadata": {
    "execution": {
     "iopub.execute_input": "2022-10-19T12:06:41.500000Z",
     "iopub.status.busy": "2022-10-19T12:06:41.500000Z",
     "iopub.status.idle": "2022-10-19T12:07:30.936000Z",
     "shell.execute_reply": "2022-10-19T12:07:30.936000Z"
    }
   },
   "outputs": [
    {
     "name": "stdout",
     "output_type": "stream",
     "text": [
      "Single Threaded\n"
     ]
    },
    {
     "data": {
      "text/plain": [
       "BenchmarkTools.Trial: 1 sample with 1 evaluation.\n",
       " Single result which took \u001b[34m11.492 s\u001b[39m (3.46% GC) to evaluate,\n",
       " with a memory estimate of \u001b[33m2.87 GiB\u001b[39m, over \u001b[33m124833460\u001b[39m allocations."
      ]
     },
     "execution_count": 9,
     "metadata": {},
     "output_type": "execute_result"
    }
   ],
   "source": [
    "println(\"Single Threaded\")\n",
    "@benchmark collect(runCalcFormatted(SharedModule.model_fmu, i) for i in input_values)"
   ]
  },
  {
   "cell_type": "markdown",
   "metadata": {},
   "source": [
    "### Multithreaded Batch Execution\n",
    "In a multithreaded context we have to provide each thread it's own fmu, as they are not thread safe.\n",
    "To spread the execution of a function to multiple processes, the function `pmap` can be used."
   ]
  },
  {
   "cell_type": "code",
   "execution_count": 10,
   "metadata": {
    "execution": {
     "iopub.execute_input": "2022-10-19T12:07:30.939000Z",
     "iopub.status.busy": "2022-10-19T12:07:30.939000Z",
     "iopub.status.idle": "2022-10-19T12:08:21.967000Z",
     "shell.execute_reply": "2022-10-19T12:08:21.966000Z"
    }
   },
   "outputs": [
    {
     "name": "stdout",
     "output_type": "stream",
     "text": [
      "Multi Threaded\n"
     ]
    },
    {
     "data": {
      "text/plain": [
       "BenchmarkTools.Trial: 1 sample with 1 evaluation.\n",
       " Single result which took \u001b[34m6.172 s\u001b[39m (0.00% GC) to evaluate,\n",
       " with a memory estimate of \u001b[33m83.42 KiB\u001b[39m, over \u001b[33m1276\u001b[39m allocations."
      ]
     },
     "execution_count": 10,
     "metadata": {},
     "output_type": "execute_result"
    }
   ],
   "source": [
    "println(\"Multi Threaded\")\n",
    "@benchmark pmap(i -> runCalcFormatted(SharedModule.model_fmu, i), input_values)"
   ]
  },
  {
   "cell_type": "markdown",
   "metadata": {},
   "source": [
    "As you can see, there is a significant speed-up in the median execution time. But: The speed-up is often much smaller than `n_procs` (or the number of physical cores of your CPU), this has different reasons. For a rule of thumb, the speed-up should be around `n/2` on a `n`-core-processor with `n` Julia processes."
   ]
  },
  {
   "cell_type": "markdown",
   "metadata": {},
   "source": [
    "### Unload FMU\n",
    "\n",
    "After calculating the data, the FMU is unloaded and all unpacked data on disc is removed."
   ]
  },
  {
   "cell_type": "code",
   "execution_count": 11,
   "metadata": {
    "execution": {
     "iopub.execute_input": "2022-10-19T12:08:21.969000Z",
     "iopub.status.busy": "2022-10-19T12:08:21.969000Z",
     "iopub.status.idle": "2022-10-19T12:08:22.026000Z",
     "shell.execute_reply": "2022-10-19T12:08:22.025000Z"
    }
   },
   "outputs": [],
   "source": [
    "@everywhere fmiUnload(SharedModule.model_fmu)"
   ]
  },
  {
   "cell_type": "markdown",
   "metadata": {},
   "source": [
    "### Summary\n",
    "\n",
    "In this tutorial it is shown how multi processing with `Distributed.jl` can be used to improve the performance for calculating a Batch of FMUs."
   ]
  }
 ],
 "metadata": {
  "kernelspec": {
   "display_name": "Julia 1.6.6",
   "language": "julia",
   "name": "julia-1.6"
  },
  "language_info": {
   "file_extension": ".jl",
   "mimetype": "application/julia",
   "name": "julia",
   "version": "1.6.7"
  }
 },
 "nbformat": 4,
 "nbformat_minor": 2
}
