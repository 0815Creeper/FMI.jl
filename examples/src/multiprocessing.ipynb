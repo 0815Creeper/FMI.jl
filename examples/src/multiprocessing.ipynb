{
 "cells": [
  {
   "cell_type": "markdown",
   "metadata": {},
   "source": [
    "# Multiprocessing\n",
    "Tutorial by Jonas Wilfert, Tobias Thummerer\n",
    "\n",
    "## License"
   ]
  },
  {
   "cell_type": "code",
   "execution_count": 1,
   "metadata": {
    "execution": {
     "iopub.execute_input": "2023-07-03T10:17:37.254000Z",
     "iopub.status.busy": "2023-07-03T10:17:36.544000Z",
     "iopub.status.idle": "2023-07-03T10:17:37.572000Z",
     "shell.execute_reply": "2023-07-03T10:17:37.474000Z"
    }
   },
   "outputs": [],
   "source": [
    "# Copyright (c) 2021 Tobias Thummerer, Lars Mikelsons, Josef Kircher, Johannes Stoljar, Jonas Wilfert\n",
    "# Licensed under the MIT license. \n",
    "# See LICENSE (https://github.com/thummeto/FMI.jl/blob/main/LICENSE) file in the project root for details."
   ]
  },
  {
   "attachments": {},
   "cell_type": "markdown",
   "metadata": {},
   "source": [
    "## Motivation\n",
    "This Julia Package *FMI.jl* is motivated by the use of simulation models in Julia. Here the FMI specification is implemented. FMI (*Functional Mock-up Interface*) is a free standard ([fmi-standard.org](http://fmi-standard.org/)) that defines a container and an interface to exchange dynamic models using a combination of XML files, binaries and C code zipped into a single file. The user can thus use simulation models in the form of an FMU (*Functional Mock-up Units*). Besides loading the FMU, the user can also set values for parameters and states and simulate the FMU both as co-simulation and model exchange simulation.\n",
    "\n",
    "## Introduction to the example\n",
    "This example shows how to parallelize the computation of an FMU in FMI.jl. We can compute a batch of FMU-evaluations in parallel with different initial settings.\n",
    "Parallelization can be achieved using multithreading or using multiprocessing. This example shows **multiprocessing**, check `multithreading.ipynb` for multithreading.\n",
    "Advantage of multithreading is a lower communication overhead as well as lower RAM usage.\n",
    "However in some cases multiprocessing can be faster as the garbage collector is not shared.\n",
    "\n",
    "\n",
    "The model used is a one-dimensional spring pendulum with friction. The object-orientated structure of the *SpringFrictionPendulum1D* can be seen in the following graphic.\n",
    "\n",
    "![svg](https://github.com/thummeto/FMI.jl/blob/main/docs/src/examples/pics/SpringFrictionPendulum1D.svg?raw=true)  \n",
    "\n",
    "\n",
    "## Target group\n",
    "The example is primarily intended for users who work in the field of simulations. The example wants to show how simple it is to use FMUs in Julia.\n",
    "\n",
    "\n",
    "## Other formats\n",
    "Besides, this [Jupyter Notebook](https://github.com/thummeto/FMI.jl/blob/examples/examples/src/multiprocessing.ipynb) there is also a [Julia file](https://github.com/thummeto/FMI.jl/blob/examples/examples/src/multiprocessing.jl) with the same name, which contains only the code cells and for the documentation there is a [Markdown file](https://github.com/thummeto/FMI.jl/blob/examples/examples/src/multiprocessing.md) corresponding to the notebook.  \n",
    "\n",
    "\n",
    "## Getting started\n",
    "\n",
    "### Installation prerequisites\n",
    "|     | Description                       | Command                   | Alternative                                    |   \n",
    "|:----|:----------------------------------|:--------------------------|:-----------------------------------------------|\n",
    "| 1.  | Enter Package Manager via         | ]                         |                                                |\n",
    "| 2.  | Install FMI via                   | add FMI                   | add \" https://github.com/ThummeTo/FMI.jl \"     |\n",
    "| 3.  | Install FMIZoo via                | add FMIZoo                | add \" https://github.com/ThummeTo/FMIZoo.jl \"  |\n",
    "| 4.  | Install FMICore via               | add FMICore               | add \" https://github.com/ThummeTo/FMICore.jl \" |\n",
    "| 5.  | Install BenchmarkTools via        | add BenchmarkTools        |                                                |"
   ]
  },
  {
   "cell_type": "markdown",
   "metadata": {},
   "source": [
    "## Code section\n",
    "\n"
   ]
  },
  {
   "cell_type": "markdown",
   "metadata": {},
   "source": [
    "Adding your desired amount of processes:"
   ]
  },
  {
   "cell_type": "code",
   "execution_count": 2,
   "metadata": {
    "execution": {
     "iopub.execute_input": "2023-07-03T10:17:37.575000Z",
     "iopub.status.busy": "2023-07-03T10:17:37.575000Z",
     "iopub.status.idle": "2023-07-03T10:17:46.372000Z",
     "shell.execute_reply": "2023-07-03T10:17:46.372000Z"
    }
   },
   "outputs": [
    {
     "data": {
      "text/plain": [
       "2-element Vector{Int64}:\n",
       " 2\n",
       " 3"
      ]
     },
     "execution_count": 2,
     "metadata": {},
     "output_type": "execute_result"
    }
   ],
   "source": [
    "using Distributed\n",
    "n_procs = 2\n",
    "addprocs(n_procs; exeflags=`--project=$(Base.active_project()) --threads=auto`, restrict=false)"
   ]
  },
  {
   "cell_type": "markdown",
   "metadata": {},
   "source": [
    "To run the example, the previously installed packages must be included. "
   ]
  },
  {
   "cell_type": "code",
   "execution_count": 3,
   "metadata": {
    "execution": {
     "iopub.execute_input": "2023-07-03T10:17:46.419000Z",
     "iopub.status.busy": "2023-07-03T10:17:46.419000Z",
     "iopub.status.idle": "2023-07-03T10:21:12.247000Z",
     "shell.execute_reply": "2023-07-03T10:21:12.243000Z"
    }
   },
   "outputs": [],
   "source": [
    "# imports\n",
    "@everywhere using FMI\n",
    "@everywhere using FMIZoo\n",
    "@everywhere using BenchmarkTools"
   ]
  },
  {
   "cell_type": "markdown",
   "metadata": {},
   "source": [
    "Checking that we workers have been correctly initialized:"
   ]
  },
  {
   "cell_type": "code",
   "execution_count": 4,
   "metadata": {
    "execution": {
     "iopub.execute_input": "2023-07-03T10:21:12.611000Z",
     "iopub.status.busy": "2023-07-03T10:21:12.359000Z",
     "iopub.status.idle": "2023-07-03T10:21:12.734000Z",
     "shell.execute_reply": "2023-07-03T10:21:12.734000Z"
    }
   },
   "outputs": [
    {
     "name": "stdout",
     "output_type": "stream",
     "text": [
      "Hello World!\n",
      "      From worker 3:\tHello World!\n",
      "      From worker 2:\tHello World!\n"
     ]
    }
   ],
   "source": [
    "workers()\n",
    "\n",
    "@everywhere println(\"Hello World!\")\n",
    "\n",
    "# The following lines can be uncommented for more advanced informations about the subprocesses\n",
    "# @everywhere println(pwd())\n",
    "# @everywhere println(Base.active_project())\n",
    "# @everywhere println(gethostname())\n",
    "# @everywhere println(VERSION)\n",
    "# @everywhere println(Threads.nthreads())"
   ]
  },
  {
   "cell_type": "markdown",
   "metadata": {},
   "source": [
    "### Simulation setup\n",
    "\n",
    "Next, the batch size and input values are defined."
   ]
  },
  {
   "cell_type": "code",
   "execution_count": 5,
   "metadata": {
    "execution": {
     "iopub.execute_input": "2023-07-03T10:21:12.760000Z",
     "iopub.status.busy": "2023-07-03T10:21:12.759000Z",
     "iopub.status.idle": "2023-07-03T10:21:16.915000Z",
     "shell.execute_reply": "2023-07-03T10:21:16.915000Z"
    }
   },
   "outputs": [
    {
     "data": {
      "text/plain": [
       "16-element Vector{Vector{Float64}}:\n",
       " [0.35736260365470074, 0.8477698862072315]\n",
       " [0.5923390269557668, 0.3535056132653226]\n",
       " [0.8609546721126116, 0.9931523381803649]\n",
       " [0.7945488973932194, 0.3237026282903034]\n",
       " [0.07079340711313986, 0.6248082764336829]\n",
       " [0.890332828862681, 0.9388573222893234]\n",
       " [0.38255306956880564, 0.8641893854773579]\n",
       " [0.9696379162593239, 0.27067765389195964]\n",
       " [0.7720783799957778, 0.5456086220839191]\n",
       " [0.07902435495476501, 0.6231663427067171]\n",
       " [0.9255478607846712, 0.8416349669780209]\n",
       " [0.06822073545077889, 0.6839583783379155]\n",
       " [0.7774065132681625, 0.22928609891230634]\n",
       " [0.8137495081180078, 0.900764085050949]\n",
       " [0.38254686878132615, 0.8284114746819569]\n",
       " [0.5179468913370971, 0.09640559884292865]"
      ]
     },
     "execution_count": 5,
     "metadata": {},
     "output_type": "execute_result"
    }
   ],
   "source": [
    "\n",
    "# Best if batchSize is a multiple of the threads/cores\n",
    "batchSize = 16\n",
    "\n",
    "# Define an array of arrays randomly\n",
    "input_values = collect(collect.(eachrow(rand(batchSize,2))))"
   ]
  },
  {
   "cell_type": "markdown",
   "metadata": {},
   "source": [
    "### Shared Module\n",
    "For Distributed we need to embed the FMU into its own `module`. This prevents Distributed from trying to serialize and send the FMU over the network, as this can cause issues. This module needs to be made available on all processes using `@everywhere`."
   ]
  },
  {
   "cell_type": "code",
   "execution_count": 6,
   "metadata": {
    "execution": {
     "iopub.execute_input": "2023-07-03T10:21:16.924000Z",
     "iopub.status.busy": "2023-07-03T10:21:16.923000Z",
     "iopub.status.idle": "2023-07-03T10:21:30.865000Z",
     "shell.execute_reply": "2023-07-03T10:21:30.865000Z"
    }
   },
   "outputs": [],
   "source": [
    "@everywhere module SharedModule\n",
    "    using FMIZoo\n",
    "    using FMI\n",
    "\n",
    "    t_start = 0.0\n",
    "    t_step = 0.1\n",
    "    t_stop = 10.0\n",
    "    tspan = (t_start, t_stop)\n",
    "    tData = collect(t_start:t_step:t_stop)\n",
    "\n",
    "    model_fmu = FMIZoo.fmiLoad(\"SpringPendulum1D\", \"Dymola\", \"2022x\")\n",
    "end"
   ]
  },
  {
   "cell_type": "markdown",
   "metadata": {},
   "source": [
    "We define a helper function to calculate the FMU and combine it into an Matrix."
   ]
  },
  {
   "cell_type": "code",
   "execution_count": 7,
   "metadata": {
    "execution": {
     "iopub.execute_input": "2023-07-03T10:21:30.868000Z",
     "iopub.status.busy": "2023-07-03T10:21:30.868000Z",
     "iopub.status.idle": "2023-07-03T10:21:30.983000Z",
     "shell.execute_reply": "2023-07-03T10:21:30.983000Z"
    }
   },
   "outputs": [],
   "source": [
    "@everywhere function runCalcFormatted(fmu, x0, recordValues=[\"mass.s\", \"mass.v\"])\n",
    "    data = fmiSimulateME(fmu, SharedModule.tspan; recordValues=recordValues, saveat=SharedModule.tData, x0=x0, showProgress=false, dtmax=1e-4)\n",
    "    return reduce(hcat, data.states.u)\n",
    "end"
   ]
  },
  {
   "cell_type": "markdown",
   "metadata": {},
   "source": [
    "Running a single evaluation is pretty quick, therefore the speed can be better tested with BenchmarkTools."
   ]
  },
  {
   "cell_type": "code",
   "execution_count": 8,
   "metadata": {
    "execution": {
     "iopub.execute_input": "2023-07-03T10:21:30.986000Z",
     "iopub.status.busy": "2023-07-03T10:21:30.986000Z",
     "iopub.status.idle": "2023-07-03T10:22:40.763000Z",
     "shell.execute_reply": "2023-07-03T10:22:40.763000Z"
    }
   },
   "outputs": [
    {
     "name": "stderr",
     "output_type": "stream",
     "text": [
      "\u001b[33m\u001b[1m┌ \u001b[22m\u001b[39m\u001b[33m\u001b[1mWarning: \u001b[22m\u001b[39mUsing arrays or dicts to store parameters of different types can hurt performance.\n",
      "\u001b[33m\u001b[1m│ \u001b[22m\u001b[39mConsider using tuples instead.\n",
      "\u001b[33m\u001b[1m└ \u001b[22m\u001b[39m\u001b[90m@ SciMLBase ~/.julia/packages/SciMLBase/s9wrq/src/performance_warnings.jl:32\u001b[39m\n",
      "\u001b[33m\u001b[1m┌ \u001b[22m\u001b[39m\u001b[33m\u001b[1mWarning: \u001b[22m\u001b[39mUsing arrays or dicts to store parameters of different types can hurt performance.\n",
      "\u001b[33m\u001b[1m│ \u001b[22m\u001b[39mConsider using tuples instead.\n",
      "\u001b[33m\u001b[1m└ \u001b[22m\u001b[39m\u001b[90m@ SciMLBase ~/.julia/packages/SciMLBase/s9wrq/src/performance_warnings.jl:32\u001b[39m\n",
      "\u001b[33m\u001b[1m┌ \u001b[22m\u001b[39m\u001b[33m\u001b[1mWarning: \u001b[22m\u001b[39mUsing arrays or dicts to store parameters of different types can hurt performance.\n",
      "\u001b[33m\u001b[1m│ \u001b[22m\u001b[39mConsider using tuples instead.\n",
      "\u001b[33m\u001b[1m└ \u001b[22m\u001b[39m\u001b[90m@ SciMLBase ~/.julia/packages/SciMLBase/s9wrq/src/performance_warnings.jl:32\u001b[39m\n",
      "\u001b[33m\u001b[1m┌ \u001b[22m\u001b[39m\u001b[33m\u001b[1mWarning: \u001b[22m\u001b[39mUsing arrays or dicts to store parameters of different types can hurt performance.\n",
      "\u001b[33m\u001b[1m│ \u001b[22m\u001b[39mConsider using tuples instead.\n",
      "\u001b[33m\u001b[1m└ \u001b[22m\u001b[39m\u001b[90m@ SciMLBase ~/.julia/packages/SciMLBase/s9wrq/src/performance_warnings.jl:32\u001b[39m\n",
      "\u001b[33m\u001b[1m┌ \u001b[22m\u001b[39m\u001b[33m\u001b[1mWarning: \u001b[22m\u001b[39mUsing arrays or dicts to store parameters of different types can hurt performance.\n",
      "\u001b[33m\u001b[1m│ \u001b[22m\u001b[39mConsider using tuples instead.\n",
      "\u001b[33m\u001b[1m└ \u001b[22m\u001b[39m\u001b[90m@ SciMLBase ~/.julia/packages/SciMLBase/s9wrq/src/performance_warnings.jl:32\u001b[39m\n",
      "\u001b[33m\u001b[1m┌ \u001b[22m\u001b[39m\u001b[33m\u001b[1mWarning: \u001b[22m\u001b[39mUsing arrays or dicts to store parameters of different types can hurt performance.\n",
      "\u001b[33m\u001b[1m│ \u001b[22m\u001b[39mConsider using tuples instead.\n",
      "\u001b[33m\u001b[1m└ \u001b[22m\u001b[39m\u001b[90m@ SciMLBase ~/.julia/packages/SciMLBase/s9wrq/src/performance_warnings.jl:32\u001b[39m\n",
      "\u001b[33m\u001b[1m┌ \u001b[22m\u001b[39m\u001b[33m\u001b[1mWarning: \u001b[22m\u001b[39mUsing arrays or dicts to store parameters of different types can hurt performance.\n",
      "\u001b[33m\u001b[1m│ \u001b[22m\u001b[39mConsider using tuples instead.\n",
      "\u001b[33m\u001b[1m└ \u001b[22m\u001b[39m\u001b[90m@ SciMLBase ~/.julia/packages/SciMLBase/s9wrq/src/performance_warnings.jl:32\u001b[39m\n",
      "\u001b[33m\u001b[1m┌ \u001b[22m\u001b[39m\u001b[33m\u001b[1mWarning: \u001b[22m\u001b[39mUsing arrays or dicts to store parameters of different types can hurt performance.\n",
      "\u001b[33m\u001b[1m│ \u001b[22m\u001b[39mConsider using tuples instead.\n",
      "\u001b[33m\u001b[1m└ \u001b[22m\u001b[39m\u001b[90m@ SciMLBase ~/.julia/packages/SciMLBase/s9wrq/src/performance_warnings.jl:32\u001b[39m\n"
     ]
    },
    {
     "data": {
      "text/plain": [
       "BenchmarkTools.Trial: 3 samples with 1 evaluation.\n",
       " Range \u001b[90m(\u001b[39m\u001b[36m\u001b[1mmin\u001b[22m\u001b[39m … \u001b[35mmax\u001b[39m\u001b[90m):  \u001b[39m\u001b[36m\u001b[1m1.971 s\u001b[22m\u001b[39m … \u001b[35m  2.044 s\u001b[39m  \u001b[90m┊\u001b[39m GC \u001b[90m(\u001b[39mmin … max\u001b[90m): \u001b[39m4.21% … 4.05%\n",
       " Time  \u001b[90m(\u001b[39m\u001b[34m\u001b[1mmedian\u001b[22m\u001b[39m\u001b[90m):     \u001b[39m\u001b[34m\u001b[1m2.003 s              \u001b[22m\u001b[39m\u001b[90m┊\u001b[39m GC \u001b[90m(\u001b[39mmedian\u001b[90m):    \u001b[39m4.13%\n",
       " Time  \u001b[90m(\u001b[39m\u001b[32m\u001b[1mmean\u001b[22m\u001b[39m ± \u001b[32mσ\u001b[39m\u001b[90m):   \u001b[39m\u001b[32m\u001b[1m2.006 s\u001b[22m\u001b[39m ± \u001b[32m36.762 ms\u001b[39m  \u001b[90m┊\u001b[39m GC \u001b[90m(\u001b[39mmean ± σ\u001b[90m):  \u001b[39m4.13% ± 0.08%\n",
       "\n",
       "  \u001b[34m█\u001b[39m\u001b[39m \u001b[39m \u001b[39m \u001b[39m \u001b[39m \u001b[39m \u001b[39m \u001b[39m \u001b[39m \u001b[39m \u001b[39m \u001b[39m \u001b[39m \u001b[39m \u001b[39m \u001b[39m \u001b[39m \u001b[39m \u001b[39m \u001b[39m \u001b[39m \u001b[39m \u001b[39m \u001b[39m█\u001b[39m \u001b[39m \u001b[32m \u001b[39m\u001b[39m \u001b[39m \u001b[39m \u001b[39m \u001b[39m \u001b[39m \u001b[39m \u001b[39m \u001b[39m \u001b[39m \u001b[39m \u001b[39m \u001b[39m \u001b[39m \u001b[39m \u001b[39m \u001b[39m \u001b[39m \u001b[39m \u001b[39m \u001b[39m \u001b[39m \u001b[39m \u001b[39m \u001b[39m \u001b[39m \u001b[39m \u001b[39m \u001b[39m█\u001b[39m \u001b[39m \n",
       "  \u001b[34m█\u001b[39m\u001b[39m▁\u001b[39m▁\u001b[39m▁\u001b[39m▁\u001b[39m▁\u001b[39m▁\u001b[39m▁\u001b[39m▁\u001b[39m▁\u001b[39m▁\u001b[39m▁\u001b[39m▁\u001b[39m▁\u001b[39m▁\u001b[39m▁\u001b[39m▁\u001b[39m▁\u001b[39m▁\u001b[39m▁\u001b[39m▁\u001b[39m▁\u001b[39m▁\u001b[39m▁\u001b[39m█\u001b[39m▁\u001b[39m▁\u001b[32m▁\u001b[39m\u001b[39m▁\u001b[39m▁\u001b[39m▁\u001b[39m▁\u001b[39m▁\u001b[39m▁\u001b[39m▁\u001b[39m▁\u001b[39m▁\u001b[39m▁\u001b[39m▁\u001b[39m▁\u001b[39m▁\u001b[39m▁\u001b[39m▁\u001b[39m▁\u001b[39m▁\u001b[39m▁\u001b[39m▁\u001b[39m▁\u001b[39m▁\u001b[39m▁\u001b[39m▁\u001b[39m▁\u001b[39m▁\u001b[39m▁\u001b[39m▁\u001b[39m▁\u001b[39m█\u001b[39m \u001b[39m▁\n",
       "  1.97 s\u001b[90m         Histogram: frequency by time\u001b[39m        2.04 s \u001b[0m\u001b[1m<\u001b[22m\n",
       "\n",
       " Memory estimate\u001b[90m: \u001b[39m\u001b[33m467.06 MiB\u001b[39m, allocs estimate\u001b[90m: \u001b[39m\u001b[33m12001460\u001b[39m."
      ]
     },
     "execution_count": 8,
     "metadata": {},
     "output_type": "execute_result"
    }
   ],
   "source": [
    "@benchmark data = runCalcFormatted(SharedModule.model_fmu, rand(2))"
   ]
  },
  {
   "cell_type": "markdown",
   "metadata": {},
   "source": [
    "### Single Threaded Batch Execution\n",
    "To compute a batch we can collect multiple evaluations. In a single threaded context we can use the same FMU for every call."
   ]
  },
  {
   "cell_type": "code",
   "execution_count": 9,
   "metadata": {
    "execution": {
     "iopub.execute_input": "2023-07-03T10:22:40.770000Z",
     "iopub.status.busy": "2023-07-03T10:22:40.770000Z",
     "iopub.status.idle": "2023-07-03T10:24:54.412000Z",
     "shell.execute_reply": "2023-07-03T10:24:54.412000Z"
    }
   },
   "outputs": [
    {
     "name": "stdout",
     "output_type": "stream",
     "text": [
      "Single Threaded\n"
     ]
    },
    {
     "name": "stderr",
     "output_type": "stream",
     "text": [
      "\u001b[33m\u001b[1m┌ \u001b[22m\u001b[39m\u001b[33m\u001b[1mWarning: \u001b[22m\u001b[39mUsing arrays or dicts to store parameters of different types can hurt performance.\n",
      "\u001b[33m\u001b[1m│ \u001b[22m\u001b[39mConsider using tuples instead.\n",
      "\u001b[33m\u001b[1m└ \u001b[22m\u001b[39m\u001b[90m@ SciMLBase ~/.julia/packages/SciMLBase/s9wrq/src/performance_warnings.jl:32\u001b[39m\n",
      "\u001b[33m\u001b[1m┌ \u001b[22m\u001b[39m\u001b[33m\u001b[1mWarning: \u001b[22m\u001b[39mUsing arrays or dicts to store parameters of different types can hurt performance.\n",
      "\u001b[33m\u001b[1m│ \u001b[22m\u001b[39mConsider using tuples instead.\n",
      "\u001b[33m\u001b[1m└ \u001b[22m\u001b[39m\u001b[90m@ SciMLBase ~/.julia/packages/SciMLBase/s9wrq/src/performance_warnings.jl:32\u001b[39m\n",
      "\u001b[33m\u001b[1m┌ \u001b[22m\u001b[39m\u001b[33m\u001b[1mWarning: \u001b[22m\u001b[39mUsing arrays or dicts to store parameters of different types can hurt performance.\n",
      "\u001b[33m\u001b[1m│ \u001b[22m\u001b[39mConsider using tuples instead.\n",
      "\u001b[33m\u001b[1m└ \u001b[22m\u001b[39m\u001b[90m@ SciMLBase ~/.julia/packages/SciMLBase/s9wrq/src/performance_warnings.jl:32\u001b[39m\n",
      "\u001b[33m\u001b[1m┌ \u001b[22m\u001b[39m\u001b[33m\u001b[1mWarning: \u001b[22m\u001b[39mUsing arrays or dicts to store parameters of different types can hurt performance.\n",
      "\u001b[33m\u001b[1m│ \u001b[22m\u001b[39mConsider using tuples instead.\n",
      "\u001b[33m\u001b[1m└ \u001b[22m\u001b[39m\u001b[90m@ SciMLBase ~/.julia/packages/SciMLBase/s9wrq/src/performance_warnings.jl:32\u001b[39m\n",
      "\u001b[33m\u001b[1m┌ \u001b[22m\u001b[39m\u001b[33m\u001b[1mWarning: \u001b[22m\u001b[39mUsing arrays or dicts to store parameters of different types can hurt performance.\n",
      "\u001b[33m\u001b[1m│ \u001b[22m\u001b[39mConsider using tuples instead.\n",
      "\u001b[33m\u001b[1m└ \u001b[22m\u001b[39m\u001b[90m@ SciMLBase ~/.julia/packages/SciMLBase/s9wrq/src/performance_warnings.jl:32\u001b[39m\n",
      "\u001b[33m\u001b[1m┌ \u001b[22m\u001b[39m\u001b[33m\u001b[1mWarning: \u001b[22m\u001b[39mUsing arrays or dicts to store parameters of different types can hurt performance.\n",
      "\u001b[33m\u001b[1m│ \u001b[22m\u001b[39mConsider using tuples instead.\n",
      "\u001b[33m\u001b[1m└ \u001b[22m\u001b[39m\u001b[90m@ SciMLBase ~/.julia/packages/SciMLBase/s9wrq/src/performance_warnings.jl:32\u001b[39m\n",
      "\u001b[33m\u001b[1m┌ \u001b[22m\u001b[39m\u001b[33m\u001b[1mWarning: \u001b[22m\u001b[39mUsing arrays or dicts to store parameters of different types can hurt performance.\n",
      "\u001b[33m\u001b[1m│ \u001b[22m\u001b[39mConsider using tuples instead.\n",
      "\u001b[33m\u001b[1m└ \u001b[22m\u001b[39m\u001b[90m@ SciMLBase ~/.julia/packages/SciMLBase/s9wrq/src/performance_warnings.jl:32\u001b[39m\n",
      "\u001b[33m\u001b[1m┌ \u001b[22m\u001b[39m\u001b[33m\u001b[1mWarning: \u001b[22m\u001b[39mUsing arrays or dicts to store parameters of different types can hurt performance.\n",
      "\u001b[33m\u001b[1m│ \u001b[22m\u001b[39mConsider using tuples instead.\n",
      "\u001b[33m\u001b[1m└ \u001b[22m\u001b[39m\u001b[90m@ SciMLBase ~/.julia/packages/SciMLBase/s9wrq/src/performance_warnings.jl:32\u001b[39m\n",
      "\u001b[33m\u001b[1m┌ \u001b[22m\u001b[39m\u001b[33m\u001b[1mWarning: \u001b[22m\u001b[39mUsing arrays or dicts to store parameters of different types can hurt performance.\n",
      "\u001b[33m\u001b[1m│ \u001b[22m\u001b[39mConsider using tuples instead.\n",
      "\u001b[33m\u001b[1m└ \u001b[22m\u001b[39m\u001b[90m@ SciMLBase ~/.julia/packages/SciMLBase/s9wrq/src/performance_warnings.jl:32\u001b[39m\n",
      "\u001b[33m\u001b[1m┌ \u001b[22m\u001b[39m\u001b[33m\u001b[1mWarning: \u001b[22m\u001b[39mUsing arrays or dicts to store parameters of different types can hurt performance.\n",
      "\u001b[33m\u001b[1m│ \u001b[22m\u001b[39mConsider using tuples instead.\n",
      "\u001b[33m\u001b[1m└ \u001b[22m\u001b[39m\u001b[90m@ SciMLBase ~/.julia/packages/SciMLBase/s9wrq/src/performance_warnings.jl:32\u001b[39m\n",
      "\u001b[33m\u001b[1m┌ \u001b[22m\u001b[39m\u001b[33m\u001b[1mWarning: \u001b[22m\u001b[39mUsing arrays or dicts to store parameters of different types can hurt performance.\n",
      "\u001b[33m\u001b[1m│ \u001b[22m\u001b[39mConsider using tuples instead.\n",
      "\u001b[33m\u001b[1m└ \u001b[22m\u001b[39m\u001b[90m@ SciMLBase ~/.julia/packages/SciMLBase/s9wrq/src/performance_warnings.jl:32\u001b[39m\n",
      "\u001b[33m\u001b[1m┌ \u001b[22m\u001b[39m\u001b[33m\u001b[1mWarning: \u001b[22m\u001b[39mUsing arrays or dicts to store parameters of different types can hurt performance.\n",
      "\u001b[33m\u001b[1m│ \u001b[22m\u001b[39mConsider using tuples instead.\n",
      "\u001b[33m\u001b[1m└ \u001b[22m\u001b[39m\u001b[90m@ SciMLBase ~/.julia/packages/SciMLBase/s9wrq/src/performance_warnings.jl:32\u001b[39m\n",
      "\u001b[33m\u001b[1m┌ \u001b[22m\u001b[39m\u001b[33m\u001b[1mWarning: \u001b[22m\u001b[39mUsing arrays or dicts to store parameters of different types can hurt performance.\n",
      "\u001b[33m\u001b[1m│ \u001b[22m\u001b[39mConsider using tuples instead.\n",
      "\u001b[33m\u001b[1m└ \u001b[22m\u001b[39m\u001b[90m@ SciMLBase ~/.julia/packages/SciMLBase/s9wrq/src/performance_warnings.jl:32\u001b[39m\n",
      "\u001b[33m\u001b[1m┌ \u001b[22m\u001b[39m\u001b[33m\u001b[1mWarning: \u001b[22m\u001b[39mUsing arrays or dicts to store parameters of different types can hurt performance.\n",
      "\u001b[33m\u001b[1m│ \u001b[22m\u001b[39mConsider using tuples instead.\n",
      "\u001b[33m\u001b[1m└ \u001b[22m\u001b[39m\u001b[90m@ SciMLBase ~/.julia/packages/SciMLBase/s9wrq/src/performance_warnings.jl:32\u001b[39m\n",
      "\u001b[33m\u001b[1m┌ \u001b[22m\u001b[39m\u001b[33m\u001b[1mWarning: \u001b[22m\u001b[39mUsing arrays or dicts to store parameters of different types can hurt performance.\n",
      "\u001b[33m\u001b[1m│ \u001b[22m\u001b[39mConsider using tuples instead.\n",
      "\u001b[33m\u001b[1m└ \u001b[22m\u001b[39m\u001b[90m@ SciMLBase ~/.julia/packages/SciMLBase/s9wrq/src/performance_warnings.jl:32\u001b[39m\n",
      "\u001b[33m\u001b[1m┌ \u001b[22m\u001b[39m\u001b[33m\u001b[1mWarning: \u001b[22m\u001b[39mUsing arrays or dicts to store parameters of different types can hurt performance.\n",
      "\u001b[33m\u001b[1m│ \u001b[22m\u001b[39mConsider using tuples instead.\n",
      "\u001b[33m\u001b[1m└ \u001b[22m\u001b[39m\u001b[90m@ SciMLBase ~/.julia/packages/SciMLBase/s9wrq/src/performance_warnings.jl:32\u001b[39m\n",
      "\u001b[33m\u001b[1m┌ \u001b[22m\u001b[39m\u001b[33m\u001b[1mWarning: \u001b[22m\u001b[39mUsing arrays or dicts to store parameters of different types can hurt performance.\n",
      "\u001b[33m\u001b[1m│ \u001b[22m\u001b[39mConsider using tuples instead.\n",
      "\u001b[33m\u001b[1m└ \u001b[22m\u001b[39m\u001b[90m@ SciMLBase ~/.julia/packages/SciMLBase/s9wrq/src/performance_warnings.jl:32\u001b[39m\n",
      "\u001b[33m\u001b[1m┌ \u001b[22m\u001b[39m\u001b[33m\u001b[1mWarning: \u001b[22m\u001b[39mUsing arrays or dicts to store parameters of different types can hurt performance.\n",
      "\u001b[33m\u001b[1m│ \u001b[22m\u001b[39mConsider using tuples instead.\n",
      "\u001b[33m\u001b[1m└ \u001b[22m\u001b[39m\u001b[90m@ SciMLBase ~/.julia/packages/SciMLBase/s9wrq/src/performance_warnings.jl:32\u001b[39m\n",
      "\u001b[33m\u001b[1m┌ \u001b[22m\u001b[39m\u001b[33m\u001b[1mWarning: \u001b[22m\u001b[39mUsing arrays or dicts to store parameters of different types can hurt performance.\n",
      "\u001b[33m\u001b[1m│ \u001b[22m\u001b[39mConsider using tuples instead.\n",
      "\u001b[33m\u001b[1m└ \u001b[22m\u001b[39m\u001b[90m@ SciMLBase ~/.julia/packages/SciMLBase/s9wrq/src/performance_warnings.jl:32\u001b[39m\n",
      "\u001b[33m\u001b[1m┌ \u001b[22m\u001b[39m\u001b[33m\u001b[1mWarning: \u001b[22m\u001b[39mUsing arrays or dicts to store parameters of different types can hurt performance.\n",
      "\u001b[33m\u001b[1m│ \u001b[22m\u001b[39mConsider using tuples instead.\n",
      "\u001b[33m\u001b[1m└ \u001b[22m\u001b[39m\u001b[90m@ SciMLBase ~/.julia/packages/SciMLBase/s9wrq/src/performance_warnings.jl:32\u001b[39m\n",
      "\u001b[33m\u001b[1m┌ \u001b[22m\u001b[39m\u001b[33m\u001b[1mWarning: \u001b[22m\u001b[39mUsing arrays or dicts to store parameters of different types can hurt performance.\n",
      "\u001b[33m\u001b[1m│ \u001b[22m\u001b[39mConsider using tuples instead.\n",
      "\u001b[33m\u001b[1m└ \u001b[22m\u001b[39m\u001b[90m@ SciMLBase ~/.julia/packages/SciMLBase/s9wrq/src/performance_warnings.jl:32\u001b[39m\n",
      "\u001b[33m\u001b[1m┌ \u001b[22m\u001b[39m\u001b[33m\u001b[1mWarning: \u001b[22m\u001b[39mUsing arrays or dicts to store parameters of different types can hurt performance.\n",
      "\u001b[33m\u001b[1m│ \u001b[22m\u001b[39mConsider using tuples instead.\n",
      "\u001b[33m\u001b[1m└ \u001b[22m\u001b[39m\u001b[90m@ SciMLBase ~/.julia/packages/SciMLBase/s9wrq/src/performance_warnings.jl:32\u001b[39m\n",
      "\u001b[33m\u001b[1m┌ \u001b[22m\u001b[39m\u001b[33m\u001b[1mWarning: \u001b[22m\u001b[39mUsing arrays or dicts to store parameters of different types can hurt performance.\n",
      "\u001b[33m\u001b[1m│ \u001b[22m\u001b[39mConsider using tuples instead.\n",
      "\u001b[33m\u001b[1m└ \u001b[22m\u001b[39m\u001b[90m@ SciMLBase ~/.julia/packages/SciMLBase/s9wrq/src/performance_warnings.jl:32\u001b[39m\n",
      "\u001b[33m\u001b[1m┌ \u001b[22m\u001b[39m\u001b[33m\u001b[1mWarning: \u001b[22m\u001b[39mUsing arrays or dicts to store parameters of different types can hurt performance.\n",
      "\u001b[33m\u001b[1m│ \u001b[22m\u001b[39mConsider using tuples instead.\n",
      "\u001b[33m\u001b[1m└ \u001b[22m\u001b[39m\u001b[90m@ SciMLBase ~/.julia/packages/SciMLBase/s9wrq/src/performance_warnings.jl:32\u001b[39m\n",
      "\u001b[33m\u001b[1m┌ \u001b[22m\u001b[39m\u001b[33m\u001b[1mWarning: \u001b[22m\u001b[39mUsing arrays or dicts to store parameters of different types can hurt performance.\n",
      "\u001b[33m\u001b[1m│ \u001b[22m\u001b[39mConsider using tuples instead.\n",
      "\u001b[33m\u001b[1m└ \u001b[22m\u001b[39m\u001b[90m@ SciMLBase ~/.julia/packages/SciMLBase/s9wrq/src/performance_warnings.jl:32\u001b[39m\n",
      "\u001b[33m\u001b[1m┌ \u001b[22m\u001b[39m\u001b[33m\u001b[1mWarning: \u001b[22m\u001b[39mUsing arrays or dicts to store parameters of different types can hurt performance.\n",
      "\u001b[33m\u001b[1m│ \u001b[22m\u001b[39mConsider using tuples instead.\n",
      "\u001b[33m\u001b[1m└ \u001b[22m\u001b[39m\u001b[90m@ SciMLBase ~/.julia/packages/SciMLBase/s9wrq/src/performance_warnings.jl:32\u001b[39m\n",
      "\u001b[33m\u001b[1m┌ \u001b[22m\u001b[39m\u001b[33m\u001b[1mWarning: \u001b[22m\u001b[39mUsing arrays or dicts to store parameters of different types can hurt performance.\n",
      "\u001b[33m\u001b[1m│ \u001b[22m\u001b[39mConsider using tuples instead.\n",
      "\u001b[33m\u001b[1m└ \u001b[22m\u001b[39m\u001b[90m@ SciMLBase ~/.julia/packages/SciMLBase/s9wrq/src/performance_warnings.jl:32\u001b[39m\n",
      "\u001b[33m\u001b[1m┌ \u001b[22m\u001b[39m\u001b[33m\u001b[1mWarning: \u001b[22m\u001b[39mUsing arrays or dicts to store parameters of different types can hurt performance.\n",
      "\u001b[33m\u001b[1m│ \u001b[22m\u001b[39mConsider using tuples instead.\n",
      "\u001b[33m\u001b[1m└ \u001b[22m\u001b[39m\u001b[90m@ SciMLBase ~/.julia/packages/SciMLBase/s9wrq/src/performance_warnings.jl:32\u001b[39m\n",
      "\u001b[33m\u001b[1m┌ \u001b[22m\u001b[39m\u001b[33m\u001b[1mWarning: \u001b[22m\u001b[39mUsing arrays or dicts to store parameters of different types can hurt performance.\n",
      "\u001b[33m\u001b[1m│ \u001b[22m\u001b[39mConsider using tuples instead.\n",
      "\u001b[33m\u001b[1m└ \u001b[22m\u001b[39m\u001b[90m@ SciMLBase ~/.julia/packages/SciMLBase/s9wrq/src/performance_warnings.jl:32\u001b[39m\n",
      "\u001b[33m\u001b[1m┌ \u001b[22m\u001b[39m\u001b[33m\u001b[1mWarning: \u001b[22m\u001b[39mUsing arrays or dicts to store parameters of different types can hurt performance.\n",
      "\u001b[33m\u001b[1m│ \u001b[22m\u001b[39mConsider using tuples instead.\n",
      "\u001b[33m\u001b[1m└ \u001b[22m\u001b[39m\u001b[90m@ SciMLBase ~/.julia/packages/SciMLBase/s9wrq/src/performance_warnings.jl:32\u001b[39m\n",
      "\u001b[33m\u001b[1m┌ \u001b[22m\u001b[39m\u001b[33m\u001b[1mWarning: \u001b[22m\u001b[39mUsing arrays or dicts to store parameters of different types can hurt performance.\n",
      "\u001b[33m\u001b[1m│ \u001b[22m\u001b[39mConsider using tuples instead.\n",
      "\u001b[33m\u001b[1m└ \u001b[22m\u001b[39m\u001b[90m@ SciMLBase ~/.julia/packages/SciMLBase/s9wrq/src/performance_warnings.jl:32\u001b[39m\n",
      "\u001b[33m\u001b[1m┌ \u001b[22m\u001b[39m\u001b[33m\u001b[1mWarning: \u001b[22m\u001b[39mUsing arrays or dicts to store parameters of different types can hurt performance.\n",
      "\u001b[33m\u001b[1m│ \u001b[22m\u001b[39mConsider using tuples instead.\n",
      "\u001b[33m\u001b[1m└ \u001b[22m\u001b[39m\u001b[90m@ SciMLBase ~/.julia/packages/SciMLBase/s9wrq/src/performance_warnings.jl:32\u001b[39m\n",
      "\u001b[33m\u001b[1m┌ \u001b[22m\u001b[39m\u001b[33m\u001b[1mWarning: \u001b[22m\u001b[39mUsing arrays or dicts to store parameters of different types can hurt performance.\n",
      "\u001b[33m\u001b[1m│ \u001b[22m\u001b[39mConsider using tuples instead.\n",
      "\u001b[33m\u001b[1m└ \u001b[22m\u001b[39m\u001b[90m@ SciMLBase ~/.julia/packages/SciMLBase/s9wrq/src/performance_warnings.jl:32\u001b[39m\n",
      "\u001b[33m\u001b[1m┌ \u001b[22m\u001b[39m\u001b[33m\u001b[1mWarning: \u001b[22m\u001b[39mUsing arrays or dicts to store parameters of different types can hurt performance.\n",
      "\u001b[33m\u001b[1m│ \u001b[22m\u001b[39mConsider using tuples instead.\n",
      "\u001b[33m\u001b[1m└ \u001b[22m\u001b[39m\u001b[90m@ SciMLBase ~/.julia/packages/SciMLBase/s9wrq/src/performance_warnings.jl:32\u001b[39m\n",
      "\u001b[33m\u001b[1m┌ \u001b[22m\u001b[39m\u001b[33m\u001b[1mWarning: \u001b[22m\u001b[39mUsing arrays or dicts to store parameters of different types can hurt performance.\n",
      "\u001b[33m\u001b[1m│ \u001b[22m\u001b[39mConsider using tuples instead.\n",
      "\u001b[33m\u001b[1m└ \u001b[22m\u001b[39m\u001b[90m@ SciMLBase ~/.julia/packages/SciMLBase/s9wrq/src/performance_warnings.jl:32\u001b[39m\n",
      "\u001b[33m\u001b[1m┌ \u001b[22m\u001b[39m\u001b[33m\u001b[1mWarning: \u001b[22m\u001b[39mUsing arrays or dicts to store parameters of different types can hurt performance.\n",
      "\u001b[33m\u001b[1m│ \u001b[22m\u001b[39mConsider using tuples instead.\n",
      "\u001b[33m\u001b[1m└ \u001b[22m\u001b[39m\u001b[90m@ SciMLBase ~/.julia/packages/SciMLBase/s9wrq/src/performance_warnings.jl:32\u001b[39m\n",
      "\u001b[33m\u001b[1m┌ \u001b[22m\u001b[39m\u001b[33m\u001b[1mWarning: \u001b[22m\u001b[39mUsing arrays or dicts to store parameters of different types can hurt performance.\n",
      "\u001b[33m\u001b[1m│ \u001b[22m\u001b[39mConsider using tuples instead.\n",
      "\u001b[33m\u001b[1m└ \u001b[22m\u001b[39m\u001b[90m@ SciMLBase ~/.julia/packages/SciMLBase/s9wrq/src/performance_warnings.jl:32\u001b[39m\n",
      "\u001b[33m\u001b[1m┌ \u001b[22m\u001b[39m\u001b[33m\u001b[1mWarning: \u001b[22m\u001b[39mUsing arrays or dicts to store parameters of different types can hurt performance.\n",
      "\u001b[33m\u001b[1m│ \u001b[22m\u001b[39mConsider using tuples instead.\n",
      "\u001b[33m\u001b[1m└ \u001b[22m\u001b[39m\u001b[90m@ SciMLBase ~/.julia/packages/SciMLBase/s9wrq/src/performance_warnings.jl:32\u001b[39m\n",
      "\u001b[33m\u001b[1m┌ \u001b[22m\u001b[39m\u001b[33m\u001b[1mWarning: \u001b[22m\u001b[39mUsing arrays or dicts to store parameters of different types can hurt performance.\n",
      "\u001b[33m\u001b[1m│ \u001b[22m\u001b[39mConsider using tuples instead.\n",
      "\u001b[33m\u001b[1m└ \u001b[22m\u001b[39m\u001b[90m@ SciMLBase ~/.julia/packages/SciMLBase/s9wrq/src/performance_warnings.jl:32\u001b[39m\n",
      "\u001b[33m\u001b[1m┌ \u001b[22m\u001b[39m\u001b[33m\u001b[1mWarning: \u001b[22m\u001b[39mUsing arrays or dicts to store parameters of different types can hurt performance.\n",
      "\u001b[33m\u001b[1m│ \u001b[22m\u001b[39mConsider using tuples instead.\n",
      "\u001b[33m\u001b[1m└ \u001b[22m\u001b[39m\u001b[90m@ SciMLBase ~/.julia/packages/SciMLBase/s9wrq/src/performance_warnings.jl:32\u001b[39m\n",
      "\u001b[33m\u001b[1m┌ \u001b[22m\u001b[39m\u001b[33m\u001b[1mWarning: \u001b[22m\u001b[39mUsing arrays or dicts to store parameters of different types can hurt performance.\n",
      "\u001b[33m\u001b[1m│ \u001b[22m\u001b[39mConsider using tuples instead.\n",
      "\u001b[33m\u001b[1m└ \u001b[22m\u001b[39m\u001b[90m@ SciMLBase ~/.julia/packages/SciMLBase/s9wrq/src/performance_warnings.jl:32\u001b[39m\n",
      "\u001b[33m\u001b[1m┌ \u001b[22m\u001b[39m\u001b[33m\u001b[1mWarning: \u001b[22m\u001b[39mUsing arrays or dicts to store parameters of different types can hurt performance.\n",
      "\u001b[33m\u001b[1m│ \u001b[22m\u001b[39mConsider using tuples instead.\n",
      "\u001b[33m\u001b[1m└ \u001b[22m\u001b[39m\u001b[90m@ SciMLBase ~/.julia/packages/SciMLBase/s9wrq/src/performance_warnings.jl:32\u001b[39m\n",
      "\u001b[33m\u001b[1m┌ \u001b[22m\u001b[39m\u001b[33m\u001b[1mWarning: \u001b[22m\u001b[39mUsing arrays or dicts to store parameters of different types can hurt performance.\n",
      "\u001b[33m\u001b[1m│ \u001b[22m\u001b[39mConsider using tuples instead.\n",
      "\u001b[33m\u001b[1m└ \u001b[22m\u001b[39m\u001b[90m@ SciMLBase ~/.julia/packages/SciMLBase/s9wrq/src/performance_warnings.jl:32\u001b[39m\n",
      "\u001b[33m\u001b[1m┌ \u001b[22m\u001b[39m\u001b[33m\u001b[1mWarning: \u001b[22m\u001b[39mUsing arrays or dicts to store parameters of different types can hurt performance.\n",
      "\u001b[33m\u001b[1m│ \u001b[22m\u001b[39mConsider using tuples instead.\n",
      "\u001b[33m\u001b[1m└ \u001b[22m\u001b[39m\u001b[90m@ SciMLBase ~/.julia/packages/SciMLBase/s9wrq/src/performance_warnings.jl:32\u001b[39m\n",
      "\u001b[33m\u001b[1m┌ \u001b[22m\u001b[39m\u001b[33m\u001b[1mWarning: \u001b[22m\u001b[39mUsing arrays or dicts to store parameters of different types can hurt performance.\n",
      "\u001b[33m\u001b[1m│ \u001b[22m\u001b[39mConsider using tuples instead.\n",
      "\u001b[33m\u001b[1m└ \u001b[22m\u001b[39m\u001b[90m@ SciMLBase ~/.julia/packages/SciMLBase/s9wrq/src/performance_warnings.jl:32\u001b[39m\n",
      "\u001b[33m\u001b[1m┌ \u001b[22m\u001b[39m\u001b[33m\u001b[1mWarning: \u001b[22m\u001b[39mUsing arrays or dicts to store parameters of different types can hurt performance.\n",
      "\u001b[33m\u001b[1m│ \u001b[22m\u001b[39mConsider using tuples instead.\n",
      "\u001b[33m\u001b[1m└ \u001b[22m\u001b[39m\u001b[90m@ SciMLBase ~/.julia/packages/SciMLBase/s9wrq/src/performance_warnings.jl:32\u001b[39m\n",
      "\u001b[33m\u001b[1m┌ \u001b[22m\u001b[39m\u001b[33m\u001b[1mWarning: \u001b[22m\u001b[39mUsing arrays or dicts to store parameters of different types can hurt performance.\n",
      "\u001b[33m\u001b[1m│ \u001b[22m\u001b[39mConsider using tuples instead.\n",
      "\u001b[33m\u001b[1m└ \u001b[22m\u001b[39m\u001b[90m@ SciMLBase ~/.julia/packages/SciMLBase/s9wrq/src/performance_warnings.jl:32\u001b[39m\n",
      "\u001b[33m\u001b[1m┌ \u001b[22m\u001b[39m\u001b[33m\u001b[1mWarning: \u001b[22m\u001b[39mUsing arrays or dicts to store parameters of different types can hurt performance.\n",
      "\u001b[33m\u001b[1m│ \u001b[22m\u001b[39mConsider using tuples instead.\n",
      "\u001b[33m\u001b[1m└ \u001b[22m\u001b[39m\u001b[90m@ SciMLBase ~/.julia/packages/SciMLBase/s9wrq/src/performance_warnings.jl:32\u001b[39m\n",
      "\u001b[33m\u001b[1m┌ \u001b[22m\u001b[39m\u001b[33m\u001b[1mWarning: \u001b[22m\u001b[39mUsing arrays or dicts to store parameters of different types can hurt performance.\n",
      "\u001b[33m\u001b[1m│ \u001b[22m\u001b[39mConsider using tuples instead.\n",
      "\u001b[33m\u001b[1m└ \u001b[22m\u001b[39m\u001b[90m@ SciMLBase ~/.julia/packages/SciMLBase/s9wrq/src/performance_warnings.jl:32\u001b[39m\n",
      "\u001b[33m\u001b[1m┌ \u001b[22m\u001b[39m\u001b[33m\u001b[1mWarning: \u001b[22m\u001b[39mUsing arrays or dicts to store parameters of different types can hurt performance.\n",
      "\u001b[33m\u001b[1m│ \u001b[22m\u001b[39mConsider using tuples instead.\n",
      "\u001b[33m\u001b[1m└ \u001b[22m\u001b[39m\u001b[90m@ SciMLBase ~/.julia/packages/SciMLBase/s9wrq/src/performance_warnings.jl:32\u001b[39m\n",
      "\u001b[33m\u001b[1m┌ \u001b[22m\u001b[39m\u001b[33m\u001b[1mWarning: \u001b[22m\u001b[39mUsing arrays or dicts to store parameters of different types can hurt performance.\n",
      "\u001b[33m\u001b[1m│ \u001b[22m\u001b[39mConsider using tuples instead.\n",
      "\u001b[33m\u001b[1m└ \u001b[22m\u001b[39m\u001b[90m@ SciMLBase ~/.julia/packages/SciMLBase/s9wrq/src/performance_warnings.jl:32\u001b[39m\n",
      "\u001b[33m\u001b[1m┌ \u001b[22m\u001b[39m\u001b[33m\u001b[1mWarning: \u001b[22m\u001b[39mUsing arrays or dicts to store parameters of different types can hurt performance.\n",
      "\u001b[33m\u001b[1m│ \u001b[22m\u001b[39mConsider using tuples instead.\n",
      "\u001b[33m\u001b[1m└ \u001b[22m\u001b[39m\u001b[90m@ SciMLBase ~/.julia/packages/SciMLBase/s9wrq/src/performance_warnings.jl:32\u001b[39m\n",
      "\u001b[33m\u001b[1m┌ \u001b[22m\u001b[39m\u001b[33m\u001b[1mWarning: \u001b[22m\u001b[39mUsing arrays or dicts to store parameters of different types can hurt performance.\n",
      "\u001b[33m\u001b[1m│ \u001b[22m\u001b[39mConsider using tuples instead.\n",
      "\u001b[33m\u001b[1m└ \u001b[22m\u001b[39m\u001b[90m@ SciMLBase ~/.julia/packages/SciMLBase/s9wrq/src/performance_warnings.jl:32\u001b[39m\n",
      "\u001b[33m\u001b[1m┌ \u001b[22m\u001b[39m\u001b[33m\u001b[1mWarning: \u001b[22m\u001b[39mUsing arrays or dicts to store parameters of different types can hurt performance.\n",
      "\u001b[33m\u001b[1m│ \u001b[22m\u001b[39mConsider using tuples instead.\n",
      "\u001b[33m\u001b[1m└ \u001b[22m\u001b[39m\u001b[90m@ SciMLBase ~/.julia/packages/SciMLBase/s9wrq/src/performance_warnings.jl:32\u001b[39m\n",
      "\u001b[33m\u001b[1m┌ \u001b[22m\u001b[39m\u001b[33m\u001b[1mWarning: \u001b[22m\u001b[39mUsing arrays or dicts to store parameters of different types can hurt performance.\n",
      "\u001b[33m\u001b[1m│ \u001b[22m\u001b[39mConsider using tuples instead.\n",
      "\u001b[33m\u001b[1m└ \u001b[22m\u001b[39m\u001b[90m@ SciMLBase ~/.julia/packages/SciMLBase/s9wrq/src/performance_warnings.jl:32\u001b[39m\n",
      "\u001b[33m\u001b[1m┌ \u001b[22m\u001b[39m\u001b[33m\u001b[1mWarning: \u001b[22m\u001b[39mUsing arrays or dicts to store parameters of different types can hurt performance.\n",
      "\u001b[33m\u001b[1m│ \u001b[22m\u001b[39mConsider using tuples instead.\n",
      "\u001b[33m\u001b[1m└ \u001b[22m\u001b[39m\u001b[90m@ SciMLBase ~/.julia/packages/SciMLBase/s9wrq/src/performance_warnings.jl:32\u001b[39m\n",
      "\u001b[33m\u001b[1m┌ \u001b[22m\u001b[39m\u001b[33m\u001b[1mWarning: \u001b[22m\u001b[39mUsing arrays or dicts to store parameters of different types can hurt performance.\n",
      "\u001b[33m\u001b[1m│ \u001b[22m\u001b[39mConsider using tuples instead.\n",
      "\u001b[33m\u001b[1m└ \u001b[22m\u001b[39m\u001b[90m@ SciMLBase ~/.julia/packages/SciMLBase/s9wrq/src/performance_warnings.jl:32\u001b[39m\n",
      "\u001b[33m\u001b[1m┌ \u001b[22m\u001b[39m\u001b[33m\u001b[1mWarning: \u001b[22m\u001b[39mUsing arrays or dicts to store parameters of different types can hurt performance.\n",
      "\u001b[33m\u001b[1m│ \u001b[22m\u001b[39mConsider using tuples instead.\n",
      "\u001b[33m\u001b[1m└ \u001b[22m\u001b[39m\u001b[90m@ SciMLBase ~/.julia/packages/SciMLBase/s9wrq/src/performance_warnings.jl:32\u001b[39m\n",
      "\u001b[33m\u001b[1m┌ \u001b[22m\u001b[39m\u001b[33m\u001b[1mWarning: \u001b[22m\u001b[39mUsing arrays or dicts to store parameters of different types can hurt performance.\n",
      "\u001b[33m\u001b[1m│ \u001b[22m\u001b[39mConsider using tuples instead.\n",
      "\u001b[33m\u001b[1m└ \u001b[22m\u001b[39m\u001b[90m@ SciMLBase ~/.julia/packages/SciMLBase/s9wrq/src/performance_warnings.jl:32\u001b[39m\n",
      "\u001b[33m\u001b[1m┌ \u001b[22m\u001b[39m\u001b[33m\u001b[1mWarning: \u001b[22m\u001b[39mUsing arrays or dicts to store parameters of different types can hurt performance.\n",
      "\u001b[33m\u001b[1m│ \u001b[22m\u001b[39mConsider using tuples instead.\n",
      "\u001b[33m\u001b[1m└ \u001b[22m\u001b[39m\u001b[90m@ SciMLBase ~/.julia/packages/SciMLBase/s9wrq/src/performance_warnings.jl:32\u001b[39m\n",
      "\u001b[33m\u001b[1m┌ \u001b[22m\u001b[39m\u001b[33m\u001b[1mWarning: \u001b[22m\u001b[39mUsing arrays or dicts to store parameters of different types can hurt performance.\n",
      "\u001b[33m\u001b[1m│ \u001b[22m\u001b[39mConsider using tuples instead.\n",
      "\u001b[33m\u001b[1m└ \u001b[22m\u001b[39m\u001b[90m@ SciMLBase ~/.julia/packages/SciMLBase/s9wrq/src/performance_warnings.jl:32\u001b[39m\n",
      "\u001b[33m\u001b[1m┌ \u001b[22m\u001b[39m\u001b[33m\u001b[1mWarning: \u001b[22m\u001b[39mUsing arrays or dicts to store parameters of different types can hurt performance.\n",
      "\u001b[33m\u001b[1m│ \u001b[22m\u001b[39mConsider using tuples instead.\n",
      "\u001b[33m\u001b[1m└ \u001b[22m\u001b[39m\u001b[90m@ SciMLBase ~/.julia/packages/SciMLBase/s9wrq/src/performance_warnings.jl:32\u001b[39m\n",
      "\u001b[33m\u001b[1m┌ \u001b[22m\u001b[39m\u001b[33m\u001b[1mWarning: \u001b[22m\u001b[39mUsing arrays or dicts to store parameters of different types can hurt performance.\n",
      "\u001b[33m\u001b[1m│ \u001b[22m\u001b[39mConsider using tuples instead.\n",
      "\u001b[33m\u001b[1m└ \u001b[22m\u001b[39m\u001b[90m@ SciMLBase ~/.julia/packages/SciMLBase/s9wrq/src/performance_warnings.jl:32\u001b[39m\n",
      "\u001b[33m\u001b[1m┌ \u001b[22m\u001b[39m\u001b[33m\u001b[1mWarning: \u001b[22m\u001b[39mUsing arrays or dicts to store parameters of different types can hurt performance.\n",
      "\u001b[33m\u001b[1m│ \u001b[22m\u001b[39mConsider using tuples instead.\n",
      "\u001b[33m\u001b[1m└ \u001b[22m\u001b[39m\u001b[90m@ SciMLBase ~/.julia/packages/SciMLBase/s9wrq/src/performance_warnings.jl:32\u001b[39m\n"
     ]
    },
    {
     "data": {
      "text/plain": [
       "BenchmarkTools.Trial: 1 sample with 1 evaluation.\n",
       " Single result which took \u001b[34m32.008 s\u001b[39m (4.24% GC) to evaluate,\n",
       " with a memory estimate of \u001b[33m7.30 GiB\u001b[39m, over \u001b[33m192024322\u001b[39m allocations."
      ]
     },
     "execution_count": 9,
     "metadata": {},
     "output_type": "execute_result"
    }
   ],
   "source": [
    "println(\"Single Threaded\")\n",
    "@benchmark collect(runCalcFormatted(SharedModule.model_fmu, i) for i in input_values)"
   ]
  },
  {
   "cell_type": "markdown",
   "metadata": {},
   "source": [
    "### Multithreaded Batch Execution\n",
    "In a multithreaded context we have to provide each thread it's own fmu, as they are not thread safe.\n",
    "To spread the execution of a function to multiple processes, the function `pmap` can be used."
   ]
  },
  {
   "cell_type": "code",
   "execution_count": 10,
   "metadata": {
    "execution": {
     "iopub.execute_input": "2023-07-03T10:24:54.416000Z",
     "iopub.status.busy": "2023-07-03T10:24:54.416000Z",
     "iopub.status.idle": "2023-07-03T10:26:56.081000Z",
     "shell.execute_reply": "2023-07-03T10:26:56.081000Z"
    }
   },
   "outputs": [
    {
     "name": "stdout",
     "output_type": "stream",
     "text": [
      "Multi Threaded\n",
      "      From worker 2:\t\u001b[33m\u001b[1m┌ \u001b[22m\u001b[39m\u001b[33m\u001b[1mWarning: \u001b[22m\u001b[39mUsing arrays or dicts to store parameters of different types can hurt performance.\n",
      "      From worker 2:\t\u001b[33m\u001b[1m│ \u001b[22m\u001b[39mConsider using tuples instead.\n",
      "      From worker 2:\t\u001b[33m\u001b[1m└ \u001b[22m\u001b[39m\u001b[90m@ SciMLBase ~/.julia/packages/SciMLBase/s9wrq/src/performance_warnings.jl:32\u001b[39m\n",
      "      From worker 3:\t\u001b[33m\u001b[1m┌ \u001b[22m\u001b[39m\u001b[33m\u001b[1mWarning: \u001b[22m\u001b[39mUsing arrays or dicts to store parameters of different types can hurt performance.\n",
      "      From worker 3:\t\u001b[33m\u001b[1m│ \u001b[22m\u001b[39mConsider using tuples instead.\n",
      "      From worker 3:\t\u001b[33m\u001b[1m└ \u001b[22m\u001b[39m\u001b[90m@ SciMLBase ~/.julia/packages/SciMLBase/s9wrq/src/performance_warnings.jl:32\u001b[39m\n",
      "      From worker 3:\t\u001b[33m\u001b[1m┌ \u001b[22m\u001b[39m\u001b[33m\u001b[1mWarning: \u001b[22m\u001b[39mUsing arrays or dicts to store parameters of different types can hurt performance.\n",
      "      From worker 3:\t\u001b[33m\u001b[1m│ \u001b[22m\u001b[39mConsider using tuples instead.\n",
      "      From worker 3:\t\u001b[33m\u001b[1m└ \u001b[22m\u001b[39m\u001b[90m@ SciMLBase ~/.julia/packages/SciMLBase/s9wrq/src/performance_warnings.jl:32\u001b[39m\n",
      "      From worker 2:\t\u001b[33m\u001b[1m┌ \u001b[22m\u001b[39m\u001b[33m\u001b[1mWarning: \u001b[22m\u001b[39mUsing arrays or dicts to store parameters of different types can hurt performance.\n",
      "      From worker 2:\t\u001b[33m\u001b[1m│ \u001b[22m\u001b[39mConsider using tuples instead.\n",
      "      From worker 2:\t\u001b[33m\u001b[1m└ \u001b[22m\u001b[39m\u001b[90m@ SciMLBase ~/.julia/packages/SciMLBase/s9wrq/src/performance_warnings.jl:32\u001b[39m\n",
      "      From worker 3:\t\u001b[33m\u001b[1m┌ \u001b[22m\u001b[39m\u001b[33m\u001b[1mWarning: \u001b[22m\u001b[39mUsing arrays or dicts to store parameters of different types can hurt performance.\n",
      "      From worker 3:\t\u001b[33m\u001b[1m│ \u001b[22m\u001b[39mConsider using tuples instead.\n",
      "      From worker 3:\t\u001b[33m\u001b[1m└ \u001b[22m\u001b[39m\u001b[90m@ SciMLBase ~/.julia/packages/SciMLBase/s9wrq/src/performance_warnings.jl:32\u001b[39m\n",
      "      From worker 2:\t\u001b[33m\u001b[1m┌ \u001b[22m\u001b[39m\u001b[33m\u001b[1mWarning: \u001b[22m\u001b[39mUsing arrays or dicts to store parameters of different types can hurt performance.\n",
      "      From worker 2:\t\u001b[33m\u001b[1m│ \u001b[22m\u001b[39mConsider using tuples instead.\n",
      "      From worker 2:\t\u001b[33m\u001b[1m└ \u001b[22m\u001b[39m\u001b[90m@ SciMLBase ~/.julia/packages/SciMLBase/s9wrq/src/performance_warnings.jl:32\u001b[39m\n",
      "      From worker 3:\t\u001b[33m\u001b[1m┌ \u001b[22m\u001b[39m\u001b[33m\u001b[1mWarning: \u001b[22m\u001b[39mUsing arrays or dicts to store parameters of different types can hurt performance.\n",
      "      From worker 3:\t\u001b[33m\u001b[1m│ \u001b[22m\u001b[39mConsider using tuples instead.\n",
      "      From worker 3:\t\u001b[33m\u001b[1m└ \u001b[22m\u001b[39m\u001b[90m@ SciMLBase ~/.julia/packages/SciMLBase/s9wrq/src/performance_warnings.jl:32\u001b[39m\n",
      "      From worker 2:\t\u001b[33m\u001b[1m┌ \u001b[22m\u001b[39m\u001b[33m\u001b[1mWarning: \u001b[22m\u001b[39mUsing arrays or dicts to store parameters of different types can hurt performance.\n",
      "      From worker 2:\t\u001b[33m\u001b[1m│ \u001b[22m\u001b[39mConsider using tuples instead.\n",
      "      From worker 2:\t\u001b[33m\u001b[1m└ \u001b[22m\u001b[39m\u001b[90m@ SciMLBase ~/.julia/packages/SciMLBase/s9wrq/src/performance_warnings.jl:32\u001b[39m\n",
      "      From worker 3:\t\u001b[33m\u001b[1m┌ \u001b[22m\u001b[39m\u001b[33m\u001b[1mWarning: \u001b[22m\u001b[39mUsing arrays or dicts to store parameters of different types can hurt performance.\n",
      "      From worker 3:\t\u001b[33m\u001b[1m│ \u001b[22m\u001b[39mConsider using tuples instead.\n",
      "      From worker 3:\t\u001b[33m\u001b[1m└ \u001b[22m\u001b[39m\u001b[90m@ SciMLBase ~/.julia/packages/SciMLBase/s9wrq/src/performance_warnings.jl:32\u001b[39m\n",
      "      From worker 2:\t\u001b[33m\u001b[1m┌ \u001b[22m\u001b[39m\u001b[33m\u001b[1mWarning: \u001b[22m\u001b[39mUsing arrays or dicts to store parameters of different types can hurt performance.\n",
      "      From worker 2:\t\u001b[33m\u001b[1m│ \u001b[22m\u001b[39mConsider using tuples instead.\n",
      "      From worker 2:\t\u001b[33m\u001b[1m└ \u001b[22m\u001b[39m\u001b[90m@ SciMLBase ~/.julia/packages/SciMLBase/s9wrq/src/performance_warnings.jl:32\u001b[39m\n",
      "      From worker 3:\t\u001b[33m\u001b[1m┌ \u001b[22m\u001b[39m\u001b[33m\u001b[1mWarning: \u001b[22m\u001b[39mUsing arrays or dicts to store parameters of different types can hurt performance.\n",
      "      From worker 3:\t\u001b[33m\u001b[1m│ \u001b[22m\u001b[39mConsider using tuples instead.\n",
      "      From worker 3:\t\u001b[33m\u001b[1m└ \u001b[22m\u001b[39m\u001b[90m@ SciMLBase ~/.julia/packages/SciMLBase/s9wrq/src/performance_warnings.jl:32\u001b[39m\n",
      "      From worker 2:\t\u001b[33m\u001b[1m┌ \u001b[22m\u001b[39m\u001b[33m\u001b[1mWarning: \u001b[22m\u001b[39mUsing arrays or dicts to store parameters of different types can hurt performance.\n",
      "      From worker 2:\t\u001b[33m\u001b[1m│ \u001b[22m\u001b[39mConsider using tuples instead.\n",
      "      From worker 2:\t\u001b[33m\u001b[1m└ \u001b[22m\u001b[39m\u001b[90m@ SciMLBase ~/.julia/packages/SciMLBase/s9wrq/src/performance_warnings.jl:32\u001b[39m\n",
      "      From worker 3:\t\u001b[33m\u001b[1m┌ \u001b[22m\u001b[39m\u001b[33m\u001b[1mWarning: \u001b[22m\u001b[39mUsing arrays or dicts to store parameters of different types can hurt performance.\n",
      "      From worker 3:\t\u001b[33m\u001b[1m│ \u001b[22m\u001b[39mConsider using tuples instead.\n",
      "      From worker 3:\t\u001b[33m\u001b[1m└ \u001b[22m\u001b[39m\u001b[90m@ SciMLBase ~/.julia/packages/SciMLBase/s9wrq/src/performance_warnings.jl:32\u001b[39m\n",
      "      From worker 2:\t\u001b[33m\u001b[1m┌ \u001b[22m\u001b[39m\u001b[33m\u001b[1mWarning: \u001b[22m\u001b[39mUsing arrays or dicts to store parameters of different types can hurt performance.\n",
      "      From worker 2:\t\u001b[33m\u001b[1m│ \u001b[22m\u001b[39mConsider using tuples instead.\n",
      "      From worker 2:\t\u001b[33m\u001b[1m└ \u001b[22m\u001b[39m\u001b[90m@ SciMLBase ~/.julia/packages/SciMLBase/s9wrq/src/performance_warnings.jl:32\u001b[39m\n",
      "      From worker 3:\t\u001b[33m\u001b[1m┌ \u001b[22m\u001b[39m\u001b[33m\u001b[1mWarning: \u001b[22m\u001b[39mUsing arrays or dicts to store parameters of different types can hurt performance.\n",
      "      From worker 3:\t\u001b[33m\u001b[1m│ \u001b[22m\u001b[39mConsider using tuples instead.\n",
      "      From worker 3:\t\u001b[33m\u001b[1m└ \u001b[22m\u001b[39m\u001b[90m@ SciMLBase ~/.julia/packages/SciMLBase/s9wrq/src/performance_warnings.jl:32\u001b[39m\n",
      "      From worker 2:\t\u001b[33m\u001b[1m┌ \u001b[22m\u001b[39m\u001b[33m\u001b[1mWarning: \u001b[22m\u001b[39mUsing arrays or dicts to store parameters of different types can hurt performance.\n",
      "      From worker 2:\t\u001b[33m\u001b[1m│ \u001b[22m\u001b[39mConsider using tuples instead.\n",
      "      From worker 2:\t\u001b[33m\u001b[1m└ \u001b[22m\u001b[39m\u001b[90m@ SciMLBase ~/.julia/packages/SciMLBase/s9wrq/src/performance_warnings.jl:32\u001b[39m\n",
      "      From worker 2:\t\u001b[33m\u001b[1m┌ \u001b[22m\u001b[39m\u001b[33m\u001b[1mWarning: \u001b[22m\u001b[39mUsing arrays or dicts to store parameters of different types can hurt performance.\n",
      "      From worker 2:\t\u001b[33m\u001b[1m│ \u001b[22m\u001b[39mConsider using tuples instead.\n",
      "      From worker 2:\t\u001b[33m\u001b[1m└ \u001b[22m\u001b[39m\u001b[90m@ SciMLBase ~/.julia/packages/SciMLBase/s9wrq/src/performance_warnings.jl:32\u001b[39m\n",
      "      From worker 3:\t\u001b[33m\u001b[1m┌ \u001b[22m\u001b[39m\u001b[33m\u001b[1mWarning: \u001b[22m\u001b[39mUsing arrays or dicts to store parameters of different types can hurt performance.\n",
      "      From worker 3:\t\u001b[33m\u001b[1m│ \u001b[22m\u001b[39mConsider using tuples instead.\n",
      "      From worker 3:\t\u001b[33m\u001b[1m└ \u001b[22m\u001b[39m\u001b[90m@ SciMLBase ~/.julia/packages/SciMLBase/s9wrq/src/performance_warnings.jl:32\u001b[39m\n",
      "      From worker 3:\t\u001b[33m\u001b[1m┌ \u001b[22m\u001b[39m\u001b[33m\u001b[1mWarning: \u001b[22m\u001b[39mUsing arrays or dicts to store parameters of different types can hurt performance.\n",
      "      From worker 3:\t\u001b[33m\u001b[1m│ \u001b[22m\u001b[39mConsider using tuples instead.\n",
      "      From worker 3:\t\u001b[33m\u001b[1m└ \u001b[22m\u001b[39m\u001b[90m@ SciMLBase ~/.julia/packages/SciMLBase/s9wrq/src/performance_warnings.jl:32\u001b[39m\n",
      "      From worker 2:\t\u001b[33m\u001b[1m┌ \u001b[22m\u001b[39m\u001b[33m\u001b[1mWarning: \u001b[22m\u001b[39mUsing arrays or dicts to store parameters of different types can hurt performance.\n",
      "      From worker 2:\t\u001b[33m\u001b[1m│ \u001b[22m\u001b[39mConsider using tuples instead.\n",
      "      From worker 2:\t\u001b[33m\u001b[1m└ \u001b[22m\u001b[39m\u001b[90m@ SciMLBase ~/.julia/packages/SciMLBase/s9wrq/src/performance_warnings.jl:32\u001b[39m\n",
      "      From worker 3:\t\u001b[33m\u001b[1m┌ \u001b[22m\u001b[39m\u001b[33m\u001b[1mWarning: \u001b[22m\u001b[39mUsing arrays or dicts to store parameters of different types can hurt performance.\n",
      "      From worker 3:\t\u001b[33m\u001b[1m│ \u001b[22m\u001b[39mConsider using tuples instead.\n",
      "      From worker 3:\t\u001b[33m\u001b[1m└ \u001b[22m\u001b[39m\u001b[90m@ SciMLBase ~/.julia/packages/SciMLBase/s9wrq/src/performance_warnings.jl:32\u001b[39m\n",
      "      From worker 2:\t\u001b[33m\u001b[1m┌ \u001b[22m\u001b[39m\u001b[33m\u001b[1mWarning: \u001b[22m\u001b[39mUsing arrays or dicts to store parameters of different types can hurt performance.\n",
      "      From worker 2:\t\u001b[33m\u001b[1m│ \u001b[22m\u001b[39mConsider using tuples instead.\n",
      "      From worker 2:\t\u001b[33m\u001b[1m└ \u001b[22m\u001b[39m\u001b[90m@ SciMLBase ~/.julia/packages/SciMLBase/s9wrq/src/performance_warnings.jl:32\u001b[39m\n",
      "      From worker 3:\t\u001b[33m\u001b[1m┌ \u001b[22m\u001b[39m\u001b[33m\u001b[1mWarning: \u001b[22m\u001b[39mUsing arrays or dicts to store parameters of different types can hurt performance.\n",
      "      From worker 3:\t\u001b[33m\u001b[1m│ \u001b[22m\u001b[39mConsider using tuples instead.\n",
      "      From worker 3:\t\u001b[33m\u001b[1m└ \u001b[22m\u001b[39m\u001b[90m@ SciMLBase ~/.julia/packages/SciMLBase/s9wrq/src/performance_warnings.jl:32\u001b[39m\n",
      "      From worker 2:\t\u001b[33m\u001b[1m┌ \u001b[22m\u001b[39m\u001b[33m\u001b[1mWarning: \u001b[22m\u001b[39mUsing arrays or dicts to store parameters of different types can hurt performance.\n",
      "      From worker 2:\t\u001b[33m\u001b[1m│ \u001b[22m\u001b[39mConsider using tuples instead.\n",
      "      From worker 2:\t\u001b[33m\u001b[1m└ \u001b[22m\u001b[39m\u001b[90m@ SciMLBase ~/.julia/packages/SciMLBase/s9wrq/src/performance_warnings.jl:32\u001b[39m\n",
      "      From worker 3:\t\u001b[33m\u001b[1m┌ \u001b[22m\u001b[39m\u001b[33m\u001b[1mWarning: \u001b[22m\u001b[39mUsing arrays or dicts to store parameters of different types can hurt performance.\n",
      "      From worker 3:\t\u001b[33m\u001b[1m│ \u001b[22m\u001b[39mConsider using tuples instead.\n",
      "      From worker 3:\t\u001b[33m\u001b[1m└ \u001b[22m\u001b[39m\u001b[90m@ SciMLBase ~/.julia/packages/SciMLBase/s9wrq/src/performance_warnings.jl:32\u001b[39m\n",
      "      From worker 2:\t\u001b[33m\u001b[1m┌ \u001b[22m\u001b[39m\u001b[33m\u001b[1mWarning: \u001b[22m\u001b[39mUsing arrays or dicts to store parameters of different types can hurt performance.\n",
      "      From worker 2:\t\u001b[33m\u001b[1m│ \u001b[22m\u001b[39mConsider using tuples instead.\n",
      "      From worker 2:\t\u001b[33m\u001b[1m└ \u001b[22m\u001b[39m\u001b[90m@ SciMLBase ~/.julia/packages/SciMLBase/s9wrq/src/performance_warnings.jl:32\u001b[39m\n",
      "      From worker 3:\t\u001b[33m\u001b[1m┌ \u001b[22m\u001b[39m\u001b[33m\u001b[1mWarning: \u001b[22m\u001b[39mUsing arrays or dicts to store parameters of different types can hurt performance.\n",
      "      From worker 3:\t\u001b[33m\u001b[1m│ \u001b[22m\u001b[39mConsider using tuples instead.\n",
      "      From worker 3:\t\u001b[33m\u001b[1m└ \u001b[22m\u001b[39m\u001b[90m@ SciMLBase ~/.julia/packages/SciMLBase/s9wrq/src/performance_warnings.jl:32\u001b[39m\n",
      "      From worker 2:\t\u001b[33m\u001b[1m┌ \u001b[22m\u001b[39m\u001b[33m\u001b[1mWarning: \u001b[22m\u001b[39mUsing arrays or dicts to store parameters of different types can hurt performance.\n",
      "      From worker 2:\t\u001b[33m\u001b[1m│ \u001b[22m\u001b[39mConsider using tuples instead.\n",
      "      From worker 2:\t\u001b[33m\u001b[1m└ \u001b[22m\u001b[39m\u001b[90m@ SciMLBase ~/.julia/packages/SciMLBase/s9wrq/src/performance_warnings.jl:32\u001b[39m\n",
      "      From worker 3:\t\u001b[33m\u001b[1m┌ \u001b[22m\u001b[39m\u001b[33m\u001b[1mWarning: \u001b[22m\u001b[39mUsing arrays or dicts to store parameters of different types can hurt performance.\n",
      "      From worker 3:\t\u001b[33m\u001b[1m│ \u001b[22m\u001b[39mConsider using tuples instead.\n",
      "      From worker 3:\t\u001b[33m\u001b[1m└ \u001b[22m\u001b[39m\u001b[90m@ SciMLBase ~/.julia/packages/SciMLBase/s9wrq/src/performance_warnings.jl:32\u001b[39m\n",
      "      From worker 2:\t\u001b[33m\u001b[1m┌ \u001b[22m\u001b[39m\u001b[33m\u001b[1mWarning: \u001b[22m\u001b[39mUsing arrays or dicts to store parameters of different types can hurt performance.\n",
      "      From worker 2:\t\u001b[33m\u001b[1m│ \u001b[22m\u001b[39mConsider using tuples instead.\n",
      "      From worker 2:\t\u001b[33m\u001b[1m└ \u001b[22m\u001b[39m\u001b[90m@ SciMLBase ~/.julia/packages/SciMLBase/s9wrq/src/performance_warnings.jl:32\u001b[39m\n",
      "      From worker 3:\t\u001b[33m\u001b[1m┌ \u001b[22m\u001b[39m\u001b[33m\u001b[1mWarning: \u001b[22m\u001b[39mUsing arrays or dicts to store parameters of different types can hurt performance.\n",
      "      From worker 3:\t\u001b[33m\u001b[1m│ \u001b[22m\u001b[39mConsider using tuples instead.\n",
      "      From worker 3:\t\u001b[33m\u001b[1m└ \u001b[22m\u001b[39m\u001b[90m@ SciMLBase ~/.julia/packages/SciMLBase/s9wrq/src/performance_warnings.jl:32\u001b[39m\n",
      "      From worker 2:\t\u001b[33m\u001b[1m┌ \u001b[22m\u001b[39m\u001b[33m\u001b[1mWarning: \u001b[22m\u001b[39mUsing arrays or dicts to store parameters of different types can hurt performance.\n",
      "      From worker 2:\t\u001b[33m\u001b[1m│ \u001b[22m\u001b[39mConsider using tuples instead.\n",
      "      From worker 2:\t\u001b[33m\u001b[1m└ \u001b[22m\u001b[39m\u001b[90m@ SciMLBase ~/.julia/packages/SciMLBase/s9wrq/src/performance_warnings.jl:32\u001b[39m\n",
      "      From worker 3:\t\u001b[33m\u001b[1m┌ \u001b[22m\u001b[39m\u001b[33m\u001b[1mWarning: \u001b[22m\u001b[39mUsing arrays or dicts to store parameters of different types can hurt performance.\n",
      "      From worker 3:\t\u001b[33m\u001b[1m│ \u001b[22m\u001b[39mConsider using tuples instead.\n",
      "      From worker 3:\t\u001b[33m\u001b[1m└ \u001b[22m\u001b[39m\u001b[90m@ SciMLBase ~/.julia/packages/SciMLBase/s9wrq/src/performance_warnings.jl:32\u001b[39m\n",
      "      From worker 2:\t\u001b[33m\u001b[1m┌ \u001b[22m\u001b[39m\u001b[33m\u001b[1mWarning: \u001b[22m\u001b[39mUsing arrays or dicts to store parameters of different types can hurt performance.\n",
      "      From worker 2:\t\u001b[33m\u001b[1m│ \u001b[22m\u001b[39mConsider using tuples instead.\n",
      "      From worker 2:\t\u001b[33m\u001b[1m└ \u001b[22m\u001b[39m\u001b[90m@ SciMLBase ~/.julia/packages/SciMLBase/s9wrq/src/performance_warnings.jl:32\u001b[39m\n",
      "      From worker 3:\t\u001b[33m\u001b[1m┌ \u001b[22m\u001b[39m\u001b[33m\u001b[1mWarning: \u001b[22m\u001b[39mUsing arrays or dicts to store parameters of different types can hurt performance.\n",
      "      From worker 3:\t\u001b[33m\u001b[1m│ \u001b[22m\u001b[39mConsider using tuples instead.\n",
      "      From worker 3:\t\u001b[33m\u001b[1m└ \u001b[22m\u001b[39m\u001b[90m@ SciMLBase ~/.julia/packages/SciMLBase/s9wrq/src/performance_warnings.jl:32\u001b[39m\n",
      "      From worker 2:\t\u001b[33m\u001b[1m┌ \u001b[22m\u001b[39m\u001b[33m\u001b[1mWarning: \u001b[22m\u001b[39mUsing arrays or dicts to store parameters of different types can hurt performance.\n",
      "      From worker 2:\t\u001b[33m\u001b[1m│ \u001b[22m\u001b[39mConsider using tuples instead.\n",
      "      From worker 2:\t\u001b[33m\u001b[1m└ \u001b[22m\u001b[39m\u001b[90m@ SciMLBase ~/.julia/packages/SciMLBase/s9wrq/src/performance_warnings.jl:32\u001b[39m\n",
      "      From worker 3:\t\u001b[33m\u001b[1m┌ \u001b[22m\u001b[39m\u001b[33m\u001b[1mWarning: \u001b[22m\u001b[39mUsing arrays or dicts to store parameters of different types can hurt performance.\n",
      "      From worker 3:\t\u001b[33m\u001b[1m│ \u001b[22m\u001b[39mConsider using tuples instead.\n",
      "      From worker 3:\t\u001b[33m\u001b[1m└ \u001b[22m\u001b[39m\u001b[90m@ SciMLBase ~/.julia/packages/SciMLBase/s9wrq/src/performance_warnings.jl:32\u001b[39m\n",
      "      From worker 2:\t\u001b[33m\u001b[1m┌ \u001b[22m\u001b[39m\u001b[33m\u001b[1mWarning: \u001b[22m\u001b[39mUsing arrays or dicts to store parameters of different types can hurt performance.\n",
      "      From worker 2:\t\u001b[33m\u001b[1m│ \u001b[22m\u001b[39mConsider using tuples instead.\n",
      "      From worker 2:\t\u001b[33m\u001b[1m└ \u001b[22m\u001b[39m\u001b[90m@ SciMLBase ~/.julia/packages/SciMLBase/s9wrq/src/performance_warnings.jl:32\u001b[39m\n",
      "      From worker 3:\t\u001b[33m\u001b[1m┌ \u001b[22m\u001b[39m\u001b[33m\u001b[1mWarning: \u001b[22m\u001b[39mUsing arrays or dicts to store parameters of different types can hurt performance.\n",
      "      From worker 3:\t\u001b[33m\u001b[1m│ \u001b[22m\u001b[39mConsider using tuples instead.\n",
      "      From worker 3:\t\u001b[33m\u001b[1m└ \u001b[22m\u001b[39m\u001b[90m@ SciMLBase ~/.julia/packages/SciMLBase/s9wrq/src/performance_warnings.jl:32\u001b[39m\n",
      "      From worker 2:\t\u001b[33m\u001b[1m┌ \u001b[22m\u001b[39m\u001b[33m\u001b[1mWarning: \u001b[22m\u001b[39mUsing arrays or dicts to store parameters of different types can hurt performance.\n",
      "      From worker 2:\t\u001b[33m\u001b[1m│ \u001b[22m\u001b[39mConsider using tuples instead.\n",
      "      From worker 2:\t\u001b[33m\u001b[1m└ \u001b[22m\u001b[39m\u001b[90m@ SciMLBase ~/.julia/packages/SciMLBase/s9wrq/src/performance_warnings.jl:32\u001b[39m\n",
      "      From worker 3:\t\u001b[33m\u001b[1m┌ \u001b[22m\u001b[39m\u001b[33m\u001b[1mWarning: \u001b[22m\u001b[39mUsing arrays or dicts to store parameters of different types can hurt performance.\n",
      "      From worker 3:\t\u001b[33m\u001b[1m│ \u001b[22m\u001b[39mConsider using tuples instead.\n",
      "      From worker 3:\t\u001b[33m\u001b[1m└ \u001b[22m\u001b[39m\u001b[90m@ SciMLBase ~/.julia/packages/SciMLBase/s9wrq/src/performance_warnings.jl:32\u001b[39m\n",
      "      From worker 2:\t\u001b[33m\u001b[1m┌ \u001b[22m\u001b[39m\u001b[33m\u001b[1mWarning: \u001b[22m\u001b[39mUsing arrays or dicts to store parameters of different types can hurt performance.\n",
      "      From worker 2:\t\u001b[33m\u001b[1m│ \u001b[22m\u001b[39mConsider using tuples instead.\n",
      "      From worker 2:\t\u001b[33m\u001b[1m└ \u001b[22m\u001b[39m\u001b[90m@ SciMLBase ~/.julia/packages/SciMLBase/s9wrq/src/performance_warnings.jl:32\u001b[39m\n",
      "      From worker 3:\t\u001b[33m\u001b[1m┌ \u001b[22m\u001b[39m\u001b[33m\u001b[1mWarning: \u001b[22m\u001b[39mUsing arrays or dicts to store parameters of different types can hurt performance.\n",
      "      From worker 3:\t\u001b[33m\u001b[1m│ \u001b[22m\u001b[39mConsider using tuples instead.\n",
      "      From worker 3:\t\u001b[33m\u001b[1m└ \u001b[22m\u001b[39m\u001b[90m@ SciMLBase ~/.julia/packages/SciMLBase/s9wrq/src/performance_warnings.jl:32\u001b[39m\n",
      "      From worker 2:\t\u001b[33m\u001b[1m┌ \u001b[22m\u001b[39m\u001b[33m\u001b[1mWarning: \u001b[22m\u001b[39mUsing arrays or dicts to store parameters of different types can hurt performance.\n",
      "      From worker 2:\t\u001b[33m\u001b[1m│ \u001b[22m\u001b[39mConsider using tuples instead.\n",
      "      From worker 2:\t\u001b[33m\u001b[1m└ \u001b[22m\u001b[39m\u001b[90m@ SciMLBase ~/.julia/packages/SciMLBase/s9wrq/src/performance_warnings.jl:32\u001b[39m\n",
      "      From worker 3:\t\u001b[33m\u001b[1m┌ \u001b[22m\u001b[39m\u001b[33m\u001b[1mWarning: \u001b[22m\u001b[39mUsing arrays or dicts to store parameters of different types can hurt performance.\n",
      "      From worker 3:\t\u001b[33m\u001b[1m│ \u001b[22m\u001b[39mConsider using tuples instead.\n",
      "      From worker 3:\t\u001b[33m\u001b[1m└ \u001b[22m\u001b[39m\u001b[90m@ SciMLBase ~/.julia/packages/SciMLBase/s9wrq/src/performance_warnings.jl:32\u001b[39m\n",
      "      From worker 2:\t\u001b[33m\u001b[1m┌ \u001b[22m\u001b[39m\u001b[33m\u001b[1mWarning: \u001b[22m\u001b[39mUsing arrays or dicts to store parameters of different types can hurt performance.\n",
      "      From worker 2:\t\u001b[33m\u001b[1m│ \u001b[22m\u001b[39mConsider using tuples instead.\n",
      "      From worker 2:\t\u001b[33m\u001b[1m└ \u001b[22m\u001b[39m\u001b[90m@ SciMLBase ~/.julia/packages/SciMLBase/s9wrq/src/performance_warnings.jl:32\u001b[39m\n",
      "      From worker 3:\t\u001b[33m\u001b[1m┌ \u001b[22m\u001b[39m\u001b[33m\u001b[1mWarning: \u001b[22m\u001b[39mUsing arrays or dicts to store parameters of different types can hurt performance.\n",
      "      From worker 3:\t\u001b[33m\u001b[1m│ \u001b[22m\u001b[39mConsider using tuples instead.\n",
      "      From worker 3:\t\u001b[33m\u001b[1m└ \u001b[22m\u001b[39m\u001b[90m@ SciMLBase ~/.julia/packages/SciMLBase/s9wrq/src/performance_warnings.jl:32\u001b[39m\n",
      "      From worker 2:\t\u001b[33m\u001b[1m┌ \u001b[22m\u001b[39m\u001b[33m\u001b[1mWarning: \u001b[22m\u001b[39mUsing arrays or dicts to store parameters of different types can hurt performance.\n",
      "      From worker 2:\t\u001b[33m\u001b[1m│ \u001b[22m\u001b[39mConsider using tuples instead.\n",
      "      From worker 2:\t\u001b[33m\u001b[1m└ \u001b[22m\u001b[39m\u001b[90m@ SciMLBase ~/.julia/packages/SciMLBase/s9wrq/src/performance_warnings.jl:32\u001b[39m\n",
      "      From worker 2:\t\u001b[33m\u001b[1m┌ \u001b[22m\u001b[39m\u001b[33m\u001b[1mWarning: \u001b[22m\u001b[39mUsing arrays or dicts to store parameters of different types can hurt performance.\n",
      "      From worker 2:\t\u001b[33m\u001b[1m│ \u001b[22m\u001b[39mConsider using tuples instead.\n",
      "      From worker 2:\t\u001b[33m\u001b[1m└ \u001b[22m\u001b[39m\u001b[90m@ SciMLBase ~/.julia/packages/SciMLBase/s9wrq/src/performance_warnings.jl:32\u001b[39m\n",
      "      From worker 3:\t\u001b[33m\u001b[1m┌ \u001b[22m\u001b[39m\u001b[33m\u001b[1mWarning: \u001b[22m\u001b[39mUsing arrays or dicts to store parameters of different types can hurt performance.\n",
      "      From worker 3:\t\u001b[33m\u001b[1m│ \u001b[22m\u001b[39mConsider using tuples instead.\n",
      "      From worker 3:\t\u001b[33m\u001b[1m└ \u001b[22m\u001b[39m\u001b[90m@ SciMLBase ~/.julia/packages/SciMLBase/s9wrq/src/performance_warnings.jl:32\u001b[39m\n",
      "      From worker 3:\t\u001b[33m\u001b[1m┌ \u001b[22m\u001b[39m\u001b[33m\u001b[1mWarning: \u001b[22m\u001b[39mUsing arrays or dicts to store parameters of different types can hurt performance.\n",
      "      From worker 3:\t\u001b[33m\u001b[1m│ \u001b[22m\u001b[39mConsider using tuples instead.\n",
      "      From worker 3:\t\u001b[33m\u001b[1m└ \u001b[22m\u001b[39m\u001b[90m@ SciMLBase ~/.julia/packages/SciMLBase/s9wrq/src/performance_warnings.jl:32\u001b[39m\n",
      "      From worker 2:\t\u001b[33m\u001b[1m┌ \u001b[22m\u001b[39m\u001b[33m\u001b[1mWarning: \u001b[22m\u001b[39mUsing arrays or dicts to store parameters of different types can hurt performance.\n",
      "      From worker 2:\t\u001b[33m\u001b[1m│ \u001b[22m\u001b[39mConsider using tuples instead.\n",
      "      From worker 2:\t\u001b[33m\u001b[1m└ \u001b[22m\u001b[39m\u001b[90m@ SciMLBase ~/.julia/packages/SciMLBase/s9wrq/src/performance_warnings.jl:32\u001b[39m\n",
      "      From worker 3:\t\u001b[33m\u001b[1m┌ \u001b[22m\u001b[39m\u001b[33m\u001b[1mWarning: \u001b[22m\u001b[39mUsing arrays or dicts to store parameters of different types can hurt performance.\n",
      "      From worker 3:\t\u001b[33m\u001b[1m│ \u001b[22m\u001b[39mConsider using tuples instead.\n",
      "      From worker 3:\t\u001b[33m\u001b[1m└ \u001b[22m\u001b[39m\u001b[90m@ SciMLBase ~/.julia/packages/SciMLBase/s9wrq/src/performance_warnings.jl:32\u001b[39m\n",
      "      From worker 2:\t\u001b[33m\u001b[1m┌ \u001b[22m\u001b[39m\u001b[33m\u001b[1mWarning: \u001b[22m\u001b[39mUsing arrays or dicts to store parameters of different types can hurt performance.\n",
      "      From worker 2:\t\u001b[33m\u001b[1m│ \u001b[22m\u001b[39mConsider using tuples instead.\n",
      "      From worker 2:\t\u001b[33m\u001b[1m└ \u001b[22m\u001b[39m\u001b[90m@ SciMLBase ~/.julia/packages/SciMLBase/s9wrq/src/performance_warnings.jl:32\u001b[39m\n",
      "      From worker 3:\t\u001b[33m\u001b[1m┌ \u001b[22m\u001b[39m\u001b[33m\u001b[1mWarning: \u001b[22m\u001b[39mUsing arrays or dicts to store parameters of different types can hurt performance.\n",
      "      From worker 3:\t\u001b[33m\u001b[1m│ \u001b[22m\u001b[39mConsider using tuples instead.\n",
      "      From worker 3:\t\u001b[33m\u001b[1m└ \u001b[22m\u001b[39m\u001b[90m@ SciMLBase ~/.julia/packages/SciMLBase/s9wrq/src/performance_warnings.jl:32\u001b[39m\n",
      "      From worker 2:\t\u001b[33m\u001b[1m┌ \u001b[22m\u001b[39m\u001b[33m\u001b[1mWarning: \u001b[22m\u001b[39mUsing arrays or dicts to store parameters of different types can hurt performance.\n",
      "      From worker 2:\t\u001b[33m\u001b[1m│ \u001b[22m\u001b[39mConsider using tuples instead.\n",
      "      From worker 2:\t\u001b[33m\u001b[1m└ \u001b[22m\u001b[39m\u001b[90m@ SciMLBase ~/.julia/packages/SciMLBase/s9wrq/src/performance_warnings.jl:32\u001b[39m\n",
      "      From worker 3:\t\u001b[33m\u001b[1m┌ \u001b[22m\u001b[39m\u001b[33m\u001b[1mWarning: \u001b[22m\u001b[39mUsing arrays or dicts to store parameters of different types can hurt performance.\n",
      "      From worker 3:\t\u001b[33m\u001b[1m│ \u001b[22m\u001b[39mConsider using tuples instead.\n",
      "      From worker 3:\t\u001b[33m\u001b[1m└ \u001b[22m\u001b[39m\u001b[90m@ SciMLBase ~/.julia/packages/SciMLBase/s9wrq/src/performance_warnings.jl:32\u001b[39m\n",
      "      From worker 2:\t\u001b[33m\u001b[1m┌ \u001b[22m\u001b[39m\u001b[33m\u001b[1mWarning: \u001b[22m\u001b[39mUsing arrays or dicts to store parameters of different types can hurt performance.\n",
      "      From worker 2:\t\u001b[33m\u001b[1m│ \u001b[22m\u001b[39mConsider using tuples instead.\n",
      "      From worker 2:\t\u001b[33m\u001b[1m└ \u001b[22m\u001b[39m\u001b[90m@ SciMLBase ~/.julia/packages/SciMLBase/s9wrq/src/performance_warnings.jl:32\u001b[39m\n",
      "      From worker 3:\t\u001b[33m\u001b[1m┌ \u001b[22m\u001b[39m\u001b[33m\u001b[1mWarning: \u001b[22m\u001b[39mUsing arrays or dicts to store parameters of different types can hurt performance.\n",
      "      From worker 3:\t\u001b[33m\u001b[1m│ \u001b[22m\u001b[39mConsider using tuples instead.\n",
      "      From worker 3:\t\u001b[33m\u001b[1m└ \u001b[22m\u001b[39m\u001b[90m@ SciMLBase ~/.julia/packages/SciMLBase/s9wrq/src/performance_warnings.jl:32\u001b[39m\n",
      "      From worker 2:\t\u001b[33m\u001b[1m┌ \u001b[22m\u001b[39m\u001b[33m\u001b[1mWarning: \u001b[22m\u001b[39mUsing arrays or dicts to store parameters of different types can hurt performance.\n",
      "      From worker 2:\t\u001b[33m\u001b[1m│ \u001b[22m\u001b[39mConsider using tuples instead.\n",
      "      From worker 2:\t\u001b[33m\u001b[1m└ \u001b[22m\u001b[39m\u001b[90m@ SciMLBase ~/.julia/packages/SciMLBase/s9wrq/src/performance_warnings.jl:32\u001b[39m\n",
      "      From worker 3:\t\u001b[33m\u001b[1m┌ \u001b[22m\u001b[39m\u001b[33m\u001b[1mWarning: \u001b[22m\u001b[39mUsing arrays or dicts to store parameters of different types can hurt performance.\n",
      "      From worker 3:\t\u001b[33m\u001b[1m│ \u001b[22m\u001b[39mConsider using tuples instead.\n",
      "      From worker 3:\t\u001b[33m\u001b[1m└ \u001b[22m\u001b[39m\u001b[90m@ SciMLBase ~/.julia/packages/SciMLBase/s9wrq/src/performance_warnings.jl:32\u001b[39m\n",
      "      From worker 2:\t\u001b[33m\u001b[1m┌ \u001b[22m\u001b[39m\u001b[33m\u001b[1mWarning: \u001b[22m\u001b[39mUsing arrays or dicts to store parameters of different types can hurt performance.\n",
      "      From worker 2:\t\u001b[33m\u001b[1m│ \u001b[22m\u001b[39mConsider using tuples instead.\n",
      "      From worker 2:\t\u001b[33m\u001b[1m└ \u001b[22m\u001b[39m\u001b[90m@ SciMLBase ~/.julia/packages/SciMLBase/s9wrq/src/performance_warnings.jl:32\u001b[39m\n",
      "      From worker 3:\t\u001b[33m\u001b[1m┌ \u001b[22m\u001b[39m\u001b[33m\u001b[1mWarning: \u001b[22m\u001b[39mUsing arrays or dicts to store parameters of different types can hurt performance.\n",
      "      From worker 3:\t\u001b[33m\u001b[1m│ \u001b[22m\u001b[39mConsider using tuples instead.\n",
      "      From worker 3:\t\u001b[33m\u001b[1m└ \u001b[22m\u001b[39m\u001b[90m@ SciMLBase ~/.julia/packages/SciMLBase/s9wrq/src/performance_warnings.jl:32\u001b[39m\n",
      "      From worker 2:\t\u001b[33m\u001b[1m┌ \u001b[22m\u001b[39m\u001b[33m\u001b[1mWarning: \u001b[22m\u001b[39mUsing arrays or dicts to store parameters of different types can hurt performance.\n",
      "      From worker 2:\t\u001b[33m\u001b[1m│ \u001b[22m\u001b[39mConsider using tuples instead.\n",
      "      From worker 2:\t\u001b[33m\u001b[1m└ \u001b[22m\u001b[39m\u001b[90m@ SciMLBase ~/.julia/packages/SciMLBase/s9wrq/src/performance_warnings.jl:32\u001b[39m\n"
     ]
    },
    {
     "data": {
      "text/plain": [
       "BenchmarkTools.Trial: 1 sample with 1 evaluation.\n",
       " Single result which took \u001b[34m18.125 s\u001b[39m (0.00% GC) to evaluate,\n",
       " with a memory estimate of \u001b[33m349.39 KiB\u001b[39m, over \u001b[33m4875\u001b[39m allocations."
      ]
     },
     "execution_count": 10,
     "metadata": {},
     "output_type": "execute_result"
    }
   ],
   "source": [
    "println(\"Multi Threaded\")\n",
    "@benchmark pmap(i -> runCalcFormatted(SharedModule.model_fmu, i), input_values)"
   ]
  },
  {
   "cell_type": "markdown",
   "metadata": {},
   "source": [
    "As you can see, there is a significant speed-up in the median execution time. But: The speed-up is often much smaller than `n_procs` (or the number of physical cores of your CPU), this has different reasons. For a rule of thumb, the speed-up should be around `n/2` on a `n`-core-processor with `n` Julia processes."
   ]
  },
  {
   "cell_type": "markdown",
   "metadata": {},
   "source": [
    "### Unload FMU\n",
    "\n",
    "After calculating the data, the FMU is unloaded and all unpacked data on disc is removed."
   ]
  },
  {
   "cell_type": "code",
   "execution_count": 11,
   "metadata": {
    "execution": {
     "iopub.execute_input": "2023-07-03T10:26:56.085000Z",
     "iopub.status.busy": "2023-07-03T10:26:56.085000Z",
     "iopub.status.idle": "2023-07-03T10:26:56.141000Z",
     "shell.execute_reply": "2023-07-03T10:26:56.141000Z"
    }
   },
   "outputs": [],
   "source": [
    "@everywhere fmiUnload(SharedModule.model_fmu)"
   ]
  },
  {
   "cell_type": "markdown",
   "metadata": {},
   "source": [
    "### Summary\n",
    "\n",
    "In this tutorial it is shown how multi processing with `Distributed.jl` can be used to improve the performance for calculating a Batch of FMUs."
   ]
  }
 ],
 "metadata": {
  "kernelspec": {
   "display_name": "Julia 1.8.2",
   "language": "julia",
   "name": "julia-1.8"
  },
  "language_info": {
   "file_extension": ".jl",
   "mimetype": "application/julia",
   "name": "julia",
   "version": "1.8.5"
  }
 },
 "nbformat": 4,
 "nbformat_minor": 2
}
