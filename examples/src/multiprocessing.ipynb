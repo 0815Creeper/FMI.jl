{
 "cells": [
  {
   "cell_type": "markdown",
   "metadata": {},
   "source": [
    "# Multiprocessing\n",
    "Tutorial by Jonas Wilfert, Tobias Thummerer\n",
    "\n",
    "## License"
   ]
  },
  {
   "cell_type": "code",
   "execution_count": 1,
   "metadata": {
    "execution": {
     "iopub.execute_input": "2023-03-07T15:51:35.935000Z",
     "iopub.status.busy": "2023-03-07T15:51:35.328000Z",
     "iopub.status.idle": "2023-03-07T15:51:36.292000Z",
     "shell.execute_reply": "2023-03-07T15:51:36.195000Z"
    }
   },
   "outputs": [],
   "source": [
    "# Copyright (c) 2021 Tobias Thummerer, Lars Mikelsons, Josef Kircher, Johannes Stoljar, Jonas Wilfert\n",
    "# Licensed under the MIT license. \n",
    "# See LICENSE (https://github.com/thummeto/FMI.jl/blob/main/LICENSE) file in the project root for details."
   ]
  },
  {
   "attachments": {},
   "cell_type": "markdown",
   "metadata": {},
   "source": [
    "## Motivation\n",
    "This Julia Package *FMI.jl* is motivated by the use of simulation models in Julia. Here the FMI specification is implemented. FMI (*Functional Mock-up Interface*) is a free standard ([fmi-standard.org](http://fmi-standard.org/)) that defines a container and an interface to exchange dynamic models using a combination of XML files, binaries and C code zipped into a single file. The user can thus use simulation models in the form of an FMU (*Functional Mock-up Units*). Besides loading the FMU, the user can also set values for parameters and states and simulate the FMU both as co-simulation and model exchange simulation.\n",
    "\n",
    "## Introduction to the example\n",
    "This example shows how to parallelize the computation of an FMU in FMI.jl. We can compute a batch of FMU-evaluations in parallel with different initial settings.\n",
    "Parallelization can be achieved using multithreading or using multiprocessing. This example shows **multiprocessing**, check `multithreading.ipynb` for multithreading.\n",
    "Advantage of multithreading is a lower communication overhead as well as lower RAM usage.\n",
    "However in some cases multiprocessing can be faster as the garbage collector is not shared.\n",
    "\n",
    "\n",
    "The model used is a one-dimensional spring pendulum with friction. The object-orientated structure of the *SpringFrictionPendulum1D* can be seen in the following graphic.\n",
    "\n",
    "![svg](https://github.com/thummeto/FMI.jl/blob/main/docs/src/examples/pics/SpringFrictionPendulum1D.svg?raw=true)  \n",
    "\n",
    "\n",
    "## Target group\n",
    "The example is primarily intended for users who work in the field of simulations. The example wants to show how simple it is to use FMUs in Julia.\n",
    "\n",
    "\n",
    "## Other formats\n",
    "Besides, this [Jupyter Notebook](https://github.com/thummeto/FMI.jl/blob/examples/examples/src/multiprocessing.ipynb) there is also a [Julia file](https://github.com/thummeto/FMI.jl/blob/examples/examples/src/multiprocessing.jl) with the same name, which contains only the code cells and for the documentation there is a [Markdown file](https://github.com/thummeto/FMI.jl/blob/examples/examples/src/multiprocessing.md) corresponding to the notebook.  \n",
    "\n",
    "\n",
    "## Getting started\n",
    "\n",
    "### Installation prerequisites\n",
    "|     | Description                       | Command                   | Alternative                                    |   \n",
    "|:----|:----------------------------------|:--------------------------|:-----------------------------------------------|\n",
    "| 1.  | Enter Package Manager via         | ]                         |                                                |\n",
    "| 2.  | Install FMI via                   | add FMI                   | add \" https://github.com/ThummeTo/FMI.jl \"     |\n",
    "| 3.  | Install FMIZoo via                | add FMIZoo                | add \" https://github.com/ThummeTo/FMIZoo.jl \"  |\n",
    "| 4.  | Install FMICore via               | add FMICore               | add \" https://github.com/ThummeTo/FMICore.jl \" |\n",
    "| 5.  | Install BenchmarkTools via        | add BenchmarkTools        |                                                |"
   ]
  },
  {
   "cell_type": "markdown",
   "metadata": {},
   "source": [
    "## Code section\n",
    "\n"
   ]
  },
  {
   "cell_type": "markdown",
   "metadata": {},
   "source": [
    "Adding your desired amount of processes:"
   ]
  },
  {
   "cell_type": "code",
   "execution_count": 2,
   "metadata": {
    "execution": {
     "iopub.execute_input": "2023-03-07T15:51:36.296000Z",
     "iopub.status.busy": "2023-03-07T15:51:36.296000Z",
     "iopub.status.idle": "2023-03-07T15:51:44.985000Z",
     "shell.execute_reply": "2023-03-07T15:51:44.985000Z"
    }
   },
   "outputs": [
    {
     "data": {
      "text/plain": [
       "2-element Vector{Int64}:\n",
       " 2\n",
       " 3"
      ]
     },
     "execution_count": 2,
     "metadata": {},
     "output_type": "execute_result"
    }
   ],
   "source": [
    "using Distributed\n",
    "n_procs = 2\n",
    "addprocs(n_procs; exeflags=`--project=$(Base.active_project()) --threads=auto`, restrict=false)"
   ]
  },
  {
   "cell_type": "markdown",
   "metadata": {},
   "source": [
    "To run the example, the previously installed packages must be included. "
   ]
  },
  {
   "cell_type": "code",
   "execution_count": 3,
   "metadata": {
    "execution": {
     "iopub.execute_input": "2023-03-07T15:51:45.031000Z",
     "iopub.status.busy": "2023-03-07T15:51:45.031000Z",
     "iopub.status.idle": "2023-03-07T15:52:22.516000Z",
     "shell.execute_reply": "2023-03-07T15:52:22.516000Z"
    }
   },
   "outputs": [],
   "source": [
    "# imports\n",
    "@everywhere using FMI\n",
    "@everywhere using FMIZoo\n",
    "@everywhere using BenchmarkTools"
   ]
  },
  {
   "cell_type": "markdown",
   "metadata": {},
   "source": [
    "Checking that we workers have been correctly initialized:"
   ]
  },
  {
   "cell_type": "code",
   "execution_count": 4,
   "metadata": {
    "execution": {
     "iopub.execute_input": "2023-03-07T15:52:22.775000Z",
     "iopub.status.busy": "2023-03-07T15:52:22.518000Z",
     "iopub.status.idle": "2023-03-07T15:52:23.054000Z",
     "shell.execute_reply": "2023-03-07T15:52:23.054000Z"
    }
   },
   "outputs": [
    {
     "name": "stdout",
     "output_type": "stream",
     "text": [
      "Hello World!\n",
      "      From worker 2:\tHello World!\n",
      "      From worker 3:\tHello World!\n"
     ]
    }
   ],
   "source": [
    "workers()\n",
    "\n",
    "@everywhere println(\"Hello World!\")\n",
    "\n",
    "# The following lines can be uncommented for more advanced informations about the subprocesses\n",
    "# @everywhere println(pwd())\n",
    "# @everywhere println(Base.active_project())\n",
    "# @everywhere println(gethostname())\n",
    "# @everywhere println(VERSION)\n",
    "# @everywhere println(Threads.nthreads())"
   ]
  },
  {
   "cell_type": "markdown",
   "metadata": {},
   "source": [
    "### Simulation setup\n",
    "\n",
    "Next, the batch size and input values are defined."
   ]
  },
  {
   "cell_type": "code",
   "execution_count": 5,
   "metadata": {
    "execution": {
     "iopub.execute_input": "2023-03-07T15:52:23.060000Z",
     "iopub.status.busy": "2023-03-07T15:52:23.059000Z",
     "iopub.status.idle": "2023-03-07T15:52:26.544000Z",
     "shell.execute_reply": "2023-03-07T15:52:26.543000Z"
    }
   },
   "outputs": [
    {
     "data": {
      "text/plain": [
       "16-element Vector{Vector{Float64}}:\n",
       " [0.6419624608569612, 0.3890427622778031]\n",
       " [0.5097163585905372, 0.5640535403061386]\n",
       " [0.38982366418534886, 0.5076768506645246]\n",
       " [0.472778807248289, 0.32687145960943453]\n",
       " [0.10852869146700883, 0.5174282471947652]\n",
       " [0.8472872799333633, 0.5840721037833394]\n",
       " [0.7052501656934651, 0.8188792546290087]\n",
       " [0.06164185806853095, 0.9572969387482493]\n",
       " [0.7994594623650307, 0.45819337922072867]\n",
       " [0.8496773186581223, 0.11184915010947127]\n",
       " [0.32803967807854517, 0.9724565145607306]\n",
       " [0.06469506868022101, 0.010724819304288591]\n",
       " [0.5856951359316901, 0.613881333112325]\n",
       " [0.7247032715197599, 0.8919520285437524]\n",
       " [0.7674525511913651, 0.6934686192437531]\n",
       " [0.6339006810592124, 0.05656611630401598]"
      ]
     },
     "execution_count": 5,
     "metadata": {},
     "output_type": "execute_result"
    }
   ],
   "source": [
    "\n",
    "# Best if batchSize is a multiple of the threads/cores\n",
    "batchSize = 16\n",
    "\n",
    "# Define an array of arrays randomly\n",
    "input_values = collect(collect.(eachrow(rand(batchSize,2))))"
   ]
  },
  {
   "cell_type": "markdown",
   "metadata": {},
   "source": [
    "### Shared Module\n",
    "For Distributed we need to embed the FMU into its own `module`. This prevents Distributed from trying to serialize and send the FMU over the network, as this can cause issues. This module needs to be made available on all processes using `@everywhere`."
   ]
  },
  {
   "cell_type": "code",
   "execution_count": 6,
   "metadata": {
    "execution": {
     "iopub.execute_input": "2023-03-07T15:52:26.547000Z",
     "iopub.status.busy": "2023-03-07T15:52:26.547000Z",
     "iopub.status.idle": "2023-03-07T15:52:41.582000Z",
     "shell.execute_reply": "2023-03-07T15:52:41.582000Z"
    }
   },
   "outputs": [
    {
     "name": "stderr",
     "output_type": "stream",
     "text": [
      "\u001b[36m\u001b[1m[ \u001b[22m\u001b[39m\u001b[36m\u001b[1mInfo: \u001b[22m\u001b[39mfmiUnzipVersion(...): Successfully unzipped modelDescription.xml at `/tmp/fmijl_ocsuFh/SpringPendulum1D`.\n"
     ]
    },
    {
     "name": "stdout",
     "output_type": "stream",
     "text": [
      "      From worker 2:\t\u001b[36m\u001b[1m[ \u001b[22m\u001b[39m\u001b[36m\u001b[1mInfo: \u001b[22m\u001b[39mfmiUnzipVersion(...): Successfully unzipped modelDescription.xml at `/tmp/fmijl_s7y6kI/SpringPendulum1D`.\n",
      "      From worker 3:\t\u001b[36m\u001b[1m[ \u001b[22m\u001b[39m\u001b[36m\u001b[1mInfo: \u001b[22m\u001b[39mfmiUnzipVersion(...): Successfully unzipped modelDescription.xml at `/tmp/fmijl_oTGpyt/SpringPendulum1D`.\n"
     ]
    }
   ],
   "source": [
    "@everywhere module SharedModule\n",
    "    using FMIZoo\n",
    "    using FMI\n",
    "\n",
    "    t_start = 0.0\n",
    "    t_step = 0.1\n",
    "    t_stop = 10.0\n",
    "    tspan = (t_start, t_stop)\n",
    "    tData = collect(t_start:t_step:t_stop)\n",
    "\n",
    "    model_fmu = FMIZoo.fmiLoad(\"SpringPendulum1D\", \"Dymola\", \"2022x\")\n",
    "end"
   ]
  },
  {
   "cell_type": "markdown",
   "metadata": {},
   "source": [
    "We define a helper function to calculate the FMU and combine it into an Matrix."
   ]
  },
  {
   "cell_type": "code",
   "execution_count": 7,
   "metadata": {
    "execution": {
     "iopub.execute_input": "2023-03-07T15:52:41.586000Z",
     "iopub.status.busy": "2023-03-07T15:52:41.585000Z",
     "iopub.status.idle": "2023-03-07T15:52:41.693000Z",
     "shell.execute_reply": "2023-03-07T15:52:41.693000Z"
    }
   },
   "outputs": [],
   "source": [
    "@everywhere function runCalcFormatted(fmu, x0, recordValues=[\"mass.s\", \"mass.v\"])\n",
    "    data = fmiSimulateME(fmu, SharedModule.tspan; recordValues=recordValues, saveat=SharedModule.tData, x0=x0, showProgress=false, dtmax=1e-4)\n",
    "    return reduce(hcat, data.states.u)\n",
    "end"
   ]
  },
  {
   "cell_type": "markdown",
   "metadata": {},
   "source": [
    "Running a single evaluation is pretty quick, therefore the speed can be better tested with BenchmarkTools."
   ]
  },
  {
   "cell_type": "code",
   "execution_count": 8,
   "metadata": {
    "execution": {
     "iopub.execute_input": "2023-03-07T15:52:41.695000Z",
     "iopub.status.busy": "2023-03-07T15:52:41.695000Z",
     "iopub.status.idle": "2023-03-07T15:53:21.287000Z",
     "shell.execute_reply": "2023-03-07T15:53:21.287000Z"
    }
   },
   "outputs": [
    {
     "name": "stderr",
     "output_type": "stream",
     "text": [
      "\u001b[33m\u001b[1m┌ \u001b[22m\u001b[39m\u001b[33m\u001b[1mWarning: \u001b[22m\u001b[39mFMU simulation failed with solver return code `Success`, please check log for hints.\n",
      "\u001b[33m\u001b[1m└ \u001b[22m\u001b[39m\u001b[90m@ FMI ~/work/FMI.jl/FMI.jl/src/FMI2/sim.jl:407\u001b[39m\n",
      "\u001b[33m\u001b[1m┌ \u001b[22m\u001b[39m\u001b[33m\u001b[1mWarning: \u001b[22m\u001b[39mFMU simulation failed with solver return code `Success`, please check log for hints.\n",
      "\u001b[33m\u001b[1m└ \u001b[22m\u001b[39m\u001b[90m@ FMI ~/work/FMI.jl/FMI.jl/src/FMI2/sim.jl:407\u001b[39m\n",
      "\u001b[33m\u001b[1m┌ \u001b[22m\u001b[39m\u001b[33m\u001b[1mWarning: \u001b[22m\u001b[39mFMU simulation failed with solver return code `Success`, please check log for hints.\n",
      "\u001b[33m\u001b[1m└ \u001b[22m\u001b[39m\u001b[90m@ FMI ~/work/FMI.jl/FMI.jl/src/FMI2/sim.jl:407\u001b[39m\n",
      "\u001b[33m\u001b[1m┌ \u001b[22m\u001b[39m\u001b[33m\u001b[1mWarning: \u001b[22m\u001b[39mFMU simulation failed with solver return code `Success`, please check log for hints.\n",
      "\u001b[33m\u001b[1m└ \u001b[22m\u001b[39m\u001b[90m@ FMI ~/work/FMI.jl/FMI.jl/src/FMI2/sim.jl:407\u001b[39m\n",
      "\u001b[33m\u001b[1m┌ \u001b[22m\u001b[39m\u001b[33m\u001b[1mWarning: \u001b[22m\u001b[39mFMU simulation failed with solver return code `Success`, please check log for hints.\n",
      "\u001b[33m\u001b[1m└ \u001b[22m\u001b[39m\u001b[90m@ FMI ~/work/FMI.jl/FMI.jl/src/FMI2/sim.jl:407\u001b[39m\n",
      "\u001b[33m\u001b[1m┌ \u001b[22m\u001b[39m\u001b[33m\u001b[1mWarning: \u001b[22m\u001b[39mFMU simulation failed with solver return code `Success`, please check log for hints.\n",
      "\u001b[33m\u001b[1m└ \u001b[22m\u001b[39m\u001b[90m@ FMI ~/work/FMI.jl/FMI.jl/src/FMI2/sim.jl:407\u001b[39m\n",
      "\u001b[33m\u001b[1m┌ \u001b[22m\u001b[39m\u001b[33m\u001b[1mWarning: \u001b[22m\u001b[39mFMU simulation failed with solver return code `Success`, please check log for hints.\n",
      "\u001b[33m\u001b[1m└ \u001b[22m\u001b[39m\u001b[90m@ FMI ~/work/FMI.jl/FMI.jl/src/FMI2/sim.jl:407\u001b[39m\n",
      "\u001b[33m\u001b[1m┌ \u001b[22m\u001b[39m\u001b[33m\u001b[1mWarning: \u001b[22m\u001b[39mFMU simulation failed with solver return code `Success`, please check log for hints.\n",
      "\u001b[33m\u001b[1m└ \u001b[22m\u001b[39m\u001b[90m@ FMI ~/work/FMI.jl/FMI.jl/src/FMI2/sim.jl:407\u001b[39m\n",
      "\u001b[33m\u001b[1m┌ \u001b[22m\u001b[39m\u001b[33m\u001b[1mWarning: \u001b[22m\u001b[39mFMU simulation failed with solver return code `Success`, please check log for hints.\n",
      "\u001b[33m\u001b[1m└ \u001b[22m\u001b[39m\u001b[90m@ FMI ~/work/FMI.jl/FMI.jl/src/FMI2/sim.jl:407\u001b[39m\n",
      "\u001b[33m\u001b[1m┌ \u001b[22m\u001b[39m\u001b[33m\u001b[1mWarning: \u001b[22m\u001b[39mFMU simulation failed with solver return code `Success`, please check log for hints.\n",
      "\u001b[33m\u001b[1m└ \u001b[22m\u001b[39m\u001b[90m@ FMI ~/work/FMI.jl/FMI.jl/src/FMI2/sim.jl:407\u001b[39m\n",
      "\u001b[33m\u001b[1m┌ \u001b[22m\u001b[39m\u001b[33m\u001b[1mWarning: \u001b[22m\u001b[39mFMU simulation failed with solver return code `Success`, please check log for hints.\n",
      "\u001b[33m\u001b[1m└ \u001b[22m\u001b[39m\u001b[90m@ FMI ~/work/FMI.jl/FMI.jl/src/FMI2/sim.jl:407\u001b[39m\n",
      "\u001b[33m\u001b[1m┌ \u001b[22m\u001b[39m\u001b[33m\u001b[1mWarning: \u001b[22m\u001b[39mFMU simulation failed with solver return code `Success`, please check log for hints.\n",
      "\u001b[33m\u001b[1m└ \u001b[22m\u001b[39m\u001b[90m@ FMI ~/work/FMI.jl/FMI.jl/src/FMI2/sim.jl:407\u001b[39m\n",
      "\u001b[33m\u001b[1m┌ \u001b[22m\u001b[39m\u001b[33m\u001b[1mWarning: \u001b[22m\u001b[39mFMU simulation failed with solver return code `Success`, please check log for hints.\n",
      "\u001b[33m\u001b[1m└ \u001b[22m\u001b[39m\u001b[90m@ FMI ~/work/FMI.jl/FMI.jl/src/FMI2/sim.jl:407\u001b[39m\n",
      "\u001b[33m\u001b[1m┌ \u001b[22m\u001b[39m\u001b[33m\u001b[1mWarning: \u001b[22m\u001b[39mFMU simulation failed with solver return code `Success`, please check log for hints.\n",
      "\u001b[33m\u001b[1m└ \u001b[22m\u001b[39m\u001b[90m@ FMI ~/work/FMI.jl/FMI.jl/src/FMI2/sim.jl:407\u001b[39m\n",
      "\u001b[33m\u001b[1m┌ \u001b[22m\u001b[39m\u001b[33m\u001b[1mWarning: \u001b[22m\u001b[39mFMU simulation failed with solver return code `Success`, please check log for hints.\n",
      "\u001b[33m\u001b[1m└ \u001b[22m\u001b[39m\u001b[90m@ FMI ~/work/FMI.jl/FMI.jl/src/FMI2/sim.jl:407\u001b[39m\n",
      "\u001b[33m\u001b[1m┌ \u001b[22m\u001b[39m\u001b[33m\u001b[1mWarning: \u001b[22m\u001b[39mFMU simulation failed with solver return code `Success`, please check log for hints.\n",
      "\u001b[33m\u001b[1m└ \u001b[22m\u001b[39m\u001b[90m@ FMI ~/work/FMI.jl/FMI.jl/src/FMI2/sim.jl:407\u001b[39m\n",
      "\u001b[33m\u001b[1m┌ \u001b[22m\u001b[39m\u001b[33m\u001b[1mWarning: \u001b[22m\u001b[39mFMU simulation failed with solver return code `Success`, please check log for hints.\n",
      "\u001b[33m\u001b[1m└ \u001b[22m\u001b[39m\u001b[90m@ FMI ~/work/FMI.jl/FMI.jl/src/FMI2/sim.jl:407\u001b[39m\n",
      "\u001b[33m\u001b[1m┌ \u001b[22m\u001b[39m\u001b[33m\u001b[1mWarning: \u001b[22m\u001b[39mFMU simulation failed with solver return code `Success`, please check log for hints.\n",
      "\u001b[33m\u001b[1m└ \u001b[22m\u001b[39m\u001b[90m@ FMI ~/work/FMI.jl/FMI.jl/src/FMI2/sim.jl:407\u001b[39m\n",
      "\u001b[33m\u001b[1m┌ \u001b[22m\u001b[39m\u001b[33m\u001b[1mWarning: \u001b[22m\u001b[39mFMU simulation failed with solver return code `Success`, please check log for hints.\n",
      "\u001b[33m\u001b[1m└ \u001b[22m\u001b[39m\u001b[90m@ FMI ~/work/FMI.jl/FMI.jl/src/FMI2/sim.jl:407\u001b[39m\n"
     ]
    },
    {
     "data": {
      "text/plain": [
       "BenchmarkTools.Trial: 7 samples with 1 evaluation.\n",
       " Range \u001b[90m(\u001b[39m\u001b[36m\u001b[1mmin\u001b[22m\u001b[39m … \u001b[35mmax\u001b[39m\u001b[90m):  \u001b[39m\u001b[36m\u001b[1m769.325 ms\u001b[22m\u001b[39m … \u001b[35m840.269 ms\u001b[39m  \u001b[90m┊\u001b[39m GC \u001b[90m(\u001b[39mmin … max\u001b[90m): \u001b[39m1.80% … 1.66%\n",
       " Time  \u001b[90m(\u001b[39m\u001b[34m\u001b[1mmedian\u001b[22m\u001b[39m\u001b[90m):     \u001b[39m\u001b[34m\u001b[1m817.974 ms               \u001b[22m\u001b[39m\u001b[90m┊\u001b[39m GC \u001b[90m(\u001b[39mmedian\u001b[90m):    \u001b[39m3.39%\n",
       " Time  \u001b[90m(\u001b[39m\u001b[32m\u001b[1mmean\u001b[22m\u001b[39m ± \u001b[32mσ\u001b[39m\u001b[90m):   \u001b[39m\u001b[32m\u001b[1m814.620 ms\u001b[22m\u001b[39m ± \u001b[32m 22.064 ms\u001b[39m  \u001b[90m┊\u001b[39m GC \u001b[90m(\u001b[39mmean ± σ\u001b[90m):  \u001b[39m2.70% ± 0.90%\n",
       "\n",
       "  \u001b[39m█\u001b[39m \u001b[39m \u001b[39m \u001b[39m \u001b[39m \u001b[39m \u001b[39m \u001b[39m \u001b[39m \u001b[39m \u001b[39m \u001b[39m \u001b[39m \u001b[39m \u001b[39m \u001b[39m \u001b[39m \u001b[39m \u001b[39m \u001b[39m \u001b[39m \u001b[39m \u001b[39m \u001b[39m \u001b[39m \u001b[39m \u001b[39m \u001b[39m \u001b[39m \u001b[39m \u001b[39m \u001b[39m \u001b[39m \u001b[39m \u001b[39m \u001b[39m█\u001b[39m \u001b[39m \u001b[32m█\u001b[39m\u001b[34m \u001b[39m\u001b[39m█\u001b[39m \u001b[39m█\u001b[39m \u001b[39m \u001b[39m \u001b[39m \u001b[39m \u001b[39m█\u001b[39m \u001b[39m \u001b[39m \u001b[39m \u001b[39m \u001b[39m \u001b[39m \u001b[39m \u001b[39m \u001b[39m \u001b[39m█\u001b[39m \u001b[39m \n",
       "  \u001b[39m█\u001b[39m▁\u001b[39m▁\u001b[39m▁\u001b[39m▁\u001b[39m▁\u001b[39m▁\u001b[39m▁\u001b[39m▁\u001b[39m▁\u001b[39m▁\u001b[39m▁\u001b[39m▁\u001b[39m▁\u001b[39m▁\u001b[39m▁\u001b[39m▁\u001b[39m▁\u001b[39m▁\u001b[39m▁\u001b[39m▁\u001b[39m▁\u001b[39m▁\u001b[39m▁\u001b[39m▁\u001b[39m▁\u001b[39m▁\u001b[39m▁\u001b[39m▁\u001b[39m▁\u001b[39m▁\u001b[39m▁\u001b[39m▁\u001b[39m▁\u001b[39m▁\u001b[39m▁\u001b[39m█\u001b[39m▁\u001b[39m▁\u001b[32m█\u001b[39m\u001b[34m▁\u001b[39m\u001b[39m█\u001b[39m▁\u001b[39m█\u001b[39m▁\u001b[39m▁\u001b[39m▁\u001b[39m▁\u001b[39m▁\u001b[39m█\u001b[39m▁\u001b[39m▁\u001b[39m▁\u001b[39m▁\u001b[39m▁\u001b[39m▁\u001b[39m▁\u001b[39m▁\u001b[39m▁\u001b[39m▁\u001b[39m█\u001b[39m \u001b[39m▁\n",
       "  769 ms\u001b[90m           Histogram: frequency by time\u001b[39m          840 ms \u001b[0m\u001b[1m<\u001b[22m\n",
       "\n",
       " Memory estimate\u001b[90m: \u001b[39m\u001b[33m152.72 MiB\u001b[39m, allocs estimate\u001b[90m: \u001b[39m\u001b[33m6802164\u001b[39m."
      ]
     },
     "execution_count": 8,
     "metadata": {},
     "output_type": "execute_result"
    }
   ],
   "source": [
    "@benchmark data = runCalcFormatted(SharedModule.model_fmu, rand(2))"
   ]
  },
  {
   "cell_type": "markdown",
   "metadata": {},
   "source": [
    "### Single Threaded Batch Execution\n",
    "To compute a batch we can collect multiple evaluations. In a single threaded context we can use the same FMU for every call."
   ]
  },
  {
   "cell_type": "code",
   "execution_count": 9,
   "metadata": {
    "execution": {
     "iopub.execute_input": "2023-03-07T15:53:21.291000Z",
     "iopub.status.busy": "2023-03-07T15:53:21.291000Z",
     "iopub.status.idle": "2023-03-07T15:54:16.790000Z",
     "shell.execute_reply": "2023-03-07T15:54:16.790000Z"
    }
   },
   "outputs": [
    {
     "name": "stdout",
     "output_type": "stream",
     "text": [
      "Single Threaded\n"
     ]
    },
    {
     "name": "stderr",
     "output_type": "stream",
     "text": [
      "\u001b[33m\u001b[1m┌ \u001b[22m\u001b[39m\u001b[33m\u001b[1mWarning: \u001b[22m\u001b[39mFMU simulation failed with solver return code `Success`, please check log for hints.\n",
      "\u001b[33m\u001b[1m└ \u001b[22m\u001b[39m\u001b[90m@ FMI ~/work/FMI.jl/FMI.jl/src/FMI2/sim.jl:407\u001b[39m\n",
      "\u001b[33m\u001b[1m┌ \u001b[22m\u001b[39m\u001b[33m\u001b[1mWarning: \u001b[22m\u001b[39mFMU simulation failed with solver return code `Success`, please check log for hints.\n",
      "\u001b[33m\u001b[1m└ \u001b[22m\u001b[39m\u001b[90m@ FMI ~/work/FMI.jl/FMI.jl/src/FMI2/sim.jl:407\u001b[39m\n",
      "\u001b[33m\u001b[1m┌ \u001b[22m\u001b[39m\u001b[33m\u001b[1mWarning: \u001b[22m\u001b[39mFMU simulation failed with solver return code `Success`, please check log for hints.\n",
      "\u001b[33m\u001b[1m└ \u001b[22m\u001b[39m\u001b[90m@ FMI ~/work/FMI.jl/FMI.jl/src/FMI2/sim.jl:407\u001b[39m\n",
      "\u001b[33m\u001b[1m┌ \u001b[22m\u001b[39m\u001b[33m\u001b[1mWarning: \u001b[22m\u001b[39mFMU simulation failed with solver return code `Success`, please check log for hints.\n",
      "\u001b[33m\u001b[1m└ \u001b[22m\u001b[39m\u001b[90m@ FMI ~/work/FMI.jl/FMI.jl/src/FMI2/sim.jl:407\u001b[39m\n",
      "\u001b[33m\u001b[1m┌ \u001b[22m\u001b[39m\u001b[33m\u001b[1mWarning: \u001b[22m\u001b[39mFMU simulation failed with solver return code `Success`, please check log for hints.\n",
      "\u001b[33m\u001b[1m└ \u001b[22m\u001b[39m\u001b[90m@ FMI ~/work/FMI.jl/FMI.jl/src/FMI2/sim.jl:407\u001b[39m\n",
      "\u001b[33m\u001b[1m┌ \u001b[22m\u001b[39m\u001b[33m\u001b[1mWarning: \u001b[22m\u001b[39mFMU simulation failed with solver return code `Success`, please check log for hints.\n",
      "\u001b[33m\u001b[1m└ \u001b[22m\u001b[39m\u001b[90m@ FMI ~/work/FMI.jl/FMI.jl/src/FMI2/sim.jl:407\u001b[39m\n",
      "\u001b[33m\u001b[1m┌ \u001b[22m\u001b[39m\u001b[33m\u001b[1mWarning: \u001b[22m\u001b[39mFMU simulation failed with solver return code `Success`, please check log for hints.\n",
      "\u001b[33m\u001b[1m└ \u001b[22m\u001b[39m\u001b[90m@ FMI ~/work/FMI.jl/FMI.jl/src/FMI2/sim.jl:407\u001b[39m\n",
      "\u001b[33m\u001b[1m┌ \u001b[22m\u001b[39m\u001b[33m\u001b[1mWarning: \u001b[22m\u001b[39mFMU simulation failed with solver return code `Success`, please check log for hints.\n",
      "\u001b[33m\u001b[1m└ \u001b[22m\u001b[39m\u001b[90m@ FMI ~/work/FMI.jl/FMI.jl/src/FMI2/sim.jl:407\u001b[39m\n",
      "\u001b[33m\u001b[1m┌ \u001b[22m\u001b[39m\u001b[33m\u001b[1mWarning: \u001b[22m\u001b[39mFMU simulation failed with solver return code `Success`, please check log for hints.\n",
      "\u001b[33m\u001b[1m└ \u001b[22m\u001b[39m\u001b[90m@ FMI ~/work/FMI.jl/FMI.jl/src/FMI2/sim.jl:407\u001b[39m\n",
      "\u001b[33m\u001b[1m┌ \u001b[22m\u001b[39m\u001b[33m\u001b[1mWarning: \u001b[22m\u001b[39mFMU simulation failed with solver return code `Success`, please check log for hints.\n",
      "\u001b[33m\u001b[1m└ \u001b[22m\u001b[39m\u001b[90m@ FMI ~/work/FMI.jl/FMI.jl/src/FMI2/sim.jl:407\u001b[39m\n",
      "\u001b[33m\u001b[1m┌ \u001b[22m\u001b[39m\u001b[33m\u001b[1mWarning: \u001b[22m\u001b[39mFMU simulation failed with solver return code `Success`, please check log for hints.\n",
      "\u001b[33m\u001b[1m└ \u001b[22m\u001b[39m\u001b[90m@ FMI ~/work/FMI.jl/FMI.jl/src/FMI2/sim.jl:407\u001b[39m\n",
      "\u001b[33m\u001b[1m┌ \u001b[22m\u001b[39m\u001b[33m\u001b[1mWarning: \u001b[22m\u001b[39mFMU simulation failed with solver return code `Success`, please check log for hints.\n",
      "\u001b[33m\u001b[1m└ \u001b[22m\u001b[39m\u001b[90m@ FMI ~/work/FMI.jl/FMI.jl/src/FMI2/sim.jl:407\u001b[39m\n",
      "\u001b[33m\u001b[1m┌ \u001b[22m\u001b[39m\u001b[33m\u001b[1mWarning: \u001b[22m\u001b[39mFMU simulation failed with solver return code `Success`, please check log for hints.\n",
      "\u001b[33m\u001b[1m└ \u001b[22m\u001b[39m\u001b[90m@ FMI ~/work/FMI.jl/FMI.jl/src/FMI2/sim.jl:407\u001b[39m\n",
      "\u001b[33m\u001b[1m┌ \u001b[22m\u001b[39m\u001b[33m\u001b[1mWarning: \u001b[22m\u001b[39mFMU simulation failed with solver return code `Success`, please check log for hints.\n",
      "\u001b[33m\u001b[1m└ \u001b[22m\u001b[39m\u001b[90m@ FMI ~/work/FMI.jl/FMI.jl/src/FMI2/sim.jl:407\u001b[39m\n",
      "\u001b[33m\u001b[1m┌ \u001b[22m\u001b[39m\u001b[33m\u001b[1mWarning: \u001b[22m\u001b[39mFMU simulation failed with solver return code `Success`, please check log for hints.\n",
      "\u001b[33m\u001b[1m└ \u001b[22m\u001b[39m\u001b[90m@ FMI ~/work/FMI.jl/FMI.jl/src/FMI2/sim.jl:407\u001b[39m\n",
      "\u001b[33m\u001b[1m┌ \u001b[22m\u001b[39m\u001b[33m\u001b[1mWarning: \u001b[22m\u001b[39mFMU simulation failed with solver return code `Success`, please check log for hints.\n",
      "\u001b[33m\u001b[1m└ \u001b[22m\u001b[39m\u001b[90m@ FMI ~/work/FMI.jl/FMI.jl/src/FMI2/sim.jl:407\u001b[39m\n",
      "\u001b[33m\u001b[1m┌ \u001b[22m\u001b[39m\u001b[33m\u001b[1mWarning: \u001b[22m\u001b[39mFMU simulation failed with solver return code `Success`, please check log for hints.\n",
      "\u001b[33m\u001b[1m└ \u001b[22m\u001b[39m\u001b[90m@ FMI ~/work/FMI.jl/FMI.jl/src/FMI2/sim.jl:407\u001b[39m\n",
      "\u001b[33m\u001b[1m┌ \u001b[22m\u001b[39m\u001b[33m\u001b[1mWarning: \u001b[22m\u001b[39mFMU simulation failed with solver return code `Success`, please check log for hints.\n",
      "\u001b[33m\u001b[1m└ \u001b[22m\u001b[39m\u001b[90m@ FMI ~/work/FMI.jl/FMI.jl/src/FMI2/sim.jl:407\u001b[39m\n",
      "\u001b[33m\u001b[1m┌ \u001b[22m\u001b[39m\u001b[33m\u001b[1mWarning: \u001b[22m\u001b[39mFMU simulation failed with solver return code `Success`, please check log for hints.\n",
      "\u001b[33m\u001b[1m└ \u001b[22m\u001b[39m\u001b[90m@ FMI ~/work/FMI.jl/FMI.jl/src/FMI2/sim.jl:407\u001b[39m\n",
      "\u001b[33m\u001b[1m┌ \u001b[22m\u001b[39m\u001b[33m\u001b[1mWarning: \u001b[22m\u001b[39mFMU simulation failed with solver return code `Success`, please check log for hints.\n",
      "\u001b[33m\u001b[1m└ \u001b[22m\u001b[39m\u001b[90m@ FMI ~/work/FMI.jl/FMI.jl/src/FMI2/sim.jl:407\u001b[39m\n",
      "\u001b[33m\u001b[1m┌ \u001b[22m\u001b[39m\u001b[33m\u001b[1mWarning: \u001b[22m\u001b[39mFMU simulation failed with solver return code `Success`, please check log for hints.\n",
      "\u001b[33m\u001b[1m└ \u001b[22m\u001b[39m\u001b[90m@ FMI ~/work/FMI.jl/FMI.jl/src/FMI2/sim.jl:407\u001b[39m\n",
      "\u001b[33m\u001b[1m┌ \u001b[22m\u001b[39m\u001b[33m\u001b[1mWarning: \u001b[22m\u001b[39mFMU simulation failed with solver return code `Success`, please check log for hints.\n",
      "\u001b[33m\u001b[1m└ \u001b[22m\u001b[39m\u001b[90m@ FMI ~/work/FMI.jl/FMI.jl/src/FMI2/sim.jl:407\u001b[39m\n",
      "\u001b[33m\u001b[1m┌ \u001b[22m\u001b[39m\u001b[33m\u001b[1mWarning: \u001b[22m\u001b[39mFMU simulation failed with solver return code `Success`, please check log for hints.\n",
      "\u001b[33m\u001b[1m└ \u001b[22m\u001b[39m\u001b[90m@ FMI ~/work/FMI.jl/FMI.jl/src/FMI2/sim.jl:407\u001b[39m\n",
      "\u001b[33m\u001b[1m┌ \u001b[22m\u001b[39m\u001b[33m\u001b[1mWarning: \u001b[22m\u001b[39mFMU simulation failed with solver return code `Success`, please check log for hints.\n",
      "\u001b[33m\u001b[1m└ \u001b[22m\u001b[39m\u001b[90m@ FMI ~/work/FMI.jl/FMI.jl/src/FMI2/sim.jl:407\u001b[39m\n",
      "\u001b[33m\u001b[1m┌ \u001b[22m\u001b[39m\u001b[33m\u001b[1mWarning: \u001b[22m\u001b[39mFMU simulation failed with solver return code `Success`, please check log for hints.\n",
      "\u001b[33m\u001b[1m└ \u001b[22m\u001b[39m\u001b[90m@ FMI ~/work/FMI.jl/FMI.jl/src/FMI2/sim.jl:407\u001b[39m\n",
      "\u001b[33m\u001b[1m┌ \u001b[22m\u001b[39m\u001b[33m\u001b[1mWarning: \u001b[22m\u001b[39mFMU simulation failed with solver return code `Success`, please check log for hints.\n",
      "\u001b[33m\u001b[1m└ \u001b[22m\u001b[39m\u001b[90m@ FMI ~/work/FMI.jl/FMI.jl/src/FMI2/sim.jl:407\u001b[39m\n",
      "\u001b[33m\u001b[1m┌ \u001b[22m\u001b[39m\u001b[33m\u001b[1mWarning: \u001b[22m\u001b[39mFMU simulation failed with solver return code `Success`, please check log for hints.\n",
      "\u001b[33m\u001b[1m└ \u001b[22m\u001b[39m\u001b[90m@ FMI ~/work/FMI.jl/FMI.jl/src/FMI2/sim.jl:407\u001b[39m\n",
      "\u001b[33m\u001b[1m┌ \u001b[22m\u001b[39m\u001b[33m\u001b[1mWarning: \u001b[22m\u001b[39mFMU simulation failed with solver return code `Success`, please check log for hints.\n",
      "\u001b[33m\u001b[1m└ \u001b[22m\u001b[39m\u001b[90m@ FMI ~/work/FMI.jl/FMI.jl/src/FMI2/sim.jl:407\u001b[39m\n",
      "\u001b[33m\u001b[1m┌ \u001b[22m\u001b[39m\u001b[33m\u001b[1mWarning: \u001b[22m\u001b[39mFMU simulation failed with solver return code `Success`, please check log for hints.\n",
      "\u001b[33m\u001b[1m└ \u001b[22m\u001b[39m\u001b[90m@ FMI ~/work/FMI.jl/FMI.jl/src/FMI2/sim.jl:407\u001b[39m\n",
      "\u001b[33m\u001b[1m┌ \u001b[22m\u001b[39m\u001b[33m\u001b[1mWarning: \u001b[22m\u001b[39mFMU simulation failed with solver return code `Success`, please check log for hints.\n",
      "\u001b[33m\u001b[1m└ \u001b[22m\u001b[39m\u001b[90m@ FMI ~/work/FMI.jl/FMI.jl/src/FMI2/sim.jl:407\u001b[39m\n",
      "\u001b[33m\u001b[1m┌ \u001b[22m\u001b[39m\u001b[33m\u001b[1mWarning: \u001b[22m\u001b[39mFMU simulation failed with solver return code `Success`, please check log for hints.\n",
      "\u001b[33m\u001b[1m└ \u001b[22m\u001b[39m\u001b[90m@ FMI ~/work/FMI.jl/FMI.jl/src/FMI2/sim.jl:407\u001b[39m\n",
      "\u001b[33m\u001b[1m┌ \u001b[22m\u001b[39m\u001b[33m\u001b[1mWarning: \u001b[22m\u001b[39mFMU simulation failed with solver return code `Success`, please check log for hints.\n",
      "\u001b[33m\u001b[1m└ \u001b[22m\u001b[39m\u001b[90m@ FMI ~/work/FMI.jl/FMI.jl/src/FMI2/sim.jl:407\u001b[39m\n",
      "\u001b[33m\u001b[1m┌ \u001b[22m\u001b[39m\u001b[33m\u001b[1mWarning: \u001b[22m\u001b[39mFMU simulation failed with solver return code `Success`, please check log for hints.\n",
      "\u001b[33m\u001b[1m└ \u001b[22m\u001b[39m\u001b[90m@ FMI ~/work/FMI.jl/FMI.jl/src/FMI2/sim.jl:407\u001b[39m\n",
      "\u001b[33m\u001b[1m┌ \u001b[22m\u001b[39m\u001b[33m\u001b[1mWarning: \u001b[22m\u001b[39mFMU simulation failed with solver return code `Success`, please check log for hints.\n",
      "\u001b[33m\u001b[1m└ \u001b[22m\u001b[39m\u001b[90m@ FMI ~/work/FMI.jl/FMI.jl/src/FMI2/sim.jl:407\u001b[39m\n",
      "\u001b[33m\u001b[1m┌ \u001b[22m\u001b[39m\u001b[33m\u001b[1mWarning: \u001b[22m\u001b[39mFMU simulation failed with solver return code `Success`, please check log for hints.\n",
      "\u001b[33m\u001b[1m└ \u001b[22m\u001b[39m\u001b[90m@ FMI ~/work/FMI.jl/FMI.jl/src/FMI2/sim.jl:407\u001b[39m\n",
      "\u001b[33m\u001b[1m┌ \u001b[22m\u001b[39m\u001b[33m\u001b[1mWarning: \u001b[22m\u001b[39mFMU simulation failed with solver return code `Success`, please check log for hints.\n",
      "\u001b[33m\u001b[1m└ \u001b[22m\u001b[39m\u001b[90m@ FMI ~/work/FMI.jl/FMI.jl/src/FMI2/sim.jl:407\u001b[39m\n",
      "\u001b[33m\u001b[1m┌ \u001b[22m\u001b[39m\u001b[33m\u001b[1mWarning: \u001b[22m\u001b[39mFMU simulation failed with solver return code `Success`, please check log for hints.\n",
      "\u001b[33m\u001b[1m└ \u001b[22m\u001b[39m\u001b[90m@ FMI ~/work/FMI.jl/FMI.jl/src/FMI2/sim.jl:407\u001b[39m\n",
      "\u001b[33m\u001b[1m┌ \u001b[22m\u001b[39m\u001b[33m\u001b[1mWarning: \u001b[22m\u001b[39mFMU simulation failed with solver return code `Success`, please check log for hints.\n",
      "\u001b[33m\u001b[1m└ \u001b[22m\u001b[39m\u001b[90m@ FMI ~/work/FMI.jl/FMI.jl/src/FMI2/sim.jl:407\u001b[39m\n",
      "\u001b[33m\u001b[1m┌ \u001b[22m\u001b[39m\u001b[33m\u001b[1mWarning: \u001b[22m\u001b[39mFMU simulation failed with solver return code `Success`, please check log for hints.\n",
      "\u001b[33m\u001b[1m└ \u001b[22m\u001b[39m\u001b[90m@ FMI ~/work/FMI.jl/FMI.jl/src/FMI2/sim.jl:407\u001b[39m\n",
      "\u001b[33m\u001b[1m┌ \u001b[22m\u001b[39m\u001b[33m\u001b[1mWarning: \u001b[22m\u001b[39mFMU simulation failed with solver return code `Success`, please check log for hints.\n",
      "\u001b[33m\u001b[1m└ \u001b[22m\u001b[39m\u001b[90m@ FMI ~/work/FMI.jl/FMI.jl/src/FMI2/sim.jl:407\u001b[39m\n",
      "\u001b[33m\u001b[1m┌ \u001b[22m\u001b[39m\u001b[33m\u001b[1mWarning: \u001b[22m\u001b[39mFMU simulation failed with solver return code `Success`, please check log for hints.\n",
      "\u001b[33m\u001b[1m└ \u001b[22m\u001b[39m\u001b[90m@ FMI ~/work/FMI.jl/FMI.jl/src/FMI2/sim.jl:407\u001b[39m\n",
      "\u001b[33m\u001b[1m┌ \u001b[22m\u001b[39m\u001b[33m\u001b[1mWarning: \u001b[22m\u001b[39mFMU simulation failed with solver return code `Success`, please check log for hints.\n",
      "\u001b[33m\u001b[1m└ \u001b[22m\u001b[39m\u001b[90m@ FMI ~/work/FMI.jl/FMI.jl/src/FMI2/sim.jl:407\u001b[39m\n",
      "\u001b[33m\u001b[1m┌ \u001b[22m\u001b[39m\u001b[33m\u001b[1mWarning: \u001b[22m\u001b[39mFMU simulation failed with solver return code `Success`, please check log for hints.\n",
      "\u001b[33m\u001b[1m└ \u001b[22m\u001b[39m\u001b[90m@ FMI ~/work/FMI.jl/FMI.jl/src/FMI2/sim.jl:407\u001b[39m\n",
      "\u001b[33m\u001b[1m┌ \u001b[22m\u001b[39m\u001b[33m\u001b[1mWarning: \u001b[22m\u001b[39mFMU simulation failed with solver return code `Success`, please check log for hints.\n",
      "\u001b[33m\u001b[1m└ \u001b[22m\u001b[39m\u001b[90m@ FMI ~/work/FMI.jl/FMI.jl/src/FMI2/sim.jl:407\u001b[39m\n",
      "\u001b[33m\u001b[1m┌ \u001b[22m\u001b[39m\u001b[33m\u001b[1mWarning: \u001b[22m\u001b[39mFMU simulation failed with solver return code `Success`, please check log for hints.\n",
      "\u001b[33m\u001b[1m└ \u001b[22m\u001b[39m\u001b[90m@ FMI ~/work/FMI.jl/FMI.jl/src/FMI2/sim.jl:407\u001b[39m\n",
      "\u001b[33m\u001b[1m┌ \u001b[22m\u001b[39m\u001b[33m\u001b[1mWarning: \u001b[22m\u001b[39mFMU simulation failed with solver return code `Success`, please check log for hints.\n",
      "\u001b[33m\u001b[1m└ \u001b[22m\u001b[39m\u001b[90m@ FMI ~/work/FMI.jl/FMI.jl/src/FMI2/sim.jl:407\u001b[39m\n",
      "\u001b[33m\u001b[1m┌ \u001b[22m\u001b[39m\u001b[33m\u001b[1mWarning: \u001b[22m\u001b[39mFMU simulation failed with solver return code `Success`, please check log for hints.\n",
      "\u001b[33m\u001b[1m└ \u001b[22m\u001b[39m\u001b[90m@ FMI ~/work/FMI.jl/FMI.jl/src/FMI2/sim.jl:407\u001b[39m\n",
      "\u001b[33m\u001b[1m┌ \u001b[22m\u001b[39m\u001b[33m\u001b[1mWarning: \u001b[22m\u001b[39mFMU simulation failed with solver return code `Success`, please check log for hints.\n",
      "\u001b[33m\u001b[1m└ \u001b[22m\u001b[39m\u001b[90m@ FMI ~/work/FMI.jl/FMI.jl/src/FMI2/sim.jl:407\u001b[39m\n",
      "\u001b[33m\u001b[1m┌ \u001b[22m\u001b[39m\u001b[33m\u001b[1mWarning: \u001b[22m\u001b[39mFMU simulation failed with solver return code `Success`, please check log for hints.\n",
      "\u001b[33m\u001b[1m└ \u001b[22m\u001b[39m\u001b[90m@ FMI ~/work/FMI.jl/FMI.jl/src/FMI2/sim.jl:407\u001b[39m\n",
      "\u001b[33m\u001b[1m┌ \u001b[22m\u001b[39m\u001b[33m\u001b[1mWarning: \u001b[22m\u001b[39mFMU simulation failed with solver return code `Success`, please check log for hints.\n",
      "\u001b[33m\u001b[1m└ \u001b[22m\u001b[39m\u001b[90m@ FMI ~/work/FMI.jl/FMI.jl/src/FMI2/sim.jl:407\u001b[39m\n",
      "\u001b[33m\u001b[1m┌ \u001b[22m\u001b[39m\u001b[33m\u001b[1mWarning: \u001b[22m\u001b[39mFMU simulation failed with solver return code `Success`, please check log for hints.\n",
      "\u001b[33m\u001b[1m└ \u001b[22m\u001b[39m\u001b[90m@ FMI ~/work/FMI.jl/FMI.jl/src/FMI2/sim.jl:407\u001b[39m\n",
      "\u001b[33m\u001b[1m┌ \u001b[22m\u001b[39m\u001b[33m\u001b[1mWarning: \u001b[22m\u001b[39mFMU simulation failed with solver return code `Success`, please check log for hints.\n",
      "\u001b[33m\u001b[1m└ \u001b[22m\u001b[39m\u001b[90m@ FMI ~/work/FMI.jl/FMI.jl/src/FMI2/sim.jl:407\u001b[39m\n",
      "\u001b[33m\u001b[1m┌ \u001b[22m\u001b[39m\u001b[33m\u001b[1mWarning: \u001b[22m\u001b[39mFMU simulation failed with solver return code `Success`, please check log for hints.\n",
      "\u001b[33m\u001b[1m└ \u001b[22m\u001b[39m\u001b[90m@ FMI ~/work/FMI.jl/FMI.jl/src/FMI2/sim.jl:407\u001b[39m\n",
      "\u001b[33m\u001b[1m┌ \u001b[22m\u001b[39m\u001b[33m\u001b[1mWarning: \u001b[22m\u001b[39mFMU simulation failed with solver return code `Success`, please check log for hints.\n",
      "\u001b[33m\u001b[1m└ \u001b[22m\u001b[39m\u001b[90m@ FMI ~/work/FMI.jl/FMI.jl/src/FMI2/sim.jl:407\u001b[39m\n",
      "\u001b[33m\u001b[1m┌ \u001b[22m\u001b[39m\u001b[33m\u001b[1mWarning: \u001b[22m\u001b[39mFMU simulation failed with solver return code `Success`, please check log for hints.\n",
      "\u001b[33m\u001b[1m└ \u001b[22m\u001b[39m\u001b[90m@ FMI ~/work/FMI.jl/FMI.jl/src/FMI2/sim.jl:407\u001b[39m\n",
      "\u001b[33m\u001b[1m┌ \u001b[22m\u001b[39m\u001b[33m\u001b[1mWarning: \u001b[22m\u001b[39mFMU simulation failed with solver return code `Success`, please check log for hints.\n",
      "\u001b[33m\u001b[1m└ \u001b[22m\u001b[39m\u001b[90m@ FMI ~/work/FMI.jl/FMI.jl/src/FMI2/sim.jl:407\u001b[39m\n",
      "\u001b[33m\u001b[1m┌ \u001b[22m\u001b[39m\u001b[33m\u001b[1mWarning: \u001b[22m\u001b[39mFMU simulation failed with solver return code `Success`, please check log for hints.\n",
      "\u001b[33m\u001b[1m└ \u001b[22m\u001b[39m\u001b[90m@ FMI ~/work/FMI.jl/FMI.jl/src/FMI2/sim.jl:407\u001b[39m\n",
      "\u001b[33m\u001b[1m┌ \u001b[22m\u001b[39m\u001b[33m\u001b[1mWarning: \u001b[22m\u001b[39mFMU simulation failed with solver return code `Success`, please check log for hints.\n",
      "\u001b[33m\u001b[1m└ \u001b[22m\u001b[39m\u001b[90m@ FMI ~/work/FMI.jl/FMI.jl/src/FMI2/sim.jl:407\u001b[39m\n",
      "\u001b[33m\u001b[1m┌ \u001b[22m\u001b[39m\u001b[33m\u001b[1mWarning: \u001b[22m\u001b[39mFMU simulation failed with solver return code `Success`, please check log for hints.\n",
      "\u001b[33m\u001b[1m└ \u001b[22m\u001b[39m\u001b[90m@ FMI ~/work/FMI.jl/FMI.jl/src/FMI2/sim.jl:407\u001b[39m\n",
      "\u001b[33m\u001b[1m┌ \u001b[22m\u001b[39m\u001b[33m\u001b[1mWarning: \u001b[22m\u001b[39mFMU simulation failed with solver return code `Success`, please check log for hints.\n",
      "\u001b[33m\u001b[1m└ \u001b[22m\u001b[39m\u001b[90m@ FMI ~/work/FMI.jl/FMI.jl/src/FMI2/sim.jl:407\u001b[39m\n",
      "\u001b[33m\u001b[1m┌ \u001b[22m\u001b[39m\u001b[33m\u001b[1mWarning: \u001b[22m\u001b[39mFMU simulation failed with solver return code `Success`, please check log for hints.\n",
      "\u001b[33m\u001b[1m└ \u001b[22m\u001b[39m\u001b[90m@ FMI ~/work/FMI.jl/FMI.jl/src/FMI2/sim.jl:407\u001b[39m\n",
      "\u001b[33m\u001b[1m┌ \u001b[22m\u001b[39m\u001b[33m\u001b[1mWarning: \u001b[22m\u001b[39mFMU simulation failed with solver return code `Success`, please check log for hints.\n",
      "\u001b[33m\u001b[1m└ \u001b[22m\u001b[39m\u001b[90m@ FMI ~/work/FMI.jl/FMI.jl/src/FMI2/sim.jl:407\u001b[39m\n",
      "\u001b[33m\u001b[1m┌ \u001b[22m\u001b[39m\u001b[33m\u001b[1mWarning: \u001b[22m\u001b[39mFMU simulation failed with solver return code `Success`, please check log for hints.\n",
      "\u001b[33m\u001b[1m└ \u001b[22m\u001b[39m\u001b[90m@ FMI ~/work/FMI.jl/FMI.jl/src/FMI2/sim.jl:407\u001b[39m\n",
      "\u001b[33m\u001b[1m┌ \u001b[22m\u001b[39m\u001b[33m\u001b[1mWarning: \u001b[22m\u001b[39mFMU simulation failed with solver return code `Success`, please check log for hints.\n",
      "\u001b[33m\u001b[1m└ \u001b[22m\u001b[39m\u001b[90m@ FMI ~/work/FMI.jl/FMI.jl/src/FMI2/sim.jl:407\u001b[39m\n"
     ]
    },
    {
     "data": {
      "text/plain": [
       "BenchmarkTools.Trial: 1 sample with 1 evaluation.\n",
       " Single result which took \u001b[34m13.271 s\u001b[39m (2.88% GC) to evaluate,\n",
       " with a memory estimate of \u001b[33m2.39 GiB\u001b[39m, over \u001b[33m108835301\u001b[39m allocations."
      ]
     },
     "execution_count": 9,
     "metadata": {},
     "output_type": "execute_result"
    }
   ],
   "source": [
    "println(\"Single Threaded\")\n",
    "@benchmark collect(runCalcFormatted(SharedModule.model_fmu, i) for i in input_values)"
   ]
  },
  {
   "cell_type": "markdown",
   "metadata": {},
   "source": [
    "### Multithreaded Batch Execution\n",
    "In a multithreaded context we have to provide each thread it's own fmu, as they are not thread safe.\n",
    "To spread the execution of a function to multiple processes, the function `pmap` can be used."
   ]
  },
  {
   "cell_type": "code",
   "execution_count": 10,
   "metadata": {
    "execution": {
     "iopub.execute_input": "2023-03-07T15:54:16.793000Z",
     "iopub.status.busy": "2023-03-07T15:54:16.793000Z",
     "iopub.status.idle": "2023-03-07T15:55:09.158000Z",
     "shell.execute_reply": "2023-03-07T15:55:09.158000Z"
    }
   },
   "outputs": [
    {
     "name": "stdout",
     "output_type": "stream",
     "text": [
      "Multi Threaded\n",
      "      From worker 2:\t\u001b[33m\u001b[1m┌ \u001b[22m\u001b[39m\u001b[33m\u001b[1mWarning: \u001b[22m\u001b[39mFMU simulation failed with solver return code `Success`, please check log for hints.\n",
      "      From worker 2:\t\u001b[33m\u001b[1m└ \u001b[22m\u001b[39m\u001b[90m@ FMI ~/work/FMI.jl/FMI.jl/src/FMI2/sim.jl:407\u001b[39m\n",
      "      From worker 3:\t\u001b[33m\u001b[1m┌ \u001b[22m\u001b[39m\u001b[33m\u001b[1mWarning: \u001b[22m\u001b[39mFMU simulation failed with solver return code `Success`, please check log for hints.\n",
      "      From worker 3:\t\u001b[33m\u001b[1m└ \u001b[22m\u001b[39m\u001b[90m@ FMI ~/work/FMI.jl/FMI.jl/src/FMI2/sim.jl:407\u001b[39m\n",
      "      From worker 2:\t\u001b[33m\u001b[1m┌ \u001b[22m\u001b[39m\u001b[33m\u001b[1mWarning: \u001b[22m\u001b[39mFMU simulation failed with solver return code `Success`, please check log for hints.\n",
      "      From worker 2:\t\u001b[33m\u001b[1m└ \u001b[22m\u001b[39m\u001b[90m@ FMI ~/work/FMI.jl/FMI.jl/src/FMI2/sim.jl:407\u001b[39m\n",
      "      From worker 3:\t\u001b[33m\u001b[1m┌ \u001b[22m\u001b[39m\u001b[33m\u001b[1mWarning: \u001b[22m\u001b[39mFMU simulation failed with solver return code `Success`, please check log for hints.\n",
      "      From worker 3:\t\u001b[33m\u001b[1m└ \u001b[22m\u001b[39m\u001b[90m@ FMI ~/work/FMI.jl/FMI.jl/src/FMI2/sim.jl:407\u001b[39m\n",
      "      From worker 3:\t\u001b[33m\u001b[1m┌ \u001b[22m\u001b[39m\u001b[33m\u001b[1mWarning: \u001b[22m\u001b[39mFMU simulation failed with solver return code `Success`, please check log for hints.\n",
      "      From worker 3:\t\u001b[33m\u001b[1m└ \u001b[22m\u001b[39m\u001b[90m@ FMI ~/work/FMI.jl/FMI.jl/src/FMI2/sim.jl:407\u001b[39m\n",
      "      From worker 2:\t\u001b[33m\u001b[1m┌ \u001b[22m\u001b[39m\u001b[33m\u001b[1mWarning: \u001b[22m\u001b[39mFMU simulation failed with solver return code `Success`, please check log for hints.\n",
      "      From worker 2:\t\u001b[33m\u001b[1m└ \u001b[22m\u001b[39m\u001b[90m@ FMI ~/work/FMI.jl/FMI.jl/src/FMI2/sim.jl:407\u001b[39m\n",
      "      From worker 3:\t\u001b[33m\u001b[1m┌ \u001b[22m\u001b[39m\u001b[33m\u001b[1mWarning: \u001b[22m\u001b[39mFMU simulation failed with solver return code `Success`, please check log for hints.\n",
      "      From worker 3:\t\u001b[33m\u001b[1m└ \u001b[22m\u001b[39m\u001b[90m@ FMI ~/work/FMI.jl/FMI.jl/src/FMI2/sim.jl:407\u001b[39m\n",
      "      From worker 2:\t\u001b[33m\u001b[1m┌ \u001b[22m\u001b[39m\u001b[33m\u001b[1mWarning: \u001b[22m\u001b[39mFMU simulation failed with solver return code `Success`, please check log for hints.\n",
      "      From worker 2:\t\u001b[33m\u001b[1m└ \u001b[22m\u001b[39m\u001b[90m@ FMI ~/work/FMI.jl/FMI.jl/src/FMI2/sim.jl:407\u001b[39m\n",
      "      From worker 3:\t\u001b[33m\u001b[1m┌ \u001b[22m\u001b[39m\u001b[33m\u001b[1mWarning: \u001b[22m\u001b[39mFMU simulation failed with solver return code `Success`, please check log for hints.\n",
      "      From worker 3:\t\u001b[33m\u001b[1m└ \u001b[22m\u001b[39m\u001b[90m@ FMI ~/work/FMI.jl/FMI.jl/src/FMI2/sim.jl:407\u001b[39m\n",
      "      From worker 2:\t\u001b[33m\u001b[1m┌ \u001b[22m\u001b[39m\u001b[33m\u001b[1mWarning: \u001b[22m\u001b[39mFMU simulation failed with solver return code `Success`, please check log for hints.\n",
      "      From worker 2:\t\u001b[33m\u001b[1m└ \u001b[22m\u001b[39m\u001b[90m@ FMI ~/work/FMI.jl/FMI.jl/src/FMI2/sim.jl:407\u001b[39m\n",
      "      From worker 3:\t\u001b[33m\u001b[1m┌ \u001b[22m\u001b[39m\u001b[33m\u001b[1mWarning: \u001b[22m\u001b[39mFMU simulation failed with solver return code `Success`, please check log for hints.\n",
      "      From worker 3:\t\u001b[33m\u001b[1m└ \u001b[22m\u001b[39m\u001b[90m@ FMI ~/work/FMI.jl/FMI.jl/src/FMI2/sim.jl:407\u001b[39m\n",
      "      From worker 2:\t\u001b[33m\u001b[1m┌ \u001b[22m\u001b[39m\u001b[33m\u001b[1mWarning: \u001b[22m\u001b[39mFMU simulation failed with solver return code `Success`, please check log for hints.\n",
      "      From worker 2:\t\u001b[33m\u001b[1m└ \u001b[22m\u001b[39m\u001b[90m@ FMI ~/work/FMI.jl/FMI.jl/src/FMI2/sim.jl:407\u001b[39m\n",
      "      From worker 3:\t\u001b[33m\u001b[1m┌ \u001b[22m\u001b[39m\u001b[33m\u001b[1mWarning: \u001b[22m\u001b[39mFMU simulation failed with solver return code `Success`, please check log for hints.\n",
      "      From worker 3:\t\u001b[33m\u001b[1m└ \u001b[22m\u001b[39m\u001b[90m@ FMI ~/work/FMI.jl/FMI.jl/src/FMI2/sim.jl:407\u001b[39m\n",
      "      From worker 2:\t\u001b[33m\u001b[1m┌ \u001b[22m\u001b[39m\u001b[33m\u001b[1mWarning: \u001b[22m\u001b[39mFMU simulation failed with solver return code `Success`, please check log for hints.\n",
      "      From worker 2:\t\u001b[33m\u001b[1m└ \u001b[22m\u001b[39m\u001b[90m@ FMI ~/work/FMI.jl/FMI.jl/src/FMI2/sim.jl:407\u001b[39m\n",
      "      From worker 3:\t\u001b[33m\u001b[1m┌ \u001b[22m\u001b[39m\u001b[33m\u001b[1mWarning: \u001b[22m\u001b[39mFMU simulation failed with solver return code `Success`, please check log for hints.\n",
      "      From worker 3:\t\u001b[33m\u001b[1m└ \u001b[22m\u001b[39m\u001b[90m@ FMI ~/work/FMI.jl/FMI.jl/src/FMI2/sim.jl:407\u001b[39m\n",
      "      From worker 2:\t\u001b[33m\u001b[1m┌ \u001b[22m\u001b[39m\u001b[33m\u001b[1mWarning: \u001b[22m\u001b[39mFMU simulation failed with solver return code `Success`, please check log for hints.\n",
      "      From worker 2:\t\u001b[33m\u001b[1m└ \u001b[22m\u001b[39m\u001b[90m@ FMI ~/work/FMI.jl/FMI.jl/src/FMI2/sim.jl:407\u001b[39m\n",
      "      From worker 3:\t\u001b[33m\u001b[1m┌ \u001b[22m\u001b[39m\u001b[33m\u001b[1mWarning: \u001b[22m\u001b[39mFMU simulation failed with solver return code `Success`, please check log for hints.\n",
      "      From worker 3:\t\u001b[33m\u001b[1m└ \u001b[22m\u001b[39m\u001b[90m@ FMI ~/work/FMI.jl/FMI.jl/src/FMI2/sim.jl:407\u001b[39m\n",
      "      From worker 2:\t\u001b[33m\u001b[1m┌ \u001b[22m\u001b[39m\u001b[33m\u001b[1mWarning: \u001b[22m\u001b[39mFMU simulation failed with solver return code `Success`, please check log for hints.\n",
      "      From worker 2:\t\u001b[33m\u001b[1m└ \u001b[22m\u001b[39m\u001b[90m@ FMI ~/work/FMI.jl/FMI.jl/src/FMI2/sim.jl:407\u001b[39m\n",
      "      From worker 3:\t\u001b[33m\u001b[1m┌ \u001b[22m\u001b[39m\u001b[33m\u001b[1mWarning: \u001b[22m\u001b[39mFMU simulation failed with solver return code `Success`, please check log for hints.\n",
      "      From worker 3:\t\u001b[33m\u001b[1m└ \u001b[22m\u001b[39m\u001b[90m@ FMI ~/work/FMI.jl/FMI.jl/src/FMI2/sim.jl:407\u001b[39m\n",
      "      From worker 2:\t\u001b[33m\u001b[1m┌ \u001b[22m\u001b[39m\u001b[33m\u001b[1mWarning: \u001b[22m\u001b[39mFMU simulation failed with solver return code `Success`, please check log for hints.\n",
      "      From worker 2:\t\u001b[33m\u001b[1m└ \u001b[22m\u001b[39m\u001b[90m@ FMI ~/work/FMI.jl/FMI.jl/src/FMI2/sim.jl:407\u001b[39m\n",
      "      From worker 3:\t\u001b[33m\u001b[1m┌ \u001b[22m\u001b[39m\u001b[33m\u001b[1mWarning: \u001b[22m\u001b[39mFMU simulation failed with solver return code `Success`, please check log for hints.\n",
      "      From worker 3:\t\u001b[33m\u001b[1m└ \u001b[22m\u001b[39m\u001b[90m@ FMI ~/work/FMI.jl/FMI.jl/src/FMI2/sim.jl:407\u001b[39m\n",
      "      From worker 2:\t\u001b[33m\u001b[1m┌ \u001b[22m\u001b[39m\u001b[33m\u001b[1mWarning: \u001b[22m\u001b[39mFMU simulation failed with solver return code `Success`, please check log for hints.\n",
      "      From worker 2:\t\u001b[33m\u001b[1m└ \u001b[22m\u001b[39m\u001b[90m@ FMI ~/work/FMI.jl/FMI.jl/src/FMI2/sim.jl:407\u001b[39m\n",
      "      From worker 3:\t\u001b[33m\u001b[1m┌ \u001b[22m\u001b[39m\u001b[33m\u001b[1mWarning: \u001b[22m\u001b[39mFMU simulation failed with solver return code `Success`, please check log for hints.\n",
      "      From worker 3:\t\u001b[33m\u001b[1m└ \u001b[22m\u001b[39m\u001b[90m@ FMI ~/work/FMI.jl/FMI.jl/src/FMI2/sim.jl:407\u001b[39m\n",
      "      From worker 2:\t\u001b[33m\u001b[1m┌ \u001b[22m\u001b[39m\u001b[33m\u001b[1mWarning: \u001b[22m\u001b[39mFMU simulation failed with solver return code `Success`, please check log for hints.\n",
      "      From worker 2:\t\u001b[33m\u001b[1m└ \u001b[22m\u001b[39m\u001b[90m@ FMI ~/work/FMI.jl/FMI.jl/src/FMI2/sim.jl:407\u001b[39m\n",
      "      From worker 3:\t\u001b[33m\u001b[1m┌ \u001b[22m\u001b[39m\u001b[33m\u001b[1mWarning: \u001b[22m\u001b[39mFMU simulation failed with solver return code `Success`, please check log for hints.\n",
      "      From worker 3:\t\u001b[33m\u001b[1m└ \u001b[22m\u001b[39m\u001b[90m@ FMI ~/work/FMI.jl/FMI.jl/src/FMI2/sim.jl:407\u001b[39m\n",
      "      From worker 2:\t\u001b[33m\u001b[1m┌ \u001b[22m\u001b[39m\u001b[33m\u001b[1mWarning: \u001b[22m\u001b[39mFMU simulation failed with solver return code `Success`, please check log for hints.\n",
      "      From worker 2:\t\u001b[33m\u001b[1m└ \u001b[22m\u001b[39m\u001b[90m@ FMI ~/work/FMI.jl/FMI.jl/src/FMI2/sim.jl:407\u001b[39m\n",
      "      From worker 3:\t\u001b[33m\u001b[1m┌ \u001b[22m\u001b[39m\u001b[33m\u001b[1mWarning: \u001b[22m\u001b[39mFMU simulation failed with solver return code `Success`, please check log for hints.\n",
      "      From worker 3:\t\u001b[33m\u001b[1m└ \u001b[22m\u001b[39m\u001b[90m@ FMI ~/work/FMI.jl/FMI.jl/src/FMI2/sim.jl:407\u001b[39m\n",
      "      From worker 2:\t\u001b[33m\u001b[1m┌ \u001b[22m\u001b[39m\u001b[33m\u001b[1mWarning: \u001b[22m\u001b[39mFMU simulation failed with solver return code `Success`, please check log for hints.\n",
      "      From worker 2:\t\u001b[33m\u001b[1m└ \u001b[22m\u001b[39m\u001b[90m@ FMI ~/work/FMI.jl/FMI.jl/src/FMI2/sim.jl:407\u001b[39m\n",
      "      From worker 3:\t\u001b[33m\u001b[1m┌ \u001b[22m\u001b[39m\u001b[33m\u001b[1mWarning: \u001b[22m\u001b[39mFMU simulation failed with solver return code `Success`, please check log for hints.\n",
      "      From worker 3:\t\u001b[33m\u001b[1m└ \u001b[22m\u001b[39m\u001b[90m@ FMI ~/work/FMI.jl/FMI.jl/src/FMI2/sim.jl:407\u001b[39m\n",
      "      From worker 2:\t\u001b[33m\u001b[1m┌ \u001b[22m\u001b[39m\u001b[33m\u001b[1mWarning: \u001b[22m\u001b[39mFMU simulation failed with solver return code `Success`, please check log for hints.\n",
      "      From worker 2:\t\u001b[33m\u001b[1m└ \u001b[22m\u001b[39m\u001b[90m@ FMI ~/work/FMI.jl/FMI.jl/src/FMI2/sim.jl:407\u001b[39m\n",
      "      From worker 3:\t\u001b[33m\u001b[1m┌ \u001b[22m\u001b[39m\u001b[33m\u001b[1mWarning: \u001b[22m\u001b[39mFMU simulation failed with solver return code `Success`, please check log for hints.\n",
      "      From worker 3:\t\u001b[33m\u001b[1m└ \u001b[22m\u001b[39m\u001b[90m@ FMI ~/work/FMI.jl/FMI.jl/src/FMI2/sim.jl:407\u001b[39m\n",
      "      From worker 2:\t\u001b[33m\u001b[1m┌ \u001b[22m\u001b[39m\u001b[33m\u001b[1mWarning: \u001b[22m\u001b[39mFMU simulation failed with solver return code `Success`, please check log for hints.\n",
      "      From worker 2:\t\u001b[33m\u001b[1m└ \u001b[22m\u001b[39m\u001b[90m@ FMI ~/work/FMI.jl/FMI.jl/src/FMI2/sim.jl:407\u001b[39m\n",
      "      From worker 3:\t\u001b[33m\u001b[1m┌ \u001b[22m\u001b[39m\u001b[33m\u001b[1mWarning: \u001b[22m\u001b[39mFMU simulation failed with solver return code `Success`, please check log for hints.\n",
      "      From worker 3:\t\u001b[33m\u001b[1m└ \u001b[22m\u001b[39m\u001b[90m@ FMI ~/work/FMI.jl/FMI.jl/src/FMI2/sim.jl:407\u001b[39m\n",
      "      From worker 2:\t\u001b[33m\u001b[1m┌ \u001b[22m\u001b[39m\u001b[33m\u001b[1mWarning: \u001b[22m\u001b[39mFMU simulation failed with solver return code `Success`, please check log for hints.\n",
      "      From worker 2:\t\u001b[33m\u001b[1m└ \u001b[22m\u001b[39m\u001b[90m@ FMI ~/work/FMI.jl/FMI.jl/src/FMI2/sim.jl:407\u001b[39m\n",
      "      From worker 3:\t\u001b[33m\u001b[1m┌ \u001b[22m\u001b[39m\u001b[33m\u001b[1mWarning: \u001b[22m\u001b[39mFMU simulation failed with solver return code `Success`, please check log for hints.\n",
      "      From worker 3:\t\u001b[33m\u001b[1m└ \u001b[22m\u001b[39m\u001b[90m@ FMI ~/work/FMI.jl/FMI.jl/src/FMI2/sim.jl:407\u001b[39m\n",
      "      From worker 2:\t\u001b[33m\u001b[1m┌ \u001b[22m\u001b[39m\u001b[33m\u001b[1mWarning: \u001b[22m\u001b[39mFMU simulation failed with solver return code `Success`, please check log for hints.\n",
      "      From worker 2:\t\u001b[33m\u001b[1m└ \u001b[22m\u001b[39m\u001b[90m@ FMI ~/work/FMI.jl/FMI.jl/src/FMI2/sim.jl:407\u001b[39m\n",
      "      From worker 3:\t\u001b[33m\u001b[1m┌ \u001b[22m\u001b[39m\u001b[33m\u001b[1mWarning: \u001b[22m\u001b[39mFMU simulation failed with solver return code `Success`, please check log for hints.\n",
      "      From worker 3:\t\u001b[33m\u001b[1m└ \u001b[22m\u001b[39m\u001b[90m@ FMI ~/work/FMI.jl/FMI.jl/src/FMI2/sim.jl:407\u001b[39m\n",
      "      From worker 2:\t\u001b[33m\u001b[1m┌ \u001b[22m\u001b[39m\u001b[33m\u001b[1mWarning: \u001b[22m\u001b[39mFMU simulation failed with solver return code `Success`, please check log for hints.\n",
      "      From worker 2:\t\u001b[33m\u001b[1m└ \u001b[22m\u001b[39m\u001b[90m@ FMI ~/work/FMI.jl/FMI.jl/src/FMI2/sim.jl:407\u001b[39m\n",
      "      From worker 3:\t\u001b[33m\u001b[1m┌ \u001b[22m\u001b[39m\u001b[33m\u001b[1mWarning: \u001b[22m\u001b[39mFMU simulation failed with solver return code `Success`, please check log for hints.\n",
      "      From worker 3:\t\u001b[33m\u001b[1m└ \u001b[22m\u001b[39m\u001b[90m@ FMI ~/work/FMI.jl/FMI.jl/src/FMI2/sim.jl:407\u001b[39m\n",
      "      From worker 2:\t\u001b[33m\u001b[1m┌ \u001b[22m\u001b[39m\u001b[33m\u001b[1mWarning: \u001b[22m\u001b[39mFMU simulation failed with solver return code `Success`, please check log for hints.\n",
      "      From worker 2:\t\u001b[33m\u001b[1m└ \u001b[22m\u001b[39m\u001b[90m@ FMI ~/work/FMI.jl/FMI.jl/src/FMI2/sim.jl:407\u001b[39m\n",
      "      From worker 3:\t\u001b[33m\u001b[1m┌ \u001b[22m\u001b[39m\u001b[33m\u001b[1mWarning: \u001b[22m\u001b[39mFMU simulation failed with solver return code `Success`, please check log for hints.\n",
      "      From worker 3:\t\u001b[33m\u001b[1m└ \u001b[22m\u001b[39m\u001b[90m@ FMI ~/work/FMI.jl/FMI.jl/src/FMI2/sim.jl:407\u001b[39m\n",
      "      From worker 2:\t\u001b[33m\u001b[1m┌ \u001b[22m\u001b[39m\u001b[33m\u001b[1mWarning: \u001b[22m\u001b[39mFMU simulation failed with solver return code `Success`, please check log for hints.\n",
      "      From worker 2:\t\u001b[33m\u001b[1m└ \u001b[22m\u001b[39m\u001b[90m@ FMI ~/work/FMI.jl/FMI.jl/src/FMI2/sim.jl:407\u001b[39m\n",
      "      From worker 3:\t\u001b[33m\u001b[1m┌ \u001b[22m\u001b[39m\u001b[33m\u001b[1mWarning: \u001b[22m\u001b[39mFMU simulation failed with solver return code `Success`, please check log for hints.\n",
      "      From worker 3:\t\u001b[33m\u001b[1m└ \u001b[22m\u001b[39m\u001b[90m@ FMI ~/work/FMI.jl/FMI.jl/src/FMI2/sim.jl:407\u001b[39m\n",
      "      From worker 2:\t\u001b[33m\u001b[1m┌ \u001b[22m\u001b[39m\u001b[33m\u001b[1mWarning: \u001b[22m\u001b[39mFMU simulation failed with solver return code `Success`, please check log for hints.\n",
      "      From worker 2:\t\u001b[33m\u001b[1m└ \u001b[22m\u001b[39m\u001b[90m@ FMI ~/work/FMI.jl/FMI.jl/src/FMI2/sim.jl:407\u001b[39m\n",
      "      From worker 3:\t\u001b[33m\u001b[1m┌ \u001b[22m\u001b[39m\u001b[33m\u001b[1mWarning: \u001b[22m\u001b[39mFMU simulation failed with solver return code `Success`, please check log for hints.\n",
      "      From worker 3:\t\u001b[33m\u001b[1m└ \u001b[22m\u001b[39m\u001b[90m@ FMI ~/work/FMI.jl/FMI.jl/src/FMI2/sim.jl:407\u001b[39m\n",
      "      From worker 2:\t\u001b[33m\u001b[1m┌ \u001b[22m\u001b[39m\u001b[33m\u001b[1mWarning: \u001b[22m\u001b[39mFMU simulation failed with solver return code `Success`, please check log for hints.\n",
      "      From worker 2:\t\u001b[33m\u001b[1m└ \u001b[22m\u001b[39m\u001b[90m@ FMI ~/work/FMI.jl/FMI.jl/src/FMI2/sim.jl:407\u001b[39m\n",
      "      From worker 3:\t\u001b[33m\u001b[1m┌ \u001b[22m\u001b[39m\u001b[33m\u001b[1mWarning: \u001b[22m\u001b[39mFMU simulation failed with solver return code `Success`, please check log for hints.\n",
      "      From worker 3:\t\u001b[33m\u001b[1m└ \u001b[22m\u001b[39m\u001b[90m@ FMI ~/work/FMI.jl/FMI.jl/src/FMI2/sim.jl:407\u001b[39m\n",
      "      From worker 2:\t\u001b[33m\u001b[1m┌ \u001b[22m\u001b[39m\u001b[33m\u001b[1mWarning: \u001b[22m\u001b[39mFMU simulation failed with solver return code `Success`, please check log for hints.\n",
      "      From worker 2:\t\u001b[33m\u001b[1m└ \u001b[22m\u001b[39m\u001b[90m@ FMI ~/work/FMI.jl/FMI.jl/src/FMI2/sim.jl:407\u001b[39m\n",
      "      From worker 3:\t\u001b[33m\u001b[1m┌ \u001b[22m\u001b[39m\u001b[33m\u001b[1mWarning: \u001b[22m\u001b[39mFMU simulation failed with solver return code `Success`, please check log for hints.\n",
      "      From worker 3:\t\u001b[33m\u001b[1m└ \u001b[22m\u001b[39m\u001b[90m@ FMI ~/work/FMI.jl/FMI.jl/src/FMI2/sim.jl:407\u001b[39m\n",
      "      From worker 2:\t\u001b[33m\u001b[1m┌ \u001b[22m\u001b[39m\u001b[33m\u001b[1mWarning: \u001b[22m\u001b[39mFMU simulation failed with solver return code `Success`, please check log for hints.\n",
      "      From worker 2:\t\u001b[33m\u001b[1m└ \u001b[22m\u001b[39m\u001b[90m@ FMI ~/work/FMI.jl/FMI.jl/src/FMI2/sim.jl:407\u001b[39m\n",
      "      From worker 3:\t\u001b[33m\u001b[1m┌ \u001b[22m\u001b[39m\u001b[33m\u001b[1mWarning: \u001b[22m\u001b[39mFMU simulation failed with solver return code `Success`, please check log for hints.\n",
      "      From worker 3:\t\u001b[33m\u001b[1m└ \u001b[22m\u001b[39m\u001b[90m@ FMI ~/work/FMI.jl/FMI.jl/src/FMI2/sim.jl:407\u001b[39m\n",
      "      From worker 2:\t\u001b[33m\u001b[1m┌ \u001b[22m\u001b[39m\u001b[33m\u001b[1mWarning: \u001b[22m\u001b[39mFMU simulation failed with solver return code `Success`, please check log for hints.\n",
      "      From worker 2:\t\u001b[33m\u001b[1m└ \u001b[22m\u001b[39m\u001b[90m@ FMI ~/work/FMI.jl/FMI.jl/src/FMI2/sim.jl:407\u001b[39m\n",
      "      From worker 3:\t\u001b[33m\u001b[1m┌ \u001b[22m\u001b[39m\u001b[33m\u001b[1mWarning: \u001b[22m\u001b[39mFMU simulation failed with solver return code `Success`, please check log for hints.\n",
      "      From worker 3:\t\u001b[33m\u001b[1m└ \u001b[22m\u001b[39m\u001b[90m@ FMI ~/work/FMI.jl/FMI.jl/src/FMI2/sim.jl:407\u001b[39m\n",
      "      From worker 2:\t\u001b[33m\u001b[1m┌ \u001b[22m\u001b[39m\u001b[33m\u001b[1mWarning: \u001b[22m\u001b[39mFMU simulation failed with solver return code `Success`, please check log for hints.\n",
      "      From worker 2:\t\u001b[33m\u001b[1m└ \u001b[22m\u001b[39m\u001b[90m@ FMI ~/work/FMI.jl/FMI.jl/src/FMI2/sim.jl:407\u001b[39m\n",
      "      From worker 3:\t\u001b[33m\u001b[1m┌ \u001b[22m\u001b[39m\u001b[33m\u001b[1mWarning: \u001b[22m\u001b[39mFMU simulation failed with solver return code `Success`, please check log for hints.\n",
      "      From worker 3:\t\u001b[33m\u001b[1m└ \u001b[22m\u001b[39m\u001b[90m@ FMI ~/work/FMI.jl/FMI.jl/src/FMI2/sim.jl:407\u001b[39m\n",
      "      From worker 2:\t\u001b[33m\u001b[1m┌ \u001b[22m\u001b[39m\u001b[33m\u001b[1mWarning: \u001b[22m\u001b[39mFMU simulation failed with solver return code `Success`, please check log for hints.\n",
      "      From worker 2:\t\u001b[33m\u001b[1m└ \u001b[22m\u001b[39m\u001b[90m@ FMI ~/work/FMI.jl/FMI.jl/src/FMI2/sim.jl:407\u001b[39m\n",
      "      From worker 3:\t\u001b[33m\u001b[1m┌ \u001b[22m\u001b[39m\u001b[33m\u001b[1mWarning: \u001b[22m\u001b[39mFMU simulation failed with solver return code `Success`, please check log for hints.\n",
      "      From worker 3:\t\u001b[33m\u001b[1m└ \u001b[22m\u001b[39m\u001b[90m@ FMI ~/work/FMI.jl/FMI.jl/src/FMI2/sim.jl:407\u001b[39m\n",
      "      From worker 2:\t\u001b[33m\u001b[1m┌ \u001b[22m\u001b[39m\u001b[33m\u001b[1mWarning: \u001b[22m\u001b[39mFMU simulation failed with solver return code `Success`, please check log for hints.\n",
      "      From worker 2:\t\u001b[33m\u001b[1m└ \u001b[22m\u001b[39m\u001b[90m@ FMI ~/work/FMI.jl/FMI.jl/src/FMI2/sim.jl:407\u001b[39m\n",
      "      From worker 3:\t\u001b[33m\u001b[1m┌ \u001b[22m\u001b[39m\u001b[33m\u001b[1mWarning: \u001b[22m\u001b[39mFMU simulation failed with solver return code `Success`, please check log for hints.\n",
      "      From worker 3:\t\u001b[33m\u001b[1m└ \u001b[22m\u001b[39m\u001b[90m@ FMI ~/work/FMI.jl/FMI.jl/src/FMI2/sim.jl:407\u001b[39m\n",
      "      From worker 2:\t\u001b[33m\u001b[1m┌ \u001b[22m\u001b[39m\u001b[33m\u001b[1mWarning: \u001b[22m\u001b[39mFMU simulation failed with solver return code `Success`, please check log for hints.\n",
      "      From worker 2:\t\u001b[33m\u001b[1m└ \u001b[22m\u001b[39m\u001b[90m@ FMI ~/work/FMI.jl/FMI.jl/src/FMI2/sim.jl:407\u001b[39m\n",
      "      From worker 3:\t\u001b[33m\u001b[1m┌ \u001b[22m\u001b[39m\u001b[33m\u001b[1mWarning: \u001b[22m\u001b[39mFMU simulation failed with solver return code `Success`, please check log for hints.\n",
      "      From worker 3:\t\u001b[33m\u001b[1m└ \u001b[22m\u001b[39m\u001b[90m@ FMI ~/work/FMI.jl/FMI.jl/src/FMI2/sim.jl:407\u001b[39m\n",
      "      From worker 2:\t\u001b[33m\u001b[1m┌ \u001b[22m\u001b[39m\u001b[33m\u001b[1mWarning: \u001b[22m\u001b[39mFMU simulation failed with solver return code `Success`, please check log for hints.\n",
      "      From worker 2:\t\u001b[33m\u001b[1m└ \u001b[22m\u001b[39m\u001b[90m@ FMI ~/work/FMI.jl/FMI.jl/src/FMI2/sim.jl:407\u001b[39m\n",
      "      From worker 3:\t\u001b[33m\u001b[1m┌ \u001b[22m\u001b[39m\u001b[33m\u001b[1mWarning: \u001b[22m\u001b[39mFMU simulation failed with solver return code `Success`, please check log for hints.\n",
      "      From worker 3:\t\u001b[33m\u001b[1m└ \u001b[22m\u001b[39m\u001b[90m@ FMI ~/work/FMI.jl/FMI.jl/src/FMI2/sim.jl:407\u001b[39m\n",
      "      From worker 2:\t\u001b[33m\u001b[1m┌ \u001b[22m\u001b[39m\u001b[33m\u001b[1mWarning: \u001b[22m\u001b[39mFMU simulation failed with solver return code `Success`, please check log for hints.\n",
      "      From worker 2:\t\u001b[33m\u001b[1m└ \u001b[22m\u001b[39m\u001b[90m@ FMI ~/work/FMI.jl/FMI.jl/src/FMI2/sim.jl:407\u001b[39m\n"
     ]
    },
    {
     "data": {
      "text/plain": [
       "BenchmarkTools.Trial: 1 sample with 1 evaluation.\n",
       " Single result which took \u001b[34m7.447 s\u001b[39m (0.00% GC) to evaluate,\n",
       " with a memory estimate of \u001b[33m282.16 KiB\u001b[39m, over \u001b[33m3715\u001b[39m allocations."
      ]
     },
     "execution_count": 10,
     "metadata": {},
     "output_type": "execute_result"
    }
   ],
   "source": [
    "println(\"Multi Threaded\")\n",
    "@benchmark pmap(i -> runCalcFormatted(SharedModule.model_fmu, i), input_values)"
   ]
  },
  {
   "cell_type": "markdown",
   "metadata": {},
   "source": [
    "As you can see, there is a significant speed-up in the median execution time. But: The speed-up is often much smaller than `n_procs` (or the number of physical cores of your CPU), this has different reasons. For a rule of thumb, the speed-up should be around `n/2` on a `n`-core-processor with `n` Julia processes."
   ]
  },
  {
   "cell_type": "markdown",
   "metadata": {},
   "source": [
    "### Unload FMU\n",
    "\n",
    "After calculating the data, the FMU is unloaded and all unpacked data on disc is removed."
   ]
  },
  {
   "cell_type": "code",
   "execution_count": 11,
   "metadata": {
    "execution": {
     "iopub.execute_input": "2023-03-07T15:55:09.161000Z",
     "iopub.status.busy": "2023-03-07T15:55:09.161000Z",
     "iopub.status.idle": "2023-03-07T15:55:09.228000Z",
     "shell.execute_reply": "2023-03-07T15:55:09.228000Z"
    }
   },
   "outputs": [],
   "source": [
    "@everywhere fmiUnload(SharedModule.model_fmu)"
   ]
  },
  {
   "cell_type": "markdown",
   "metadata": {},
   "source": [
    "### Summary\n",
    "\n",
    "In this tutorial it is shown how multi processing with `Distributed.jl` can be used to improve the performance for calculating a Batch of FMUs."
   ]
  }
 ],
 "metadata": {
  "kernelspec": {
   "display_name": "Julia 1.8.2",
   "language": "julia",
   "name": "julia-1.8"
  },
  "language_info": {
   "file_extension": ".jl",
   "mimetype": "application/julia",
   "name": "julia",
   "version": "1.7.3"
  }
 },
 "nbformat": 4,
 "nbformat_minor": 2
}
