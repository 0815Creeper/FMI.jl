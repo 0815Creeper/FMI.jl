{
 "cells": [
  {
   "cell_type": "markdown",
   "metadata": {},
   "source": [
    "# Parameterize a FMU\n",
    "Tutorial by Tobias Thummerer, Johannes Stoljar\n",
    "\n",
    "Last update: 09.08.2023\n",
    "\n",
    "🚧 This tutorial is under revision and will be replaced by an up-to-date version soon 🚧\n",
    "\n",
    "## License"
   ]
  },
  {
   "cell_type": "code",
   "execution_count": 1,
   "metadata": {
    "execution": {
     "iopub.execute_input": "2024-09-18T06:56:07.307000Z",
     "iopub.status.busy": "2024-09-18T06:56:06.869000Z",
     "iopub.status.idle": "2024-09-18T06:56:07.588000Z",
     "shell.execute_reply": "2024-09-18T06:56:07.542000Z"
    }
   },
   "outputs": [],
   "source": [
    "# Copyright (c) 2021 Tobias Thummerer, Lars Mikelsons, Josef Kircher, Johannes Stoljar\n",
    "# Licensed under the MIT license. \n",
    "# See LICENSE (https://github.com/thummeto/FMI.jl/blob/main/LICENSE) file in the project root for details."
   ]
  },
  {
   "attachments": {},
   "cell_type": "markdown",
   "metadata": {},
   "source": [
    "## Introduction\n",
    "This example shows how to parameterize a FMU. We will show to possible ways to parameterize: The default option using the parameterization feature of `fmiSimulate`, `fmiSimulateME` or `fmiSimulateCS`. Second, a custom parameterization routine for advanced users. \n",
    "\n",
    "## Other formats\n",
    "Besides, this [Jupyter Notebook](https://github.com/thummeto/FMI.jl/blob/examples/examples/src/parameterize.ipynb) there is also a [Julia file](https://github.com/thummeto/FMI.jl/blob/examples/examples/src/parameterize.jl) with the same name, which contains only the code cells and for the documentation there is a [Markdown file](https://github.com/thummeto/FMI.jl/blob/examples/examples/src/parameterize.md) corresponding to the notebook.  "
   ]
  },
  {
   "cell_type": "markdown",
   "metadata": {},
   "source": [
    "## Code section\n",
    "\n",
    "To run the example, the previously installed packages must be included. "
   ]
  },
  {
   "cell_type": "code",
   "execution_count": 2,
   "metadata": {
    "execution": {
     "iopub.execute_input": "2024-09-18T06:56:07.588000Z",
     "iopub.status.busy": "2024-09-18T06:56:07.588000Z",
     "iopub.status.idle": "2024-09-18T06:56:10.950000Z",
     "shell.execute_reply": "2024-09-18T06:56:10.950000Z"
    },
    "scrolled": false
   },
   "outputs": [],
   "source": [
    "# imports\n",
    "using FMI\n",
    "using FMIZoo"
   ]
  },
  {
   "cell_type": "markdown",
   "metadata": {},
   "source": [
    "### Simulation setup\n",
    "\n",
    "Next, the start time and end time of the simulation are set."
   ]
  },
  {
   "cell_type": "code",
   "execution_count": 3,
   "metadata": {
    "execution": {
     "iopub.execute_input": "2024-09-18T06:56:11.091000Z",
     "iopub.status.busy": "2024-09-18T06:56:10.966000Z",
     "iopub.status.idle": "2024-09-18T06:56:13.514000Z",
     "shell.execute_reply": "2024-09-18T06:56:13.514000Z"
    },
    "scrolled": false
   },
   "outputs": [
    {
     "data": {
      "text/plain": [
       "2-element Vector{Float64}:\n",
       " 0.0\n",
       " 1.0"
      ]
     },
     "execution_count": 3,
     "metadata": {},
     "output_type": "execute_result"
    }
   ],
   "source": [
    "tStart = 0.0\n",
    "tStop = 1.0\n",
    "tSave = collect(tStart:tStop)"
   ]
  },
  {
   "cell_type": "markdown",
   "metadata": {},
   "source": [
    "### Import FMU\n",
    "\n",
    "In the next lines of code the FMU model from *FMIZoo.jl* is loaded and the information about the FMU is shown."
   ]
  },
  {
   "cell_type": "code",
   "execution_count": 4,
   "metadata": {
    "execution": {
     "iopub.execute_input": "2024-09-18T06:56:13.546000Z",
     "iopub.status.busy": "2024-09-18T06:56:13.546000Z",
     "iopub.status.idle": "2024-09-18T06:56:19.235000Z",
     "shell.execute_reply": "2024-09-18T06:56:19.235000Z"
    },
    "scrolled": false
   },
   "outputs": [
    {
     "name": "stdout",
     "output_type": "stream",
     "text": [
      "#################### Begin information for FMU ####################\n",
      "\tModel name:\t\t\tIO\n",
      "\tFMI-Version:\t\t\t2.0\n",
      "\tGUID:\t\t\t\t{889089a6-481b-41a6-a282-f6ce02a33aa6}\n",
      "\tGeneration tool:\t\tDymola Version 2022x (64-bit), 2021-10-08\n",
      "\tGeneration time:\t\t2022-05-19T06:53:52Z\n",
      "\tVar. naming conv.:\t\tstructured\n",
      "\tEvent indicators:\t\t4\n",
      "\tInputs:\t\t\t\t3\n",
      "\t\t352321536 [\"u_real\"]\n",
      "\t\t352321537 [\"u_boolean\"]\n",
      "\t\t352321538 [\"u_integer\"]\n",
      "\tOutputs:\t\t\t3\n",
      "\t\t335544320 [\"y_real\"]\n",
      "\t\t335544321 [\"y_boolean\"]\n",
      "\t\t335544322 [\"y_integer\"]\n",
      "\tStates:\t\t\t\t0\n",
      "\tParameters:\t\t\t5\n",
      "\t\t16777216 [\"p_real\"]\n",
      "\t\t16777217 [\"p_integer\"]\n",
      "\t\t16777218 [\"p_boolean\"]\n",
      "\t\t16777219 [\"p_enumeration\"]\n",
      "\t\t134217728 [\"p_string\"]\n",
      "\tSupports Co-Simulation:\t\ttrue\n",
      "\t\tModel identifier:\tIO\n",
      "\t\tGet/Set State:\t\ttrue\n",
      "\t\tSerialize State:\ttrue\n",
      "\t\tDir. Derivatives:\ttrue\n",
      "\t\tVar. com. steps:\ttrue\n",
      "\t\tInput interpol.:\ttrue\n",
      "\t\tMax order out. der.:\t1\n",
      "\tSupports Model-Exchange:\ttrue\n",
      "\t\tModel identifier:\tIO\n",
      "\t\tGet/Set State:\t\ttrue\n",
      "\t\tSerialize State:\ttrue\n",
      "\t\tDir. Derivatives:\ttrue\n",
      "##################### End information for FMU #####################\n"
     ]
    }
   ],
   "source": [
    "# we use an FMU from the FMIZoo.jl\n",
    "# just replace this line with a local path if you want to use your own FMU\n",
    "pathToFMU = get_model_filename(\"IO\", \"Dymola\", \"2022x\")\n",
    "\n",
    "fmu = loadFMU(pathToFMU)\n",
    "info(fmu)"
   ]
  },
  {
   "cell_type": "markdown",
   "metadata": {},
   "source": [
    "### Option A: Integrated parameterization feature of *FMI.jl*\n",
    "If you are using the commands for simulation integrated in *FMI.jl*, the parameters and initial conditions are set at the correct locations during the initialization process of your FMU. This is the recommended way of parameterizing your model, if you don't have very uncommon requirements regarding initialization."
   ]
  },
  {
   "cell_type": "code",
   "execution_count": 5,
   "metadata": {
    "execution": {
     "iopub.execute_input": "2024-09-18T06:56:19.250000Z",
     "iopub.status.busy": "2024-09-18T06:56:19.250000Z",
     "iopub.status.idle": "2024-09-18T06:56:19.767000Z",
     "shell.execute_reply": "2024-09-18T06:56:19.767000Z"
    }
   },
   "outputs": [
    {
     "data": {
      "text/plain": [
       "Dict{String, Any}()"
      ]
     },
     "execution_count": 5,
     "metadata": {},
     "output_type": "execute_result"
    }
   ],
   "source": [
    "dict = Dict{String, Any}()\n",
    "dict"
   ]
  },
  {
   "cell_type": "markdown",
   "metadata": {},
   "source": [
    "### Option B: Custom parameterization routine\n",
    "If you have special requirements for initialization and parameterization, you can write your very own parameterization routine.\n",
    "\n",
    "### Instantiate and Setup FMU\n",
    "\n",
    "Next it is necessary to create an instance of the FMU. This is achieved by the command `fmiInstantiate!()`."
   ]
  },
  {
   "cell_type": "code",
   "execution_count": 6,
   "metadata": {
    "execution": {
     "iopub.execute_input": "2024-09-18T06:56:19.767000Z",
     "iopub.status.busy": "2024-09-18T06:56:19.767000Z",
     "iopub.status.idle": "2024-09-18T06:56:20.674000Z",
     "shell.execute_reply": "2024-09-18T06:56:20.674000Z"
    }
   },
   "outputs": [
    {
     "data": {
      "text/plain": [
       "FMU:            IO\n",
       "    InstanceName:   IO\n",
       "    Address:        Ptr{Nothing} @0x000001b52afc4960\n",
       "    State:          0\n",
       "    Logging:        true\n",
       "    FMU time:       -Inf\n",
       "    FMU states:     nothing"
      ]
     },
     "execution_count": 6,
     "metadata": {},
     "output_type": "execute_result"
    }
   ],
   "source": [
    "c = fmi2Instantiate!(fmu; loggingOn=true)"
   ]
  },
  {
   "cell_type": "markdown",
   "metadata": {},
   "source": [
    "In the following code block, start and end time for the simulation is set by the `fmiSetupExperiment()` command."
   ]
  },
  {
   "cell_type": "code",
   "execution_count": 7,
   "metadata": {
    "execution": {
     "iopub.execute_input": "2024-09-18T06:56:20.674000Z",
     "iopub.status.busy": "2024-09-18T06:56:20.674000Z",
     "iopub.status.idle": "2024-09-18T06:56:20.846000Z",
     "shell.execute_reply": "2024-09-18T06:56:20.846000Z"
    }
   },
   "outputs": [
    {
     "data": {
      "text/plain": [
       "0x00000000"
      ]
     },
     "execution_count": 7,
     "metadata": {},
     "output_type": "execute_result"
    }
   ],
   "source": [
    "fmi2SetupExperiment(c, tStart, tStop)"
   ]
  },
  {
   "cell_type": "markdown",
   "metadata": {},
   "source": [
    "### Parameterize FMU\n",
    "\n",
    "In this example, for each data type (`real`, `boolean`, `integer` and `string`) a corresponding input or parameter is selected. From here on, the inputs and parameters will be referred to as parameters for simplicity."
   ]
  },
  {
   "cell_type": "code",
   "execution_count": 8,
   "metadata": {
    "execution": {
     "iopub.execute_input": "2024-09-18T06:56:20.846000Z",
     "iopub.status.busy": "2024-09-18T06:56:20.846000Z",
     "iopub.status.idle": "2024-09-18T06:56:21.205000Z",
     "shell.execute_reply": "2024-09-18T06:56:21.205000Z"
    }
   },
   "outputs": [
    {
     "data": {
      "text/plain": [
       "4-element Vector{String}:\n",
       " \"p_real\"\n",
       " \"p_boolean\"\n",
       " \"p_integer\"\n",
       " \"p_string\""
      ]
     },
     "execution_count": 8,
     "metadata": {},
     "output_type": "execute_result"
    }
   ],
   "source": [
    "params = [\"p_real\", \"p_boolean\", \"p_integer\", \"p_string\"]"
   ]
  },
  {
   "cell_type": "markdown",
   "metadata": {},
   "source": [
    "At the beginning we want to display the initial state of these parameters, for which the FMU must be in initialization mode. The next function `fmiEnterInitializationMode()` informs the FMU to enter the initialization mode. Before calling this function, the variables can be set. Furthermore, `fmiSetupExperiment()` must be called at least once before calling `fmiEnterInitializationMode()`, in order that the start time is defined."
   ]
  },
  {
   "cell_type": "code",
   "execution_count": 9,
   "metadata": {
    "execution": {
     "iopub.execute_input": "2024-09-18T06:56:21.205000Z",
     "iopub.status.busy": "2024-09-18T06:56:21.205000Z",
     "iopub.status.idle": "2024-09-18T06:56:21.236000Z",
     "shell.execute_reply": "2024-09-18T06:56:21.236000Z"
    },
    "scrolled": true
   },
   "outputs": [
    {
     "data": {
      "text/plain": [
       "0x00000000"
      ]
     },
     "execution_count": 9,
     "metadata": {},
     "output_type": "execute_result"
    }
   ],
   "source": [
    "fmi2EnterInitializationMode(c)"
   ]
  },
  {
   "cell_type": "markdown",
   "metadata": {},
   "source": [
    "The initial state of these parameters are displayed with the function `getValue()`."
   ]
  },
  {
   "cell_type": "code",
   "execution_count": 10,
   "metadata": {
    "execution": {
     "iopub.execute_input": "2024-09-18T06:56:21.236000Z",
     "iopub.status.busy": "2024-09-18T06:56:21.236000Z",
     "iopub.status.idle": "2024-09-18T06:56:21.924000Z",
     "shell.execute_reply": "2024-09-18T06:56:21.924000Z"
    }
   },
   "outputs": [
    {
     "data": {
      "text/plain": [
       "4-element Vector{Any}:\n",
       " 0.0\n",
       " 0\n",
       " 0\n",
       "  \"Hello World!\""
      ]
     },
     "execution_count": 10,
     "metadata": {},
     "output_type": "execute_result"
    }
   ],
   "source": [
    "getValue(c, params)"
   ]
  },
  {
   "cell_type": "markdown",
   "metadata": {},
   "source": [
    "The initialization mode is terminated with the function `fmi2ExitInitializationMode()`. (For the model exchange FMU type, this function switches off all initialization equations, and enters the event mode implicitly.)"
   ]
  },
  {
   "cell_type": "code",
   "execution_count": 11,
   "metadata": {
    "execution": {
     "iopub.execute_input": "2024-09-18T06:56:21.924000Z",
     "iopub.status.busy": "2024-09-18T06:56:21.924000Z",
     "iopub.status.idle": "2024-09-18T06:56:21.955000Z",
     "shell.execute_reply": "2024-09-18T06:56:21.955000Z"
    }
   },
   "outputs": [
    {
     "data": {
      "text/plain": [
       "0x00000000"
      ]
     },
     "execution_count": 11,
     "metadata": {},
     "output_type": "execute_result"
    }
   ],
   "source": [
    "fmi2ExitInitializationMode(c)"
   ]
  },
  {
   "cell_type": "markdown",
   "metadata": {},
   "source": [
    "In the next step, a function is defined that generates a random value for each parameter. For the parameter `p_string` a random number is inserted into the string. All parameters are combined to a tuple and output."
   ]
  },
  {
   "cell_type": "code",
   "execution_count": 12,
   "metadata": {
    "execution": {
     "iopub.execute_input": "2024-09-18T06:56:21.955000Z",
     "iopub.status.busy": "2024-09-18T06:56:21.955000Z",
     "iopub.status.idle": "2024-09-18T06:56:22.111000Z",
     "shell.execute_reply": "2024-09-18T06:56:22.111000Z"
    }
   },
   "outputs": [
    {
     "data": {
      "text/plain": [
       "generateRandomNumbers (generic function with 1 method)"
      ]
     },
     "execution_count": 12,
     "metadata": {},
     "output_type": "execute_result"
    }
   ],
   "source": [
    "function generateRandomNumbers()\n",
    "    rndReal = 100 * rand()\n",
    "    rndBoolean = rand() > 0.5\n",
    "    rndInteger = round(Integer, 100 * rand())\n",
    "    rndString = \"Random number $(100 * rand())!\"\n",
    "\n",
    "    return rndReal, rndBoolean, rndInteger, rndString\n",
    "end"
   ]
  },
  {
   "cell_type": "markdown",
   "metadata": {},
   "source": [
    "The previously defined function is called and the results are displayed in the console."
   ]
  },
  {
   "cell_type": "code",
   "execution_count": 13,
   "metadata": {
    "execution": {
     "iopub.execute_input": "2024-09-18T06:56:22.111000Z",
     "iopub.status.busy": "2024-09-18T06:56:22.111000Z",
     "iopub.status.idle": "2024-09-18T06:56:22.331000Z",
     "shell.execute_reply": "2024-09-18T06:56:22.331000Z"
    }
   },
   "outputs": [
    {
     "data": {
      "text/plain": [
       "(24.245508141191518, false, 82, \"Random number 12.965687189939501!\")"
      ]
     },
     "execution_count": 13,
     "metadata": {},
     "output_type": "execute_result"
    }
   ],
   "source": [
    "paramsVal = generateRandomNumbers()"
   ]
  },
  {
   "cell_type": "markdown",
   "metadata": {},
   "source": [
    "#### First variant\n",
    "\n",
    "To show the first variant, it is necessary to terminate and reset the FMU instance. Then, as before, the setup command must be called for the FMU. "
   ]
  },
  {
   "cell_type": "code",
   "execution_count": 14,
   "metadata": {
    "execution": {
     "iopub.execute_input": "2024-09-18T06:56:22.331000Z",
     "iopub.status.busy": "2024-09-18T06:56:22.331000Z",
     "iopub.status.idle": "2024-09-18T06:56:22.393000Z",
     "shell.execute_reply": "2024-09-18T06:56:22.393000Z"
    }
   },
   "outputs": [
    {
     "data": {
      "text/plain": [
       "0x00000000"
      ]
     },
     "execution_count": 14,
     "metadata": {},
     "output_type": "execute_result"
    }
   ],
   "source": [
    "fmi2Terminate(c)\n",
    "fmi2Reset(c)\n",
    "fmi2SetupExperiment(c, tStart, tStop)"
   ]
  },
  {
   "cell_type": "markdown",
   "metadata": {},
   "source": [
    "In the next step it is possible to set the parameters for the FMU. With the first variant it is quickly possible to set all parameters at once. Even different data types can be set with only one command. The command `setValue()` selects itself which function is chosen for which data type.  As long as the output of the function gives the status code 0, setting the parameters has worked."
   ]
  },
  {
   "cell_type": "code",
   "execution_count": 15,
   "metadata": {
    "execution": {
     "iopub.execute_input": "2024-09-18T06:56:22.393000Z",
     "iopub.status.busy": "2024-09-18T06:56:22.393000Z",
     "iopub.status.idle": "2024-09-18T06:56:23.143000Z",
     "shell.execute_reply": "2024-09-18T06:56:23.143000Z"
    }
   },
   "outputs": [
    {
     "data": {
      "text/plain": [
       "4-element Vector{UInt32}:\n",
       " 0x00000000\n",
       " 0x00000000\n",
       " 0x00000000\n",
       " 0x00000000"
      ]
     },
     "execution_count": 15,
     "metadata": {},
     "output_type": "execute_result"
    }
   ],
   "source": [
    "setValue(c, params, collect(paramsVal))"
   ]
  },
  {
   "cell_type": "markdown",
   "metadata": {},
   "source": [
    "After setting the parameters, it can be checked whether the corresponding parameters were set correctly. For this the function `getValue()` can be used as above. To be able to call the function `getValue()` the FMU must be in initialization mode."
   ]
  },
  {
   "cell_type": "code",
   "execution_count": 16,
   "metadata": {
    "execution": {
     "iopub.execute_input": "2024-09-18T06:56:23.143000Z",
     "iopub.status.busy": "2024-09-18T06:56:23.143000Z",
     "iopub.status.idle": "2024-09-18T06:56:23.159000Z",
     "shell.execute_reply": "2024-09-18T06:56:23.159000Z"
    }
   },
   "outputs": [
    {
     "data": {
      "text/plain": [
       "0x00000000"
      ]
     },
     "execution_count": 16,
     "metadata": {},
     "output_type": "execute_result"
    }
   ],
   "source": [
    "fmi2EnterInitializationMode(c)\n",
    "# getValue(c, params)\n",
    "fmi2ExitInitializationMode(c)"
   ]
  },
  {
   "cell_type": "markdown",
   "metadata": {},
   "source": [
    "Now the FMU has been initialized correctly, the FMU can be simulated. The `simulate()` command is used for this purpose. It must be pointed out that the keywords `instantiate=false`, `setup=false` must be set. The keyword `instantiate=false` prevents the simulation command from creating a new FMU instance, otherwise our parameterization will be lost. The keyword `setup=false` prevents the FMU from calling the initialization mode again. The additionally listed keyword `freeInstance=false` prevents that the instance is removed after the simulation. This is only needed in this example, because we want to continue working on the created instance. Another keyword is the `recordValues=parmas[1:3]`, which saves: `p_real`, `p_boolean` and `p_integer` as output. It should be noted that the `simulate()` function is not capable of outputting string values, so `p_string` is omitted."
   ]
  },
  {
   "cell_type": "code",
   "execution_count": 17,
   "metadata": {
    "execution": {
     "iopub.execute_input": "2024-09-18T06:56:23.159000Z",
     "iopub.status.busy": "2024-09-18T06:56:23.159000Z",
     "iopub.status.idle": "2024-09-18T06:56:26.098000Z",
     "shell.execute_reply": "2024-09-18T06:56:26.098000Z"
    }
   },
   "outputs": [
    {
     "data": {
      "text/plain": [
       "Model name:\n",
       "\tIO\n",
       "Success:\n",
       "\ttrue\n",
       "f(x)-Evaluations:\n",
       "\tIn-place: 0\n",
       "\tOut-of-place: 0\n",
       "Jacobian-Evaluations:\n",
       "\t∂ẋ_∂p: 0\n",
       "\t∂ẋ_∂x: 0\n",
       "\t∂ẋ_∂u: 0\n",
       "\t∂y_∂p: 0\n",
       "\t∂y_∂x: 0\n",
       "\t∂y_∂u: 0\n",
       "\t∂e_∂p: 0\n",
       "\t∂e_∂x: 0\n",
       "\t∂e_∂u: 0\n",
       "\t∂xr_∂xl: 0\n",
       "Gradient-Evaluations:\n",
       "\t∂ẋ_∂t: 0\n",
       "\t∂y_∂t: 0\n",
       "\t∂e_∂t: 0\n",
       "Callback-Evaluations:\n",
       "\tCondition (event-indicators): 0\n",
       "\tTime-Choice (event-instances): 0\n",
       "\tAffect (event-handling): 0\n",
       "\tSave values: 0\n",
       "\tSteps completed: 0\n",
       "Values [2]:\n",
       "\t0.0\t(24.245508141191518, 0.0, 82.0)\n",
       "\t1.0\t(24.245508141191518, 0.0, 82.0)\n",
       "Events [0]:\n"
      ]
     },
     "execution_count": 17,
     "metadata": {},
     "output_type": "execute_result"
    }
   ],
   "source": [
    "simData = simulate(c, (tStart, tStop); recordValues=params[1:3], saveat=tSave, \n",
    "                        instantiate=false, setup=false, freeInstance=false, terminate=false, reset=false)"
   ]
  },
  {
   "cell_type": "markdown",
   "metadata": {},
   "source": [
    "#### Second variant\n",
    "\n",
    "To show the second variant, it is necessary to terminate and reset the FMU instance. Then, as before, the setup command must be called for the FMU. "
   ]
  },
  {
   "cell_type": "code",
   "execution_count": 18,
   "metadata": {
    "execution": {
     "iopub.execute_input": "2024-09-18T06:56:26.098000Z",
     "iopub.status.busy": "2024-09-18T06:56:26.098000Z",
     "iopub.status.idle": "2024-09-18T06:56:26.098000Z",
     "shell.execute_reply": "2024-09-18T06:56:26.098000Z"
    }
   },
   "outputs": [
    {
     "data": {
      "text/plain": [
       "0x00000000"
      ]
     },
     "execution_count": 18,
     "metadata": {},
     "output_type": "execute_result"
    }
   ],
   "source": [
    "fmi2Terminate(c)\n",
    "fmi2Reset(c)\n",
    "fmi2SetupExperiment(c, tStart, tStop)"
   ]
  },
  {
   "cell_type": "markdown",
   "metadata": {},
   "source": [
    "To make sure that the functions work it is necessary to generate random numbers again. As shown already, we call the defined function `generateRandomNumbers()` and output the values."
   ]
  },
  {
   "cell_type": "code",
   "execution_count": 19,
   "metadata": {
    "execution": {
     "iopub.execute_input": "2024-09-18T06:56:26.098000Z",
     "iopub.status.busy": "2024-09-18T06:56:26.098000Z",
     "iopub.status.idle": "2024-09-18T06:56:26.114000Z",
     "shell.execute_reply": "2024-09-18T06:56:26.114000Z"
    }
   },
   "outputs": [
    {
     "data": {
      "text/plain": [
       "(60.23156232822594, true, 79, \"Random number 15.113983452159829!\")"
      ]
     },
     "execution_count": 19,
     "metadata": {},
     "output_type": "execute_result"
    }
   ],
   "source": [
    "rndReal, rndBoolean, rndInteger, rndString = generateRandomNumbers()"
   ]
  },
  {
   "cell_type": "markdown",
   "metadata": {},
   "source": [
    "In the second variant, the value for each data type is set separately by the corresponding command. By this variant one has the maximum control and can be sure that also the correct data type is set. "
   ]
  },
  {
   "cell_type": "code",
   "execution_count": 20,
   "metadata": {
    "execution": {
     "iopub.execute_input": "2024-09-18T06:56:26.114000Z",
     "iopub.status.busy": "2024-09-18T06:56:26.114000Z",
     "iopub.status.idle": "2024-09-18T06:56:26.192000Z",
     "shell.execute_reply": "2024-09-18T06:56:26.192000Z"
    }
   },
   "outputs": [
    {
     "data": {
      "text/plain": [
       "0x00000000"
      ]
     },
     "execution_count": 20,
     "metadata": {},
     "output_type": "execute_result"
    }
   ],
   "source": [
    "fmi2SetReal(c, \"p_real\", rndReal)\n",
    "fmi2SetBoolean(c, \"p_boolean\", rndBoolean)\n",
    "fmi2SetInteger(c, \"p_integer\", rndInteger)\n",
    "fmi2SetString(c, \"p_string\", rndString)"
   ]
  },
  {
   "cell_type": "markdown",
   "metadata": {},
   "source": [
    "To illustrate the functionality of the parameterization with the separate functions, the corresponding get function can be also called separately for each data type:\n",
    "* `fmi2SetReal()` &#8660; `fmi2GetReal()`\n",
    "* `fmi2SetBoolean()` &#8660; `fmi2GetBoolean()`\n",
    "* `fmi2SetInteger()` &#8660; `fmi2GetInteger()`\n",
    "* `fmi2SetString()` &#8660; `fmi2GetString()`.\n",
    "\n",
    "As before, the FMU must be in initialization mode."
   ]
  },
  {
   "cell_type": "code",
   "execution_count": 21,
   "metadata": {
    "execution": {
     "iopub.execute_input": "2024-09-18T06:56:26.192000Z",
     "iopub.status.busy": "2024-09-18T06:56:26.192000Z",
     "iopub.status.idle": "2024-09-18T06:56:26.192000Z",
     "shell.execute_reply": "2024-09-18T06:56:26.192000Z"
    }
   },
   "outputs": [
    {
     "data": {
      "text/plain": [
       "0x00000000"
      ]
     },
     "execution_count": 21,
     "metadata": {},
     "output_type": "execute_result"
    }
   ],
   "source": [
    "fmi2EnterInitializationMode(c)\n",
    "# fmi2GetReal(c, \"u_real\")\n",
    "# fmi2GetBoolean(c, \"u_boolean\")\n",
    "# fmi2GetInteger(c, \"u_integer\")\n",
    "# fmi2GetString(c, \"p_string\")\n",
    "fmi2ExitInitializationMode(c)"
   ]
  },
  {
   "cell_type": "markdown",
   "metadata": {},
   "source": [
    "From here on, you may want to simulate the FMU. Please note, that with the default `executionConfig`, it is necessary to prevent a new instantiation using the keyword `instantiate=false`. Otherwise, a new instance is allocated for the simulation-call and the parameters set for the previous instance are not transfered."
   ]
  },
  {
   "cell_type": "code",
   "execution_count": 22,
   "metadata": {
    "execution": {
     "iopub.execute_input": "2024-09-18T06:56:26.192000Z",
     "iopub.status.busy": "2024-09-18T06:56:26.192000Z",
     "iopub.status.idle": "2024-09-18T06:56:26.395000Z",
     "shell.execute_reply": "2024-09-18T06:56:26.395000Z"
    }
   },
   "outputs": [
    {
     "data": {
      "text/plain": [
       "Model name:\n",
       "\tIO\n",
       "Success:\n",
       "\ttrue\n",
       "f(x)-Evaluations:\n",
       "\tIn-place: 0\n",
       "\tOut-of-place: 0\n",
       "Jacobian-Evaluations:\n",
       "\t∂ẋ_∂p: 0\n",
       "\t∂ẋ_∂x: 0\n",
       "\t∂ẋ_∂u: 0\n",
       "\t∂y_∂p: 0\n",
       "\t∂y_∂x: 0\n",
       "\t∂y_∂u: 0\n",
       "\t∂e_∂p: 0\n",
       "\t∂e_∂x: 0\n",
       "\t∂e_∂u: 0\n",
       "\t∂xr_∂xl: 0\n",
       "Gradient-Evaluations:\n",
       "\t∂ẋ_∂t: 0\n",
       "\t∂y_∂t: 0\n",
       "\t∂e_∂t: 0\n",
       "Callback-Evaluations:\n",
       "\tCondition (event-indicators): 0\n",
       "\tTime-Choice (event-instances): 0\n",
       "\tAffect (event-handling): 0\n",
       "\tSave values: 0\n",
       "\tSteps completed: 0\n",
       "Values [2]:\n",
       "\t0.0\t(60.23156232822594, 1.0, 79.0)\n",
       "\t1.0\t(60.23156232822594, 1.0, 79.0)\n",
       "Events [0]:\n"
      ]
     },
     "execution_count": 22,
     "metadata": {},
     "output_type": "execute_result"
    }
   ],
   "source": [
    "simData = simulate(c, (tStart, tStop); recordValues=params[1:3], saveat=tSave, \n",
    "                        instantiate=false, setup=false)"
   ]
  },
  {
   "cell_type": "markdown",
   "metadata": {},
   "source": [
    "### Unload FMU\n",
    "\n",
    "The FMU will be unloaded and all unpacked data on disc will be removed."
   ]
  },
  {
   "cell_type": "code",
   "execution_count": 23,
   "metadata": {
    "execution": {
     "iopub.execute_input": "2024-09-18T06:56:26.395000Z",
     "iopub.status.busy": "2024-09-18T06:56:26.395000Z",
     "iopub.status.idle": "2024-09-18T06:56:26.661000Z",
     "shell.execute_reply": "2024-09-18T06:56:26.661000Z"
    }
   },
   "outputs": [],
   "source": [
    "unloadFMU(fmu)"
   ]
  },
  {
   "cell_type": "markdown",
   "metadata": {},
   "source": [
    "### Summary\n",
    "\n",
    "Based on this tutorial it can be seen that there are two different variants to set and get parameters.These examples should make it clear to the user how parameters can also be set with different data types. As a small reminder, the sequence of commands for the manual parameterization of an FMU is summarized again. \n",
    "\n",
    "`loadFMU()` &#8594; `fmiInstantiate!()` &#8594; `fmiSetupExperiment()` &#8594; `fmiSetXXX()` &#8594; `fmiEnterInitializationMode()` &#8594; `fmiGetXXX()` &#8594; `fmiExitInitializationMode()` &#8594; `simualte()` &#8594; `unloadFMU()`"
   ]
  }
 ],
 "metadata": {
  "interpreter": {
   "hash": "037537ff7419c497b9325f7d495147943224d408cf5d5ed915294a5b960167b0"
  },
  "jupytext": {
   "cell_metadata_filter": "-all",
   "comment_magics": "false",
   "notebook_metadata_filter": "-all"
  },
  "kernelspec": {
   "display_name": "Julia 1.10.5",
   "language": "julia",
   "name": "julia-1.10"
  },
  "language_info": {
   "file_extension": ".jl",
   "mimetype": "application/julia",
   "name": "julia",
   "version": "1.10.5"
  },
  "nteract": {
   "version": "0.28.0"
  }
 },
 "nbformat": 4,
 "nbformat_minor": 2
}
